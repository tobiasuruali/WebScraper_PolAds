{
  "nbformat": 4,
  "nbformat_minor": 0,
  "metadata": {
    "colab": {
      "provenance": [],
      "authorship_tag": "ABX9TyPPMDoo1sGsYVdbgzzOkvQb",
      "include_colab_link": true
    },
    "kernelspec": {
      "name": "python3",
      "display_name": "Python 3"
    },
    "language_info": {
      "name": "python"
    }
  },
  "cells": [
    {
      "cell_type": "markdown",
      "metadata": {
        "id": "view-in-github",
        "colab_type": "text"
      },
      "source": [
        "<a href=\"https://colab.research.google.com/github/tobiasuruali/WebScraper_PolAds/blob/main/05_gpt_sentiment_analysis.ipynb\" target=\"_parent\"><img src=\"https://colab.research.google.com/assets/colab-badge.svg\" alt=\"Open In Colab\"/></a>"
      ]
    },
    {
      "cell_type": "code",
      "source": [
        "#Mount your Google Drive Folders\n",
        "from google.colab import drive\n",
        "drive.mount('/content/drive/')"
      ],
      "metadata": {
        "colab": {
          "base_uri": "https://localhost:8080/"
        },
        "id": "mWm2tXoqKHLc",
        "outputId": "252d3554-7c8d-455b-ea2d-0cd1045dcdb0"
      },
      "execution_count": null,
      "outputs": [
        {
          "output_type": "stream",
          "name": "stdout",
          "text": [
            "Mounted at /content/drive/\n"
          ]
        }
      ]
    },
    {
      "cell_type": "code",
      "source": [
        "!pip -qqq install ipython-autotime\n",
        "%load_ext autotime"
      ],
      "metadata": {
        "colab": {
          "base_uri": "https://localhost:8080/"
        },
        "id": "srexdn8vKoqU",
        "outputId": "f49bb74e-530e-4b8a-9f7b-618361defa41"
      },
      "execution_count": null,
      "outputs": [
        {
          "output_type": "stream",
          "name": "stdout",
          "text": [
            "\u001b[?25l     \u001b[90m━━━━━━━━━━━━━━━━━━━━━━━━━━━━━━━━━━━━━━━━\u001b[0m \u001b[32m0.0/1.6 MB\u001b[0m \u001b[31m?\u001b[0m eta \u001b[36m-:--:--\u001b[0m\r\u001b[2K     \u001b[91m━━━━━━━━━━━━━━━━━━━━━━━━━━\u001b[0m\u001b[90m╺\u001b[0m\u001b[90m━━━━━━━━━━━━━\u001b[0m \u001b[32m1.0/1.6 MB\u001b[0m \u001b[31m31.4 MB/s\u001b[0m eta \u001b[36m0:00:01\u001b[0m\r\u001b[2K     \u001b[90m━━━━━━━━━━━━━━━━━━━━━━━━━━━━━━━━━━━━━━━━\u001b[0m \u001b[32m1.6/1.6 MB\u001b[0m \u001b[31m28.0 MB/s\u001b[0m eta \u001b[36m0:00:00\u001b[0m\n",
            "\u001b[?25htime: 454 µs (started: 2023-04-28 14:02:20 +00:00)\n"
          ]
        }
      ]
    },
    {
      "cell_type": "code",
      "source": [
        "import os\n",
        "os.chdir('/content/drive/MyDrive/Google_Pol_Ads')\n",
        "print(os.listdir())\n",
        "print(os.getcwd())"
      ],
      "metadata": {
        "colab": {
          "base_uri": "https://localhost:8080/"
        },
        "id": "09DWfCDiKvAC",
        "outputId": "6c675e56-4dec-413f-e9ea-cceee530675b"
      },
      "execution_count": null,
      "outputs": [
        {
          "output_type": "stream",
          "name": "stdout",
          "text": [
            "['data', 'env']\n",
            "/content/drive/MyDrive/Google_Pol_Ads\n",
            "time: 5.84 ms (started: 2023-04-28 14:02:20 +00:00)\n"
          ]
        }
      ]
    },
    {
      "cell_type": "code",
      "source": [
        "import pandas as pd\n",
        "\n",
        "# Load the CSV file from Google Drive\n",
        "df_trump = pd.read_csv('data/data_processed/df_trump_text.csv')\n",
        "\n",
        "# Load the CSV file from Google Drive\n",
        "df_biden = pd.read_csv('data/data_processed/df_biden_text.csv')\n",
        "\n",
        "# Display the first 5 rows of the DataFrame\n",
        "df_trump.head()\n"
      ],
      "metadata": {
        "colab": {
          "base_uri": "https://localhost:8080/",
          "height": 354
        },
        "id": "m8Hbsk18KHH1",
        "outputId": "bc013356-985c-4532-dea7-375803e9b8d7"
      },
      "execution_count": null,
      "outputs": [
        {
          "output_type": "execute_result",
          "data": {
            "text/plain": [
              "                    ad_id date_range_start  \\\n",
              "0  CR06816033659036893185       2020-03-12   \n",
              "1  CR17518932181727051777       2020-10-14   \n",
              "2  CR17406877790644469761       2020-09-08   \n",
              "3  CR17616576648293908481       2020-07-16   \n",
              "4  CR14354267786883104769       2020-08-11   \n",
              "\n",
              "                                              ad_url           advertiser_id  \\\n",
              "0  https://adstransparency.google.com/advertiser/...  AR12365610929977556993   \n",
              "1  https://adstransparency.google.com/advertiser/...  AR12365610929977556993   \n",
              "2  https://adstransparency.google.com/advertiser/...  AR12365610929977556993   \n",
              "3  https://adstransparency.google.com/advertiser/...  AR12365610929977556993   \n",
              "4  https://adstransparency.google.com/advertiser/...  AR12365610929977556993   \n",
              "\n",
              "       advertiser_name                                        youtube_url  \\\n",
              "0  BIDEN FOR PRESIDENT  https://www.youtube.com/watch?v=1tPFGsOivHM&em...   \n",
              "1  BIDEN FOR PRESIDENT  https://www.youtube.com/watch?v=_C-WvLV5UII&em...   \n",
              "2  BIDEN FOR PRESIDENT  https://www.youtube.com/watch?v=MSZO8zPUYL0&em...   \n",
              "3  BIDEN FOR PRESIDENT  https://www.youtube.com/watch?v=uLwYRdUxNcY&em...   \n",
              "4  BIDEN FOR PRESIDENT  https://www.youtube.com/watch?v=7ShIz1wlcSw&em...   \n",
              "\n",
              "                                             ad_text  \n",
              "0   Cuando Joe Biden se enfrentó al NRA, logró qu...  \n",
              "1   People have been denied the right to vote. Fi...  \n",
              "2   My future and the future of everyone my age d...  \n",
              "3   After a car crash changed his life forever, J...  \n",
              "4   Leadership is built on trust. Joe Biden led t...  "
            ],
            "text/html": [
              "\n",
              "  <div id=\"df-89afdae3-70a5-46b4-9ef4-217409cdbeff\">\n",
              "    <div class=\"colab-df-container\">\n",
              "      <div>\n",
              "<style scoped>\n",
              "    .dataframe tbody tr th:only-of-type {\n",
              "        vertical-align: middle;\n",
              "    }\n",
              "\n",
              "    .dataframe tbody tr th {\n",
              "        vertical-align: top;\n",
              "    }\n",
              "\n",
              "    .dataframe thead th {\n",
              "        text-align: right;\n",
              "    }\n",
              "</style>\n",
              "<table border=\"1\" class=\"dataframe\">\n",
              "  <thead>\n",
              "    <tr style=\"text-align: right;\">\n",
              "      <th></th>\n",
              "      <th>ad_id</th>\n",
              "      <th>date_range_start</th>\n",
              "      <th>ad_url</th>\n",
              "      <th>advertiser_id</th>\n",
              "      <th>advertiser_name</th>\n",
              "      <th>youtube_url</th>\n",
              "      <th>ad_text</th>\n",
              "    </tr>\n",
              "  </thead>\n",
              "  <tbody>\n",
              "    <tr>\n",
              "      <th>0</th>\n",
              "      <td>CR06816033659036893185</td>\n",
              "      <td>2020-03-12</td>\n",
              "      <td>https://adstransparency.google.com/advertiser/...</td>\n",
              "      <td>AR12365610929977556993</td>\n",
              "      <td>BIDEN FOR PRESIDENT</td>\n",
              "      <td>https://www.youtube.com/watch?v=1tPFGsOivHM&amp;em...</td>\n",
              "      <td>Cuando Joe Biden se enfrentó al NRA, logró qu...</td>\n",
              "    </tr>\n",
              "    <tr>\n",
              "      <th>1</th>\n",
              "      <td>CR17518932181727051777</td>\n",
              "      <td>2020-10-14</td>\n",
              "      <td>https://adstransparency.google.com/advertiser/...</td>\n",
              "      <td>AR12365610929977556993</td>\n",
              "      <td>BIDEN FOR PRESIDENT</td>\n",
              "      <td>https://www.youtube.com/watch?v=_C-WvLV5UII&amp;em...</td>\n",
              "      <td>People have been denied the right to vote. Fi...</td>\n",
              "    </tr>\n",
              "    <tr>\n",
              "      <th>2</th>\n",
              "      <td>CR17406877790644469761</td>\n",
              "      <td>2020-09-08</td>\n",
              "      <td>https://adstransparency.google.com/advertiser/...</td>\n",
              "      <td>AR12365610929977556993</td>\n",
              "      <td>BIDEN FOR PRESIDENT</td>\n",
              "      <td>https://www.youtube.com/watch?v=MSZO8zPUYL0&amp;em...</td>\n",
              "      <td>My future and the future of everyone my age d...</td>\n",
              "    </tr>\n",
              "    <tr>\n",
              "      <th>3</th>\n",
              "      <td>CR17616576648293908481</td>\n",
              "      <td>2020-07-16</td>\n",
              "      <td>https://adstransparency.google.com/advertiser/...</td>\n",
              "      <td>AR12365610929977556993</td>\n",
              "      <td>BIDEN FOR PRESIDENT</td>\n",
              "      <td>https://www.youtube.com/watch?v=uLwYRdUxNcY&amp;em...</td>\n",
              "      <td>After a car crash changed his life forever, J...</td>\n",
              "    </tr>\n",
              "    <tr>\n",
              "      <th>4</th>\n",
              "      <td>CR14354267786883104769</td>\n",
              "      <td>2020-08-11</td>\n",
              "      <td>https://adstransparency.google.com/advertiser/...</td>\n",
              "      <td>AR12365610929977556993</td>\n",
              "      <td>BIDEN FOR PRESIDENT</td>\n",
              "      <td>https://www.youtube.com/watch?v=7ShIz1wlcSw&amp;em...</td>\n",
              "      <td>Leadership is built on trust. Joe Biden led t...</td>\n",
              "    </tr>\n",
              "  </tbody>\n",
              "</table>\n",
              "</div>\n",
              "      <button class=\"colab-df-convert\" onclick=\"convertToInteractive('df-89afdae3-70a5-46b4-9ef4-217409cdbeff')\"\n",
              "              title=\"Convert this dataframe to an interactive table.\"\n",
              "              style=\"display:none;\">\n",
              "        \n",
              "  <svg xmlns=\"http://www.w3.org/2000/svg\" height=\"24px\"viewBox=\"0 0 24 24\"\n",
              "       width=\"24px\">\n",
              "    <path d=\"M0 0h24v24H0V0z\" fill=\"none\"/>\n",
              "    <path d=\"M18.56 5.44l.94 2.06.94-2.06 2.06-.94-2.06-.94-.94-2.06-.94 2.06-2.06.94zm-11 1L8.5 8.5l.94-2.06 2.06-.94-2.06-.94L8.5 2.5l-.94 2.06-2.06.94zm10 10l.94 2.06.94-2.06 2.06-.94-2.06-.94-.94-2.06-.94 2.06-2.06.94z\"/><path d=\"M17.41 7.96l-1.37-1.37c-.4-.4-.92-.59-1.43-.59-.52 0-1.04.2-1.43.59L10.3 9.45l-7.72 7.72c-.78.78-.78 2.05 0 2.83L4 21.41c.39.39.9.59 1.41.59.51 0 1.02-.2 1.41-.59l7.78-7.78 2.81-2.81c.8-.78.8-2.07 0-2.86zM5.41 20L4 18.59l7.72-7.72 1.47 1.35L5.41 20z\"/>\n",
              "  </svg>\n",
              "      </button>\n",
              "      \n",
              "  <style>\n",
              "    .colab-df-container {\n",
              "      display:flex;\n",
              "      flex-wrap:wrap;\n",
              "      gap: 12px;\n",
              "    }\n",
              "\n",
              "    .colab-df-convert {\n",
              "      background-color: #E8F0FE;\n",
              "      border: none;\n",
              "      border-radius: 50%;\n",
              "      cursor: pointer;\n",
              "      display: none;\n",
              "      fill: #1967D2;\n",
              "      height: 32px;\n",
              "      padding: 0 0 0 0;\n",
              "      width: 32px;\n",
              "    }\n",
              "\n",
              "    .colab-df-convert:hover {\n",
              "      background-color: #E2EBFA;\n",
              "      box-shadow: 0px 1px 2px rgba(60, 64, 67, 0.3), 0px 1px 3px 1px rgba(60, 64, 67, 0.15);\n",
              "      fill: #174EA6;\n",
              "    }\n",
              "\n",
              "    [theme=dark] .colab-df-convert {\n",
              "      background-color: #3B4455;\n",
              "      fill: #D2E3FC;\n",
              "    }\n",
              "\n",
              "    [theme=dark] .colab-df-convert:hover {\n",
              "      background-color: #434B5C;\n",
              "      box-shadow: 0px 1px 3px 1px rgba(0, 0, 0, 0.15);\n",
              "      filter: drop-shadow(0px 1px 2px rgba(0, 0, 0, 0.3));\n",
              "      fill: #FFFFFF;\n",
              "    }\n",
              "  </style>\n",
              "\n",
              "      <script>\n",
              "        const buttonEl =\n",
              "          document.querySelector('#df-89afdae3-70a5-46b4-9ef4-217409cdbeff button.colab-df-convert');\n",
              "        buttonEl.style.display =\n",
              "          google.colab.kernel.accessAllowed ? 'block' : 'none';\n",
              "\n",
              "        async function convertToInteractive(key) {\n",
              "          const element = document.querySelector('#df-89afdae3-70a5-46b4-9ef4-217409cdbeff');\n",
              "          const dataTable =\n",
              "            await google.colab.kernel.invokeFunction('convertToInteractive',\n",
              "                                                     [key], {});\n",
              "          if (!dataTable) return;\n",
              "\n",
              "          const docLinkHtml = 'Like what you see? Visit the ' +\n",
              "            '<a target=\"_blank\" href=https://colab.research.google.com/notebooks/data_table.ipynb>data table notebook</a>'\n",
              "            + ' to learn more about interactive tables.';\n",
              "          element.innerHTML = '';\n",
              "          dataTable['output_type'] = 'display_data';\n",
              "          await google.colab.output.renderOutput(dataTable, element);\n",
              "          const docLink = document.createElement('div');\n",
              "          docLink.innerHTML = docLinkHtml;\n",
              "          element.appendChild(docLink);\n",
              "        }\n",
              "      </script>\n",
              "    </div>\n",
              "  </div>\n",
              "  "
            ]
          },
          "metadata": {},
          "execution_count": 7
        },
        {
          "output_type": "stream",
          "name": "stdout",
          "text": [
            "time: 97.7 ms (started: 2023-04-28 14:03:52 +00:00)\n"
          ]
        }
      ]
    },
    {
      "cell_type": "code",
      "source": [
        "df_biden.head()"
      ],
      "metadata": {
        "id": "NWC3oY_hKHEQ"
      },
      "execution_count": null,
      "outputs": []
    },
    {
      "cell_type": "markdown",
      "source": [
        "# Sentiment Analysis\n",
        "\n",
        "As Sentiment Analysis we will use a novice approach. \n",
        "We will use OpenAi's GPT-3 Model to do the Sentiment Analysis for us. \n",
        "Andrew Ng in his new [Prompt Engineering class](https://learn.deeplearning.ai/chatgpt-prompt-eng/) explains how GPT models can be super useful for developers as well. \n",
        "\n",
        "Inspired by his class, we will feed model with our own prompt and hopefully get a useful sentiment analysis result out of it. We will define the model output us a Sentiment Score between -1 and 1. "
      ],
      "metadata": {
        "id": "vnypa93CJ1En"
      }
    },
    {
      "cell_type": "code",
      "execution_count": null,
      "metadata": {
        "colab": {
          "base_uri": "https://localhost:8080/"
        },
        "id": "9fj-OAj7JtDh",
        "outputId": "5f60c4a8-d6df-423b-8b2d-767d177f5c6a"
      },
      "outputs": [
        {
          "output_type": "stream",
          "name": "stdout",
          "text": [
            "\u001b[2K     \u001b[90m━━━━━━━━━━━━━━━━━━━━━━━━━━━━━━━━━━━━━━━━\u001b[0m \u001b[32m71.6/71.6 kB\u001b[0m \u001b[31m3.2 MB/s\u001b[0m eta \u001b[36m0:00:00\u001b[0m\n",
            "\u001b[2K     \u001b[90m━━━━━━━━━━━━━━━━━━━━━━━━━━━━━━━━━━━━━━━━\u001b[0m \u001b[32m1.0/1.0 MB\u001b[0m \u001b[31m19.5 MB/s\u001b[0m eta \u001b[36m0:00:00\u001b[0m\n",
            "\u001b[2K     \u001b[90m━━━━━━━━━━━━━━━━━━━━━━━━━━━━━━━━━━━━━━\u001b[0m \u001b[32m114.5/114.5 kB\u001b[0m \u001b[31m10.7 MB/s\u001b[0m eta \u001b[36m0:00:00\u001b[0m\n",
            "\u001b[2K     \u001b[90m━━━━━━━━━━━━━━━━━━━━━━━━━━━━━━━━━━━━━━━\u001b[0m \u001b[32m149.6/149.6 kB\u001b[0m \u001b[31m9.6 MB/s\u001b[0m eta \u001b[36m0:00:00\u001b[0m\n",
            "\u001b[2K     \u001b[90m━━━━━━━━━━━━━━━━━━━━━━━━━━━━━━━━━━━━━━\u001b[0m \u001b[32m268.8/268.8 kB\u001b[0m \u001b[31m24.1 MB/s\u001b[0m eta \u001b[36m0:00:00\u001b[0m\n",
            "\u001b[?25htime: 16.3 s (started: 2023-04-28 14:05:20 +00:00)\n"
          ]
        }
      ],
      "source": [
        "!pip -qqq install openai\n",
        "!pip -qqq install python-dotenv"
      ]
    },
    {
      "cell_type": "code",
      "source": [
        "import openai\n",
        "import os\n",
        "\n",
        "from dotenv import load_dotenv, find_dotenv\n",
        "_ = load_dotenv(find_dotenv(\"env/.env\")) # read local .env file\n",
        "\n",
        "openai.api_key  = os.getenv('OPENAI_API_KEY')"
      ],
      "metadata": {
        "colab": {
          "base_uri": "https://localhost:8080/"
        },
        "id": "nuLZ9UBwJ6GL",
        "outputId": "ceaeed22-643f-4b10-8cf4-083985c4ff03"
      },
      "execution_count": null,
      "outputs": [
        {
          "output_type": "stream",
          "name": "stdout",
          "text": [
            "time: 428 ms (started: 2023-04-28 14:15:46 +00:00)\n"
          ]
        }
      ]
    },
    {
      "cell_type": "markdown",
      "source": [
        "Now we'll create a prompt to let GPT3.5 create our sentiment analysis"
      ],
      "metadata": {
        "id": "SBKBlV-bMS5q"
      }
    },
    {
      "cell_type": "code",
      "source": [
        "def get_sentiment_scores(df, column):\n",
        "    def get_completion(prompt, model=\"gpt-3.5-turbo\"):\n",
        "        messages = [{\"role\": \"user\", \"content\": prompt}]\n",
        "        response = openai.ChatCompletion.create(\n",
        "            model=model,\n",
        "            messages=messages,\n",
        "            temperature=0,\n",
        "        )\n",
        "        return response.choices[0].message[\"content\"]\n",
        "\n",
        "    # Create a new DataFrame to store the results\n",
        "    result = df.copy()\n",
        "\n",
        "    # Iterate over the rows in the input DataFrame\n",
        "    for i, row in df.iterrows():\n",
        "        # Get the ad text\n",
        "        ad_text = row[column]\n",
        "\n",
        "        # Creating the prompts, there was a lot prompt engineering happening\n",
        "        # Without the last sentence, gpt-3.5 would always define the sentiment score as 0.1 or -0.1\n",
        "        # After Adjusting the prompt to be more sensitive to \"neutral\" seeming text. The output reflect more of what the text said.\n",
        "        prompt = f\"\"\"\n",
        "        You are a Sentiment Analysis Expert in Political Advertising.\n",
        "        What is the sentiment of the following Political Campaign Text?\n",
        "\n",
        "        On a scale of -1 to 1, with -1 being negative and 1 being positive, please provide the sentiment score of the text as accurately as possible, including decimal points. Reply without explanation, ONLY a single number!\n",
        "        Your output shall never be exactly 0. It should at least indicate a number that's slightly positive or negative. Please be more sensitive to neutral texts and provide a score that reflects the overall sentiment of the text.\n",
        "\n",
        "        Advertisement Text: '''{ad_text}'''\n",
        "        \"\"\"\n",
        "\n",
        "        # Get the sentiment score\n",
        "        sentiment_score = get_completion(prompt)\n",
        "\n",
        "        # Store the sentiment score in the result DataFrame\n",
        "        result.loc[i, 'ad_sentiment_score'] = sentiment_score\n",
        "\n",
        "    # Convert the ad_sentiment_score column to numeric values\n",
        "    result['ad_sentiment_score'] = pd.to_numeric(result['ad_sentiment_score'], errors='coerce')\n",
        "    print(result['ad_sentiment_score'])\n",
        "\n",
        "    return result"
      ],
      "metadata": {
        "colab": {
          "base_uri": "https://localhost:8080/"
        },
        "id": "lwGrZ4GrRasZ",
        "outputId": "698f2004-c80a-4265-be49-4d7826881adf"
      },
      "execution_count": null,
      "outputs": [
        {
          "output_type": "stream",
          "name": "stdout",
          "text": [
            "time: 6.34 ms (started: 2023-04-28 14:43:48 +00:00)\n"
          ]
        }
      ]
    },
    {
      "cell_type": "code",
      "source": [
        "df_trump_with_scores = get_sentiment_scores(df_trump, 'ad_text')\n",
        "df_biden_with_scores = get_sentiment_scores(df_biden, 'ad_text')"
      ],
      "metadata": {
        "colab": {
          "base_uri": "https://localhost:8080/"
        },
        "id": "2QlcAnm1Rbxy",
        "outputId": "28390bab-c9dc-4bb8-a6ff-ed362aca6674"
      },
      "execution_count": null,
      "outputs": [
        {
          "output_type": "stream",
          "name": "stdout",
          "text": [
            "0     0.1\n",
            "1     0.4\n",
            "2    -0.8\n",
            "3    -0.6\n",
            "4    -0.8\n",
            "5     0.2\n",
            "6    -0.2\n",
            "7     0.1\n",
            "8     0.4\n",
            "9     0.2\n",
            "10    0.8\n",
            "11   -0.6\n",
            "12    0.2\n",
            "13    0.2\n",
            "14    0.5\n",
            "15    0.1\n",
            "16   -0.8\n",
            "17   -0.7\n",
            "18   -0.2\n",
            "19    0.2\n",
            "20    0.2\n",
            "21    0.2\n",
            "22    0.3\n",
            "23    0.5\n",
            "24   -0.8\n",
            "Name: ad_sentiment_score, dtype: float64\n",
            "0     0.4\n",
            "1    -0.4\n",
            "2     0.4\n",
            "3     0.4\n",
            "4     0.6\n",
            "5     0.4\n",
            "6    -0.4\n",
            "7    -0.4\n",
            "8     0.1\n",
            "9    -0.4\n",
            "10    0.1\n",
            "11    0.4\n",
            "12    0.6\n",
            "13    0.4\n",
            "14    0.6\n",
            "15    0.6\n",
            "16   -0.6\n",
            "17    0.4\n",
            "18    0.4\n",
            "19    0.4\n",
            "20    0.5\n",
            "21    0.2\n",
            "22    0.4\n",
            "23    0.5\n",
            "24    0.6\n",
            "Name: ad_sentiment_score, dtype: float64\n",
            "time: 44.1 s (started: 2023-04-28 14:43:53 +00:00)\n"
          ]
        }
      ]
    },
    {
      "cell_type": "code",
      "source": [
        "print(df_trump_with_scores['ad_sentiment_score'].mean())\n",
        "df_trump_with_scores.head()"
      ],
      "metadata": {
        "colab": {
          "base_uri": "https://localhost:8080/",
          "height": 615
        },
        "id": "8oW1bmXNJ5xt",
        "outputId": "dee92b7c-3544-495c-e7ba-59f7389bfe69"
      },
      "execution_count": null,
      "outputs": [
        {
          "output_type": "stream",
          "name": "stdout",
          "text": [
            "-0.036000000000000004\n"
          ]
        },
        {
          "output_type": "execute_result",
          "data": {
            "text/plain": [
              "                    ad_id date_range_start  \\\n",
              "0  CR08940881523716915201       2019-06-17   \n",
              "1  CR15841802428220440577       2019-05-31   \n",
              "2  CR06248814851720740865       2020-09-30   \n",
              "3  CR12027210250567286785       2020-09-30   \n",
              "4  CR05051279563305254913       2020-10-13   \n",
              "\n",
              "                                              ad_url           advertiser_id  \\\n",
              "0  https://adstransparency.google.com/advertiser/...  AR07331491169769095169   \n",
              "1  https://adstransparency.google.com/advertiser/...  AR07331491169769095169   \n",
              "2  https://adstransparency.google.com/advertiser/...  AR11825178974693097473   \n",
              "3  https://adstransparency.google.com/advertiser/...  AR11825178974693097473   \n",
              "4  https://adstransparency.google.com/advertiser/...  AR11825178974693097473   \n",
              "\n",
              "                            advertiser_name  \\\n",
              "0  TRUMP MAKE AMERICA GREAT AGAIN COMMITTEE   \n",
              "1  TRUMP MAKE AMERICA GREAT AGAIN COMMITTEE   \n",
              "2       DONALD J. TRUMP FOR PRESIDENT, INC.   \n",
              "3       DONALD J. TRUMP FOR PRESIDENT, INC.   \n",
              "4       DONALD J. TRUMP FOR PRESIDENT, INC.   \n",
              "\n",
              "                                         youtube_url  \\\n",
              "0  https://www.youtube.com/watch?v=sw-gi-vpMII&em...   \n",
              "1  https://www.youtube.com/watch?v=m0vuun_0xfA&em...   \n",
              "2  https://www.youtube.com/watch?v=64Cu86cKqYM&em...   \n",
              "3  https://www.youtube.com/watch?v=zSud9Wz0hS0&em...   \n",
              "4  https://www.youtube.com/watch?v=9zXPq-WylNM&em...   \n",
              "\n",
              "                                             ad_text  ad_sentiment_score  \n",
              "0   Alison Rickman shows footage of music perform...                 0.1  \n",
              "1   Hey everybody, I'm Laura Trump. The 1 million...                 0.4  \n",
              "2   Biden's plan is not a solution. It is a virtu...                -0.8  \n",
              "3   Joe Biden tried to cut Social Security and Me...                -0.6  \n",
              "4   You're gonna take care of the gun problem wit...                -0.8  "
            ],
            "text/html": [
              "\n",
              "  <div id=\"df-1877396c-ee01-45a9-b6d1-e9a748282261\">\n",
              "    <div class=\"colab-df-container\">\n",
              "      <div>\n",
              "<style scoped>\n",
              "    .dataframe tbody tr th:only-of-type {\n",
              "        vertical-align: middle;\n",
              "    }\n",
              "\n",
              "    .dataframe tbody tr th {\n",
              "        vertical-align: top;\n",
              "    }\n",
              "\n",
              "    .dataframe thead th {\n",
              "        text-align: right;\n",
              "    }\n",
              "</style>\n",
              "<table border=\"1\" class=\"dataframe\">\n",
              "  <thead>\n",
              "    <tr style=\"text-align: right;\">\n",
              "      <th></th>\n",
              "      <th>ad_id</th>\n",
              "      <th>date_range_start</th>\n",
              "      <th>ad_url</th>\n",
              "      <th>advertiser_id</th>\n",
              "      <th>advertiser_name</th>\n",
              "      <th>youtube_url</th>\n",
              "      <th>ad_text</th>\n",
              "      <th>ad_sentiment_score</th>\n",
              "    </tr>\n",
              "  </thead>\n",
              "  <tbody>\n",
              "    <tr>\n",
              "      <th>0</th>\n",
              "      <td>CR08940881523716915201</td>\n",
              "      <td>2019-06-17</td>\n",
              "      <td>https://adstransparency.google.com/advertiser/...</td>\n",
              "      <td>AR07331491169769095169</td>\n",
              "      <td>TRUMP MAKE AMERICA GREAT AGAIN COMMITTEE</td>\n",
              "      <td>https://www.youtube.com/watch?v=sw-gi-vpMII&amp;em...</td>\n",
              "      <td>Alison Rickman shows footage of music perform...</td>\n",
              "      <td>0.1</td>\n",
              "    </tr>\n",
              "    <tr>\n",
              "      <th>1</th>\n",
              "      <td>CR15841802428220440577</td>\n",
              "      <td>2019-05-31</td>\n",
              "      <td>https://adstransparency.google.com/advertiser/...</td>\n",
              "      <td>AR07331491169769095169</td>\n",
              "      <td>TRUMP MAKE AMERICA GREAT AGAIN COMMITTEE</td>\n",
              "      <td>https://www.youtube.com/watch?v=m0vuun_0xfA&amp;em...</td>\n",
              "      <td>Hey everybody, I'm Laura Trump. The 1 million...</td>\n",
              "      <td>0.4</td>\n",
              "    </tr>\n",
              "    <tr>\n",
              "      <th>2</th>\n",
              "      <td>CR06248814851720740865</td>\n",
              "      <td>2020-09-30</td>\n",
              "      <td>https://adstransparency.google.com/advertiser/...</td>\n",
              "      <td>AR11825178974693097473</td>\n",
              "      <td>DONALD J. TRUMP FOR PRESIDENT, INC.</td>\n",
              "      <td>https://www.youtube.com/watch?v=64Cu86cKqYM&amp;em...</td>\n",
              "      <td>Biden's plan is not a solution. It is a virtu...</td>\n",
              "      <td>-0.8</td>\n",
              "    </tr>\n",
              "    <tr>\n",
              "      <th>3</th>\n",
              "      <td>CR12027210250567286785</td>\n",
              "      <td>2020-09-30</td>\n",
              "      <td>https://adstransparency.google.com/advertiser/...</td>\n",
              "      <td>AR11825178974693097473</td>\n",
              "      <td>DONALD J. TRUMP FOR PRESIDENT, INC.</td>\n",
              "      <td>https://www.youtube.com/watch?v=zSud9Wz0hS0&amp;em...</td>\n",
              "      <td>Joe Biden tried to cut Social Security and Me...</td>\n",
              "      <td>-0.6</td>\n",
              "    </tr>\n",
              "    <tr>\n",
              "      <th>4</th>\n",
              "      <td>CR05051279563305254913</td>\n",
              "      <td>2020-10-13</td>\n",
              "      <td>https://adstransparency.google.com/advertiser/...</td>\n",
              "      <td>AR11825178974693097473</td>\n",
              "      <td>DONALD J. TRUMP FOR PRESIDENT, INC.</td>\n",
              "      <td>https://www.youtube.com/watch?v=9zXPq-WylNM&amp;em...</td>\n",
              "      <td>You're gonna take care of the gun problem wit...</td>\n",
              "      <td>-0.8</td>\n",
              "    </tr>\n",
              "  </tbody>\n",
              "</table>\n",
              "</div>\n",
              "      <button class=\"colab-df-convert\" onclick=\"convertToInteractive('df-1877396c-ee01-45a9-b6d1-e9a748282261')\"\n",
              "              title=\"Convert this dataframe to an interactive table.\"\n",
              "              style=\"display:none;\">\n",
              "        \n",
              "  <svg xmlns=\"http://www.w3.org/2000/svg\" height=\"24px\"viewBox=\"0 0 24 24\"\n",
              "       width=\"24px\">\n",
              "    <path d=\"M0 0h24v24H0V0z\" fill=\"none\"/>\n",
              "    <path d=\"M18.56 5.44l.94 2.06.94-2.06 2.06-.94-2.06-.94-.94-2.06-.94 2.06-2.06.94zm-11 1L8.5 8.5l.94-2.06 2.06-.94-2.06-.94L8.5 2.5l-.94 2.06-2.06.94zm10 10l.94 2.06.94-2.06 2.06-.94-2.06-.94-.94-2.06-.94 2.06-2.06.94z\"/><path d=\"M17.41 7.96l-1.37-1.37c-.4-.4-.92-.59-1.43-.59-.52 0-1.04.2-1.43.59L10.3 9.45l-7.72 7.72c-.78.78-.78 2.05 0 2.83L4 21.41c.39.39.9.59 1.41.59.51 0 1.02-.2 1.41-.59l7.78-7.78 2.81-2.81c.8-.78.8-2.07 0-2.86zM5.41 20L4 18.59l7.72-7.72 1.47 1.35L5.41 20z\"/>\n",
              "  </svg>\n",
              "      </button>\n",
              "      \n",
              "  <style>\n",
              "    .colab-df-container {\n",
              "      display:flex;\n",
              "      flex-wrap:wrap;\n",
              "      gap: 12px;\n",
              "    }\n",
              "\n",
              "    .colab-df-convert {\n",
              "      background-color: #E8F0FE;\n",
              "      border: none;\n",
              "      border-radius: 50%;\n",
              "      cursor: pointer;\n",
              "      display: none;\n",
              "      fill: #1967D2;\n",
              "      height: 32px;\n",
              "      padding: 0 0 0 0;\n",
              "      width: 32px;\n",
              "    }\n",
              "\n",
              "    .colab-df-convert:hover {\n",
              "      background-color: #E2EBFA;\n",
              "      box-shadow: 0px 1px 2px rgba(60, 64, 67, 0.3), 0px 1px 3px 1px rgba(60, 64, 67, 0.15);\n",
              "      fill: #174EA6;\n",
              "    }\n",
              "\n",
              "    [theme=dark] .colab-df-convert {\n",
              "      background-color: #3B4455;\n",
              "      fill: #D2E3FC;\n",
              "    }\n",
              "\n",
              "    [theme=dark] .colab-df-convert:hover {\n",
              "      background-color: #434B5C;\n",
              "      box-shadow: 0px 1px 3px 1px rgba(0, 0, 0, 0.15);\n",
              "      filter: drop-shadow(0px 1px 2px rgba(0, 0, 0, 0.3));\n",
              "      fill: #FFFFFF;\n",
              "    }\n",
              "  </style>\n",
              "\n",
              "      <script>\n",
              "        const buttonEl =\n",
              "          document.querySelector('#df-1877396c-ee01-45a9-b6d1-e9a748282261 button.colab-df-convert');\n",
              "        buttonEl.style.display =\n",
              "          google.colab.kernel.accessAllowed ? 'block' : 'none';\n",
              "\n",
              "        async function convertToInteractive(key) {\n",
              "          const element = document.querySelector('#df-1877396c-ee01-45a9-b6d1-e9a748282261');\n",
              "          const dataTable =\n",
              "            await google.colab.kernel.invokeFunction('convertToInteractive',\n",
              "                                                     [key], {});\n",
              "          if (!dataTable) return;\n",
              "\n",
              "          const docLinkHtml = 'Like what you see? Visit the ' +\n",
              "            '<a target=\"_blank\" href=https://colab.research.google.com/notebooks/data_table.ipynb>data table notebook</a>'\n",
              "            + ' to learn more about interactive tables.';\n",
              "          element.innerHTML = '';\n",
              "          dataTable['output_type'] = 'display_data';\n",
              "          await google.colab.output.renderOutput(dataTable, element);\n",
              "          const docLink = document.createElement('div');\n",
              "          docLink.innerHTML = docLinkHtml;\n",
              "          element.appendChild(docLink);\n",
              "        }\n",
              "      </script>\n",
              "    </div>\n",
              "  </div>\n",
              "  "
            ]
          },
          "metadata": {},
          "execution_count": 47
        },
        {
          "output_type": "stream",
          "name": "stdout",
          "text": [
            "time: 22.9 ms (started: 2023-04-28 14:45:50 +00:00)\n"
          ]
        }
      ]
    },
    {
      "cell_type": "markdown",
      "source": [
        "Lets evaluate the output:"
      ],
      "metadata": {
        "id": "CS6sKmTBxIK9"
      }
    },
    {
      "cell_type": "code",
      "source": [
        "pd.set_option('display.max_colwidth', None)\n",
        "print(df_trump_with_scores.loc[2,[ 'ad_sentiment_score', 'ad_text']])"
      ],
      "metadata": {
        "colab": {
          "base_uri": "https://localhost:8080/"
        },
        "id": "5ibGATx5XQKE",
        "outputId": "08ce5b66-65a7-45c0-efac-c7dab467114e"
      },
      "execution_count": null,
      "outputs": [
        {
          "output_type": "stream",
          "name": "stdout",
          "text": [
            "ad_sentiment_score                                                                                                                                                                                                                                                                                                                                                                                                                                                                                                                                                   -0.8\n",
            "ad_text                Biden's plan is not a solution. It is a virtual surrender. Biden's plan for the China virus is to shut down the entire U.S. economy. I would shut it down. No miracle is coming. If I were president today, I would roll back the reopenings in a number of places. Biden wants to surrender our country to the virus. He wants to surrender our families to the pilot left-wing mob. And he wants to surrender our jobs to China. I would shut it down. I'm Donald Trump and I approve this message. I'm Donald Trump and I approve this message.\n",
            "Name: 2, dtype: object\n",
            "time: 7.16 ms (started: 2023-04-28 14:57:48 +00:00)\n"
          ]
        }
      ]
    },
    {
      "cell_type": "markdown",
      "source": [
        "Based on this example from the Trump Sentiment Dataset. It seems like GPT has done a fairly well job. The substance of that text is very negative, so it makes sense that GPT3.5 would score it with a -0.8"
      ],
      "metadata": {
        "id": "9x1qLO8LxMqY"
      }
    },
    {
      "cell_type": "code",
      "source": [
        "pd.set_option('display.max_colwidth', 50)\n",
        "print(df_trump_with_scores['ad_sentiment_score'].mean())\n",
        "print(df_trump_with_scores[['ad_sentiment_score','ad_text']].head(15))"
      ],
      "metadata": {
        "colab": {
          "base_uri": "https://localhost:8080/"
        },
        "id": "YvxT9yI1SuN0",
        "outputId": "926711a9-9f98-416e-ad47-4ac6d298e9b4"
      },
      "execution_count": null,
      "outputs": [
        {
          "output_type": "stream",
          "name": "stdout",
          "text": [
            "-0.036000000000000004\n",
            "    ad_sentiment_score                                            ad_text\n",
            "0                  0.1   Alison Rickman shows footage of music perform...\n",
            "1                  0.4   Hey everybody, I'm Laura Trump. The 1 million...\n",
            "2                 -0.8   Biden's plan is not a solution. It is a virtu...\n",
            "3                 -0.6   Joe Biden tried to cut Social Security and Me...\n",
            "4                 -0.8   You're gonna take care of the gun problem wit...\n",
            "5                  0.2                               Thanks for watching!\n",
            "6                 -0.2   if things weren't already like this Sentry La...\n",
            "7                  0.1                                                  ♪\n",
            "8                  0.4   In the last two years, our brave ICE officers...\n",
            "9                  0.2   No one is going to hand us the agenda we vote...\n",
            "10                 0.8   They said it couldn't be done, but President ...\n",
            "11                -0.6   Democrats have become the party of open borde...\n",
            "12                 0.2   At 9 p.m. tonight, my campaign team is bringi...\n",
            "13                 0.2   Tonight I am asking you to defend our very da...\n",
            "14                 0.5                                                  👍\n",
            "time: 14.5 ms (started: 2023-04-28 14:58:15 +00:00)\n"
          ]
        }
      ]
    },
    {
      "cell_type": "code",
      "source": [
        "pd.set_option('display.max_colwidth', 50)\n",
        "print(df_biden_with_scores['ad_sentiment_score'].mean())\n",
        "print(df_biden_with_scores[['ad_sentiment_score','ad_text']].head(15))"
      ],
      "metadata": {
        "colab": {
          "base_uri": "https://localhost:8080/"
        },
        "id": "rq-gJTauU_nW",
        "outputId": "7bb863d1-a2aa-45b8-c767-2b70386656d5"
      },
      "execution_count": null,
      "outputs": [
        {
          "output_type": "stream",
          "name": "stdout",
          "text": [
            "0.24799999999999997\n",
            "    ad_sentiment_score                                            ad_text\n",
            "0                  0.4   Cuando Joe Biden se enfrentó al NRA, logró qu...\n",
            "1                 -0.4   People have been denied the right to vote. Fi...\n",
            "2                  0.4   My future and the future of everyone my age d...\n",
            "3                  0.4   After a car crash changed his life forever, J...\n",
            "4                  0.6   Leadership is built on trust. Joe Biden led t...\n",
            "5                  0.4   Cuando Joe Biden se enfrentó al NRA, logró qu...\n",
            "6                 -0.4   When Trump lost control of the coronavirus, A...\n",
            "7                 -0.4   When you've lost your job and your insurance,...\n",
            "8                  0.1                                                  🎵\n",
            "9                 -0.4   Nearly one in six small businesses is closed ...\n",
            "10                 0.1                                              Okay.\n",
            "11                 0.4   Teaching is not what you do, it's who you are...\n",
            "12                 0.6   If I have the honor of being president, I pro...\n",
            "13                 0.4   Families are reeling right now, enduring illn...\n",
            "14                 0.6   I started this campaign saying we're in the b...\n",
            "time: 14.5 ms (started: 2023-04-28 14:58:22 +00:00)\n"
          ]
        }
      ]
    },
    {
      "cell_type": "markdown",
      "source": [
        "## Plots\n",
        "Lets try and combine and compare the sentiment score of both datasets."
      ],
      "metadata": {
        "id": "KDFIO8csZLnc"
      }
    },
    {
      "cell_type": "code",
      "source": [
        "df_trump_with_scores['ad_person'] = 'Trump'\n",
        "df_biden_with_scores['ad_person'] = 'Biden'\n",
        "\n",
        "# Combine the two DataFrames into one\n",
        "df_us_video = pd.concat([df_trump_with_scores, df_biden_with_scores], ignore_index=True)\n",
        "\n",
        "# Display the first 5 rows of the combined DataFrame\n",
        "print(df_us_video.head())\n"
      ],
      "metadata": {
        "colab": {
          "base_uri": "https://localhost:8080/"
        },
        "id": "cyeWqj0nX1fZ",
        "outputId": "ff0ef8b0-1882-46b1-f9b1-05d065472856"
      },
      "execution_count": null,
      "outputs": [
        {
          "output_type": "stream",
          "name": "stdout",
          "text": [
            "                    ad_id date_range_start  \\\n",
            "0  CR08940881523716915201       2019-06-17   \n",
            "1  CR15841802428220440577       2019-05-31   \n",
            "2  CR06248814851720740865       2020-09-30   \n",
            "3  CR12027210250567286785       2020-09-30   \n",
            "4  CR05051279563305254913       2020-10-13   \n",
            "\n",
            "                                              ad_url           advertiser_id  \\\n",
            "0  https://adstransparency.google.com/advertiser/...  AR07331491169769095169   \n",
            "1  https://adstransparency.google.com/advertiser/...  AR07331491169769095169   \n",
            "2  https://adstransparency.google.com/advertiser/...  AR11825178974693097473   \n",
            "3  https://adstransparency.google.com/advertiser/...  AR11825178974693097473   \n",
            "4  https://adstransparency.google.com/advertiser/...  AR11825178974693097473   \n",
            "\n",
            "                            advertiser_name  \\\n",
            "0  TRUMP MAKE AMERICA GREAT AGAIN COMMITTEE   \n",
            "1  TRUMP MAKE AMERICA GREAT AGAIN COMMITTEE   \n",
            "2       DONALD J. TRUMP FOR PRESIDENT, INC.   \n",
            "3       DONALD J. TRUMP FOR PRESIDENT, INC.   \n",
            "4       DONALD J. TRUMP FOR PRESIDENT, INC.   \n",
            "\n",
            "                                         youtube_url  \\\n",
            "0  https://www.youtube.com/watch?v=sw-gi-vpMII&em...   \n",
            "1  https://www.youtube.com/watch?v=m0vuun_0xfA&em...   \n",
            "2  https://www.youtube.com/watch?v=64Cu86cKqYM&em...   \n",
            "3  https://www.youtube.com/watch?v=zSud9Wz0hS0&em...   \n",
            "4  https://www.youtube.com/watch?v=9zXPq-WylNM&em...   \n",
            "\n",
            "                                             ad_text  ad_sentiment_score  \\\n",
            "0   Alison Rickman shows footage of music perform...                 0.1   \n",
            "1   Hey everybody, I'm Laura Trump. The 1 million...                 0.4   \n",
            "2   Biden's plan is not a solution. It is a virtu...                -0.8   \n",
            "3   Joe Biden tried to cut Social Security and Me...                -0.6   \n",
            "4   You're gonna take care of the gun problem wit...                -0.8   \n",
            "\n",
            "  ad_person  \n",
            "0     Trump  \n",
            "1     Trump  \n",
            "2     Trump  \n",
            "3     Trump  \n",
            "4     Trump  \n",
            "time: 13.3 ms (started: 2023-04-28 15:19:03 +00:00)\n"
          ]
        }
      ]
    },
    {
      "cell_type": "code",
      "source": [
        "import matplotlib.pyplot as plt\n",
        "import seaborn as sns\n",
        "\n",
        "# Set the seaborn theme\n",
        "sns.set_theme()\n",
        "\n",
        "# Get the data to plot\n",
        "data = df_us_video.groupby(['date_range_start', 'ad_person'])['ad_sentiment_score'].mean().unstack()\n",
        "\n",
        "# Create a new figure and axes\n",
        "fig, ax = plt.subplots()\n",
        "\n",
        "# Define the colors for each person\n",
        "colors = {'Biden': 'blue', 'Trump': 'red'}\n",
        "\n",
        "# Create a scatter plot for each person\n",
        "for person in data.columns:\n",
        "    ax.scatter(data.index, data[person], label=person, color=colors[person])\n",
        "\n",
        "# Set the title and axis labels\n",
        "ax.set_title('Ad Sentiment Score by Date')\n",
        "ax.set_xlabel('Date')\n",
        "ax.set_ylabel('Ad Sentiment Score')\n",
        "\n",
        "# Get the tick locations and labels\n",
        "locs, labels = plt.xticks()\n",
        "\n",
        "# Set the tick locations and labels to show only every 7th label\n",
        "plt.xticks(locs[::7], labels[::7], rotation=90)\n",
        "\n",
        "# Add a legend\n",
        "ax.legend()\n",
        "\n",
        "# Save the plot as an image file\n",
        "fig.savefig('ad_sentiment_biden_trump.png', bbox_inches='tight')\n",
        "\n",
        "# Show the plot\n",
        "plt.show()"
      ],
      "metadata": {
        "colab": {
          "base_uri": "https://localhost:8080/",
          "height": 570
        },
        "id": "XCLj2z3yZjAB",
        "outputId": "fc3e5ec4-28eb-4e9a-ecfb-a26a251b6fe5"
      },
      "execution_count": null,
      "outputs": [
        {
          "output_type": "display_data",
          "data": {
            "text/plain": [
              "<Figure size 640x480 with 1 Axes>"
            ],
            "image/png": "[encoded data removed]"
          },
          "metadata": {}
        },
        {
          "output_type": "stream",
          "name": "stdout",
          "text": [
            "time: 2.04 s (started: 2023-04-28 15:19:12 +00:00)\n"
          ]
        }
      ]
    },
    {
      "cell_type": "code",
      "source": [
        "# Save the DataFrame as a CSV file\n",
        "df_us_video.to_csv('data/data_processed/us_biden_trump_video_text_sent.csv', index=False)\n"
      ],
      "metadata": {
        "colab": {
          "base_uri": "https://localhost:8080/"
        },
        "id": "YUct01BQdCJW",
        "outputId": "cc980678-6bc1-4680-82af-605a52c63a84"
      },
      "execution_count": null,
      "outputs": [
        {
          "output_type": "stream",
          "name": "stdout",
          "text": [
            "time: 27.7 ms (started: 2023-04-28 15:24:05 +00:00)\n"
          ]
        }
      ]
    }
  ]
}