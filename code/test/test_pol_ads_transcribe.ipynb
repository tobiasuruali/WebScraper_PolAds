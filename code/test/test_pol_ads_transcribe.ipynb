{
  "cells": [
    {
      "cell_type": "markdown",
      "metadata": {
        "id": "view-in-github",
        "colab_type": "text"
      },
      "source": [
        "<a href=\"https://colab.research.google.com/github/tobiasuruali/WebScraper_PolAds/blob/main/code/test/test_pol_ads_transcribe.ipynb\" target=\"_parent\"><img src=\"https://colab.research.google.com/assets/colab-badge.svg\" alt=\"Open In Colab\"/></a>"
      ]
    },
    {
      "cell_type": "code",
      "execution_count": null,
      "metadata": {
        "colab": {
          "base_uri": "https://localhost:8080/"
        },
        "id": "RCXKWqZ_ubTB",
        "outputId": "970c661a-c0b0-41cd-e957-3473921c6726"
      },
      "outputs": [
        {
          "output_type": "stream",
          "name": "stdout",
          "text": [
            "Drive already mounted at /content/drive/; to attempt to forcibly remount, call drive.mount(\"/content/drive/\", force_remount=True).\n"
          ]
        }
      ],
      "source": [
        "from google.colab import drive\n",
        "drive.mount('/content/drive/')"
      ]
    },
    {
      "cell_type": "code",
      "source": [
        "!pip -qqq install ipython-autotime\n",
        "%load_ext autotime"
      ],
      "metadata": {
        "colab": {
          "base_uri": "https://localhost:8080/"
        },
        "id": "YA5LLyjCAXJp",
        "outputId": "75a6d313-1391-4aa4-e201-cf9992091f9f"
      },
      "execution_count": null,
      "outputs": [
        {
          "output_type": "stream",
          "name": "stdout",
          "text": [
            "time: 1.1 ms (started: 2023-03-31 09:00:39 +00:00)\n"
          ]
        }
      ]
    },
    {
      "cell_type": "code",
      "execution_count": null,
      "metadata": {
        "colab": {
          "base_uri": "https://localhost:8080/"
        },
        "id": "jvz7kTnl5g3T",
        "outputId": "0dfa60c8-1133-4ffa-83fe-25daaa816633"
      },
      "outputs": [
        {
          "output_type": "stream",
          "name": "stdout",
          "text": [
            "  Installing build dependencies ... \u001b[?25l\u001b[?25hdone\n",
            "  Getting requirements to build wheel ... \u001b[?25l\u001b[?25hdone\n",
            "  Preparing metadata (pyproject.toml) ... \u001b[?25l\u001b[?25hdone\n",
            "\u001b[2K     \u001b[90m━━━━━━━━━━━━━━━━━━━━━━━━━━━━━━━━━━━━━━━━\u001b[0m \u001b[32m63.3/63.3 MB\u001b[0m \u001b[31m11.3 MB/s\u001b[0m eta \u001b[36m0:00:00\u001b[0m\n",
            "\u001b[2K     \u001b[90m━━━━━━━━━━━━━━━━━━━━━━━━━━━━━━━━━━━━━━━━\u001b[0m \u001b[32m1.7/1.7 MB\u001b[0m \u001b[31m72.2 MB/s\u001b[0m eta \u001b[36m0:00:00\u001b[0m\n",
            "\u001b[2K     \u001b[90m━━━━━━━━━━━━━━━━━━━━━━━━━━━━━━━━━━━━━━\u001b[0m \u001b[32m145.0/145.0 KB\u001b[0m \u001b[31m17.7 MB/s\u001b[0m eta \u001b[36m0:00:00\u001b[0m\n",
            "\u001b[?25h  Preparing metadata (setup.py) ... \u001b[?25l\u001b[?25hdone\n",
            "  Building wheel for openai-whisper (pyproject.toml) ... \u001b[?25l\u001b[?25hdone\n",
            "  Building wheel for lit (setup.py) ... \u001b[?25l\u001b[?25hdone\n",
            "time: 31.8 s (started: 2023-03-31 08:53:08 +00:00)\n"
          ]
        }
      ],
      "source": [
        "pip -qqq install git+https://github.com/openai/whisper.git "
      ]
    },
    {
      "cell_type": "code",
      "execution_count": null,
      "metadata": {
        "colab": {
          "base_uri": "https://localhost:8080/"
        },
        "id": "QCNDkRil0kbF",
        "outputId": "b2736a41-079c-42bd-f4f7-194f1162de59"
      },
      "outputs": [
        {
          "output_type": "stream",
          "name": "stdout",
          "text": [
            "['test_pol_ad.mp3', 'test_pol_ad_2.mp3']\n",
            "/content/drive/MyDrive/Colab_Data\n"
          ]
        }
      ],
      "source": [
        "import os\n",
        "os.chdir('/content/drive/MyDrive/Colab_Data')\n",
        "print(os.listdir())\n",
        "print(os.getcwd())"
      ]
    },
    {
      "cell_type": "markdown",
      "source": [
        "# Download Video Audio\n",
        "\n",
        "Download the video audio with the help of pytube. This will then be used to transcribe the data.\n"
      ],
      "metadata": {
        "id": "MFW3JzOtWh_z"
      }
    },
    {
      "cell_type": "code",
      "execution_count": null,
      "metadata": {
        "id": "_HRHTqmr36Nh",
        "colab": {
          "base_uri": "https://localhost:8080/"
        },
        "outputId": "c02e263b-ecfc-49fa-c4fb-55ced3ea30cf"
      },
      "outputs": [
        {
          "output_type": "stream",
          "name": "stdout",
          "text": [
            "\u001b[?25l     \u001b[90m━━━━━━━━━━━━━━━━━━━━━━━━━━━━━━━━━━━━━━━━\u001b[0m \u001b[32m0.0/57.2 KB\u001b[0m \u001b[31m?\u001b[0m eta \u001b[36m-:--:--\u001b[0m\r\u001b[2K     \u001b[90m━━━━━━━━━━━━━━━━━━━━━━━━━━━━━━━━━━━━━━━━\u001b[0m \u001b[32m57.2/57.2 KB\u001b[0m \u001b[31m4.7 MB/s\u001b[0m eta \u001b[36m0:00:00\u001b[0m\n",
            "\u001b[?25htime: 5.42 s (started: 2023-03-31 08:53:39 +00:00)\n"
          ]
        }
      ],
      "source": [
        "# Install the library\n",
        "!pip -qqq install pytube\n",
        "\n",
        "# import the module\n",
        "from pytube import YouTube"
      ]
    },
    {
      "cell_type": "code",
      "execution_count": null,
      "metadata": {
        "id": "tAXlb_xm0nb5",
        "colab": {
          "base_uri": "https://localhost:8080/"
        },
        "outputId": "46d0dfc3-d4ed-4dd9-d448-92bc0390f2a9"
      },
      "outputs": [
        {
          "output_type": "stream",
          "name": "stdout",
          "text": [
            "time: 1.44 s (started: 2023-03-31 08:53:45 +00:00)\n"
          ]
        }
      ],
      "source": [
        "def video_to_audio(video_URL, destination, final_filename):\n",
        "\n",
        "  # Get the video\n",
        "  video = YouTube(video_URL)\n",
        "\n",
        "  # Convert video to Audio\n",
        "  audio = video.streams.filter(only_audio=True).first()\n",
        "\n",
        "  # Save to destination\n",
        "  output = audio.download(output_path = destination)\n",
        "\n",
        "  _, ext = os.path.splitext(output)\n",
        "  new_filename = final_filename + '.mp3'\n",
        "\n",
        "  # Change the name of the file\n",
        "  os.rename(output, new_filename)\n",
        "  return new_filename\n",
        "\n",
        "# Video to audio\n",
        "video_URL = 'https://www.youtube.com/watch?v=WHQ6kOdVIGE&embeds_euri=https%3A%2F%2Fadstransparency.google.com%2F&feature=emb_imp_woyt'\n",
        "destination = \".\"\n",
        "final_filename = \"test_pol_ad_2\"\n",
        "new_filename = video_to_audio(video_URL, destination, final_filename)"
      ]
    },
    {
      "cell_type": "markdown",
      "source": [
        "# OpenAI Whisper Trial \n",
        "\n",
        "Using OpenAI's Whisper model. Using the large model to try out transcribing and evaluate performance.\n",
        "\n",
        "[Open AI Whisper](https://github.com/openai/whisper)\n"
      ],
      "metadata": {
        "id": "K2ar4njuWtoz"
      }
    },
    {
      "cell_type": "code",
      "execution_count": null,
      "metadata": {
        "colab": {
          "base_uri": "https://localhost:8080/"
        },
        "id": "MLR_NWyl5VrZ",
        "outputId": "0bb6bae9-dabc-4b68-b54f-97c636e33b93"
      },
      "outputs": [
        {
          "output_type": "stream",
          "name": "stdout",
          "text": [
            "cpu\n"
          ]
        },
        {
          "output_type": "stream",
          "name": "stderr",
          "text": [
            "100%|█████████████████████████████████████| 2.87G/2.87G [00:31<00:00, 99.2MiB/s]\n"
          ]
        },
        {
          "output_type": "stream",
          "name": "stdout",
          "text": [
            "time: 1min 25s (started: 2023-03-31 08:53:46 +00:00)\n"
          ]
        }
      ],
      "source": [
        "\n",
        "# Import the libraries \n",
        "import whisper\n",
        "import torch \n",
        "import os\n",
        "\n",
        "# Set the device\n",
        "device = \"cuda\" if torch.cuda.is_available() else \"cpu\"\n",
        "print(device)\n",
        "\n",
        "\n",
        "# Load the model \n",
        "whisper_model = whisper.load_model(\"large\", device=device)"
      ]
    },
    {
      "cell_type": "code",
      "source": [
        "print(new_filename)"
      ],
      "metadata": {
        "colab": {
          "base_uri": "https://localhost:8080/"
        },
        "id": "fs22oPSo6t_r",
        "outputId": "bdaf0c37-9799-4e89-8f34-1c43b2688690"
      },
      "execution_count": null,
      "outputs": [
        {
          "output_type": "stream",
          "name": "stdout",
          "text": [
            "test_pol_ad_2.mp3\n",
            "time: 722 µs (started: 2023-03-31 08:55:12 +00:00)\n"
          ]
        }
      ]
    },
    {
      "cell_type": "code",
      "source": [
        "audio_file = new_filename\n",
        "result = whisper_model.transcribe(audio_file)\n",
        "\n",
        "     "
      ],
      "metadata": {
        "colab": {
          "base_uri": "https://localhost:8080/"
        },
        "id": "qlkrnDkd8L4Y",
        "outputId": "2a1d103e-d3f0-4919-ee70-be1353f522ab"
      },
      "execution_count": null,
      "outputs": [
        {
          "output_type": "stream",
          "name": "stderr",
          "text": [
            "/usr/local/lib/python3.9/dist-packages/whisper/transcribe.py:114: UserWarning: FP16 is not supported on CPU; using FP32 instead\n",
            "  warnings.warn(\"FP16 is not supported on CPU; using FP32 instead\")\n"
          ]
        },
        {
          "output_type": "stream",
          "name": "stdout",
          "text": [
            "time: 2min 16s (started: 2023-03-31 08:55:12 +00:00)\n"
          ]
        }
      ]
    },
    {
      "cell_type": "code",
      "source": [
        "print(result[\"text\"])\n"
      ],
      "metadata": {
        "colab": {
          "base_uri": "https://localhost:8080/"
        },
        "id": "UFPn3qT18O9D",
        "outputId": "ff4142a2-23ad-4951-9521-29184ef38e19"
      },
      "execution_count": null,
      "outputs": [
        {
          "output_type": "stream",
          "name": "stdout",
          "text": [
            " When Paul Young says he supports outlawing abortion with no exceptions for rape or incest, believe him. And when he says that he believes abortion is a made-up right, believe him. Say no to Paul Young.\n",
            "time: 635 µs (started: 2023-03-31 08:57:29 +00:00)\n"
          ]
        }
      ]
    },
    {
      "cell_type": "code",
      "source": [
        "print(result)"
      ],
      "metadata": {
        "colab": {
          "base_uri": "https://localhost:8080/"
        },
        "id": "ec4MWOui9gUC",
        "outputId": "1042a17c-43d2-4a52-faf0-ee40a6b48074"
      },
      "execution_count": null,
      "outputs": [
        {
          "output_type": "stream",
          "name": "stdout",
          "text": [
            "{'text': ' When Paul Young says he supports outlawing abortion with no exceptions for rape or incest, believe him. And when he says that he believes abortion is a made-up right, believe him. Say no to Paul Young.', 'segments': [{'id': 0, 'seek': 0, 'start': 0.0, 'end': 7.0, 'text': ' When Paul Young says he supports outlawing abortion with no exceptions for rape or incest, believe him.', 'tokens': [50364, 1133, 4552, 8160, 1619, 415, 9346, 484, 5901, 278, 22902, 365, 572, 22847, 337, 22846, 420, 834, 377, 11, 1697, 796, 13, 50714], 'temperature': 0.0, 'avg_logprob': -0.23711765937085422, 'compression_ratio': 1.467153284671533, 'no_speech_prob': 0.4062627851963043}, {'id': 1, 'seek': 0, 'start': 7.0, 'end': 12.0, 'text': ' And when he says that he believes abortion is a made-up right, believe him.', 'tokens': [50714, 400, 562, 415, 1619, 300, 415, 12307, 22902, 307, 257, 1027, 12, 1010, 558, 11, 1697, 796, 13, 50964], 'temperature': 0.0, 'avg_logprob': -0.23711765937085422, 'compression_ratio': 1.467153284671533, 'no_speech_prob': 0.4062627851963043}, {'id': 2, 'seek': 0, 'start': 12.0, 'end': 15.0, 'text': ' Say no to Paul Young.', 'tokens': [50964, 6463, 572, 281, 4552, 8160, 13, 51114], 'temperature': 0.0, 'avg_logprob': -0.23711765937085422, 'compression_ratio': 1.467153284671533, 'no_speech_prob': 0.4062627851963043}], 'language': 'en'}\n",
            "time: 554 µs (started: 2023-03-31 08:57:29 +00:00)\n"
          ]
        }
      ]
    },
    {
      "cell_type": "markdown",
      "source": [
        "# Faster Whisper Trial\n",
        "\n",
        "Attempt at using the faster-whisper package for transcribing\n",
        "\n",
        "[Faster Whisper](https://github.com/guillaumekln/faster-whisper)"
      ],
      "metadata": {
        "id": "txI1_XFd9f-g"
      }
    },
    {
      "cell_type": "code",
      "source": [
        "pip -qqq install faster-whisper"
      ],
      "metadata": {
        "id": "FRqBwDhj-UGg"
      },
      "execution_count": null,
      "outputs": []
    },
    {
      "cell_type": "code",
      "source": [
        "from faster_whisper import WhisperModel\n",
        "\n",
        "model_size = \"large-v2\"\n",
        "\n",
        "# # Run on GPU with FP16\n",
        "# model = WhisperModel(model_size, device=\"cuda\", compute_type=\"float16\")\n",
        "\n",
        "# # or run on GPU with INT8\n",
        "# # model = WhisperModel(model_size, device=\"cuda\", compute_type=\"int8_float16\")\n",
        "# or run on CPU with INT8\n",
        "model = WhisperModel(model_size, device=\"cpu\", compute_type=\"int8\")\n",
        "\n"
      ],
      "metadata": {
        "colab": {
          "base_uri": "https://localhost:8080/",
          "height": 49,
          "referenced_widgets": [
            "e5ce3462592d469c8653077b7569d5ea",
            "2aaf84a26456424c8b9271041b1a538b",
            "0e619efc4c3445c8b2d99abb18c86c17",
            "1006449ca6f741079f1f9d3366f84bb4",
            "1879dd16f5a741be864dcfbfd621c035",
            "d239ca7be7db469cb3b75a0b99285ba6",
            "9a980c6eb1624dd89cdbc4fba0768f29",
            "620428cbde9a4c2d9d3ddea3967067a1",
            "f08a82901e8b4b24810d4ad408bf4cf7",
            "ef535ae3563a4648aac3e369f5b047b4",
            "391937d4287b442f95ec6fe54797afee"
          ]
        },
        "id": "edl_gQLQ-bG8",
        "outputId": "080896b5-b47e-462b-ec21-5eee34ba8c6b"
      },
      "execution_count": null,
      "outputs": [
        {
          "output_type": "display_data",
          "data": {
            "text/plain": [
              "Fetching 6 files:   0%|          | 0/6 [00:00<?, ?it/s]"
            ],
            "application/vnd.jupyter.widget-view+json": {
              "version_major": 2,
              "version_minor": 0,
              "model_id": "e5ce3462592d469c8653077b7569d5ea"
            }
          },
          "metadata": {}
        }
      ]
    },
    {
      "cell_type": "code",
      "source": [
        "# segments, info = model.transcribe(new_filename, beam_size=5)\n",
        "\n",
        "# print(\"Detected language '%s' with probability %f\" % (info.language, info.language_probability))\n",
        "\n",
        "\n",
        "\n",
        "# # for segment in segments:\n",
        "# #     print(\"[%.2fs -> %.2fs] %s\" % (segment.start, segment.end, segment.text))"
      ],
      "metadata": {
        "id": "AKAKeDFbArCw"
      },
      "execution_count": null,
      "outputs": []
    },
    {
      "cell_type": "code",
      "source": [
        "filename_mp3 = 'test_pol_ad_2.mp3'\n",
        "\n",
        "def transcribe_and_save(new_filename):\n",
        "    segments, info = model.transcribe(new_filename, beam_size=5)\n",
        "    output = \"\"\n",
        "    for segment in segments:\n",
        "        output += segment.text\n",
        "    return output, new_filename\n",
        "\n",
        "output, filename_mp3 = transcribe_and_save(filename_mp3)\n",
        "print(output)"
      ],
      "metadata": {
        "colab": {
          "base_uri": "https://localhost:8080/"
        },
        "id": "AyzOqv5tvBdO",
        "outputId": "2fd579d5-3c89-435a-ca76-eebc702b51c6"
      },
      "execution_count": null,
      "outputs": [
        {
          "output_type": "stream",
          "name": "stdout",
          "text": [
            " When Paul Young says he supports outlawing abortion with no exceptions for rape or incest, believe him. And when he says that he believes abortion is a made-up right, believe him. Say no to Paul Young.\n",
            "time: 1min 22s (started: 2023-03-31 09:00:46 +00:00)\n"
          ]
        }
      ]
    },
    {
      "cell_type": "code",
      "source": [
        "import pandas as pd\n",
        "\n",
        "df = pd.DataFrame({'filename': [filename_mp3], 'output': [output]})\n",
        "print(df)"
      ],
      "metadata": {
        "colab": {
          "base_uri": "https://localhost:8080/"
        },
        "id": "9Vwa4YlswiAq",
        "outputId": "db570999-f0c2-4f53-f849-00951972e357"
      },
      "execution_count": null,
      "outputs": [
        {
          "output_type": "stream",
          "name": "stdout",
          "text": [
            "            filename                                             output\n",
            "0  test_pol_ad_2.mp3   When Paul Young says he supports outlawing ab...\n",
            "time: 951 ms (started: 2023-03-31 09:03:27 +00:00)\n"
          ]
        }
      ]
    }
  ],
  "metadata": {
    "colab": {
      "provenance": [],
      "authorship_tag": "ABX9TyOkUP4qbuVbhkP7r4I4krcw",
      "include_colab_link": true
    },
    "kernelspec": {
      "display_name": "Python 3",
      "name": "python3"
    },
    "language_info": {
      "name": "python"
    },
    "widgets": {
      "application/vnd.jupyter.widget-state+json": {
        "e5ce3462592d469c8653077b7569d5ea": {
          "model_module": "@jupyter-widgets/controls",
          "model_name": "HBoxModel",
          "model_module_version": "1.5.0",
          "state": {
            "_dom_classes": [],
            "_model_module": "@jupyter-widgets/controls",
            "_model_module_version": "1.5.0",
            "_model_name": "HBoxModel",
            "_view_count": null,
            "_view_module": "@jupyter-widgets/controls",
            "_view_module_version": "1.5.0",
            "_view_name": "HBoxView",
            "box_style": "",
            "children": [
              "IPY_MODEL_2aaf84a26456424c8b9271041b1a538b",
              "IPY_MODEL_0e619efc4c3445c8b2d99abb18c86c17",
              "IPY_MODEL_1006449ca6f741079f1f9d3366f84bb4"
            ],
            "layout": "IPY_MODEL_1879dd16f5a741be864dcfbfd621c035"
          }
        },
        "2aaf84a26456424c8b9271041b1a538b": {
          "model_module": "@jupyter-widgets/controls",
          "model_name": "HTMLModel",
          "model_module_version": "1.5.0",
          "state": {
            "_dom_classes": [],
            "_model_module": "@jupyter-widgets/controls",
            "_model_module_version": "1.5.0",
            "_model_name": "HTMLModel",
            "_view_count": null,
            "_view_module": "@jupyter-widgets/controls",
            "_view_module_version": "1.5.0",
            "_view_name": "HTMLView",
            "description": "",
            "description_tooltip": null,
            "layout": "IPY_MODEL_d239ca7be7db469cb3b75a0b99285ba6",
            "placeholder": "​",
            "style": "IPY_MODEL_9a980c6eb1624dd89cdbc4fba0768f29",
            "value": "Fetching 6 files: 100%"
          }
        },
        "0e619efc4c3445c8b2d99abb18c86c17": {
          "model_module": "@jupyter-widgets/controls",
          "model_name": "FloatProgressModel",
          "model_module_version": "1.5.0",
          "state": {
            "_dom_classes": [],
            "_model_module": "@jupyter-widgets/controls",
            "_model_module_version": "1.5.0",
            "_model_name": "FloatProgressModel",
            "_view_count": null,
            "_view_module": "@jupyter-widgets/controls",
            "_view_module_version": "1.5.0",
            "_view_name": "ProgressView",
            "bar_style": "success",
            "description": "",
            "description_tooltip": null,
            "layout": "IPY_MODEL_620428cbde9a4c2d9d3ddea3967067a1",
            "max": 6,
            "min": 0,
            "orientation": "horizontal",
            "style": "IPY_MODEL_f08a82901e8b4b24810d4ad408bf4cf7",
            "value": 6
          }
        },
        "1006449ca6f741079f1f9d3366f84bb4": {
          "model_module": "@jupyter-widgets/controls",
          "model_name": "HTMLModel",
          "model_module_version": "1.5.0",
          "state": {
            "_dom_classes": [],
            "_model_module": "@jupyter-widgets/controls",
            "_model_module_version": "1.5.0",
            "_model_name": "HTMLModel",
            "_view_count": null,
            "_view_module": "@jupyter-widgets/controls",
            "_view_module_version": "1.5.0",
            "_view_name": "HTMLView",
            "description": "",
            "description_tooltip": null,
            "layout": "IPY_MODEL_ef535ae3563a4648aac3e369f5b047b4",
            "placeholder": "​",
            "style": "IPY_MODEL_391937d4287b442f95ec6fe54797afee",
            "value": " 6/6 [00:00&lt;00:00, 331.19it/s]"
          }
        },
        "1879dd16f5a741be864dcfbfd621c035": {
          "model_module": "@jupyter-widgets/base",
          "model_name": "LayoutModel",
          "model_module_version": "1.2.0",
          "state": {
            "_model_module": "@jupyter-widgets/base",
            "_model_module_version": "1.2.0",
            "_model_name": "LayoutModel",
            "_view_count": null,
            "_view_module": "@jupyter-widgets/base",
            "_view_module_version": "1.2.0",
            "_view_name": "LayoutView",
            "align_content": null,
            "align_items": null,
            "align_self": null,
            "border": null,
            "bottom": null,
            "display": null,
            "flex": null,
            "flex_flow": null,
            "grid_area": null,
            "grid_auto_columns": null,
            "grid_auto_flow": null,
            "grid_auto_rows": null,
            "grid_column": null,
            "grid_gap": null,
            "grid_row": null,
            "grid_template_areas": null,
            "grid_template_columns": null,
            "grid_template_rows": null,
            "height": null,
            "justify_content": null,
            "justify_items": null,
            "left": null,
            "margin": null,
            "max_height": null,
            "max_width": null,
            "min_height": null,
            "min_width": null,
            "object_fit": null,
            "object_position": null,
            "order": null,
            "overflow": null,
            "overflow_x": null,
            "overflow_y": null,
            "padding": null,
            "right": null,
            "top": null,
            "visibility": null,
            "width": null
          }
        },
        "d239ca7be7db469cb3b75a0b99285ba6": {
          "model_module": "@jupyter-widgets/base",
          "model_name": "LayoutModel",
          "model_module_version": "1.2.0",
          "state": {
            "_model_module": "@jupyter-widgets/base",
            "_model_module_version": "1.2.0",
            "_model_name": "LayoutModel",
            "_view_count": null,
            "_view_module": "@jupyter-widgets/base",
            "_view_module_version": "1.2.0",
            "_view_name": "LayoutView",
            "align_content": null,
            "align_items": null,
            "align_self": null,
            "border": null,
            "bottom": null,
            "display": null,
            "flex": null,
            "flex_flow": null,
            "grid_area": null,
            "grid_auto_columns": null,
            "grid_auto_flow": null,
            "grid_auto_rows": null,
            "grid_column": null,
            "grid_gap": null,
            "grid_row": null,
            "grid_template_areas": null,
            "grid_template_columns": null,
            "grid_template_rows": null,
            "height": null,
            "justify_content": null,
            "justify_items": null,
            "left": null,
            "margin": null,
            "max_height": null,
            "max_width": null,
            "min_height": null,
            "min_width": null,
            "object_fit": null,
            "object_position": null,
            "order": null,
            "overflow": null,
            "overflow_x": null,
            "overflow_y": null,
            "padding": null,
            "right": null,
            "top": null,
            "visibility": null,
            "width": null
          }
        },
        "9a980c6eb1624dd89cdbc4fba0768f29": {
          "model_module": "@jupyter-widgets/controls",
          "model_name": "DescriptionStyleModel",
          "model_module_version": "1.5.0",
          "state": {
            "_model_module": "@jupyter-widgets/controls",
            "_model_module_version": "1.5.0",
            "_model_name": "DescriptionStyleModel",
            "_view_count": null,
            "_view_module": "@jupyter-widgets/base",
            "_view_module_version": "1.2.0",
            "_view_name": "StyleView",
            "description_width": ""
          }
        },
        "620428cbde9a4c2d9d3ddea3967067a1": {
          "model_module": "@jupyter-widgets/base",
          "model_name": "LayoutModel",
          "model_module_version": "1.2.0",
          "state": {
            "_model_module": "@jupyter-widgets/base",
            "_model_module_version": "1.2.0",
            "_model_name": "LayoutModel",
            "_view_count": null,
            "_view_module": "@jupyter-widgets/base",
            "_view_module_version": "1.2.0",
            "_view_name": "LayoutView",
            "align_content": null,
            "align_items": null,
            "align_self": null,
            "border": null,
            "bottom": null,
            "display": null,
            "flex": null,
            "flex_flow": null,
            "grid_area": null,
            "grid_auto_columns": null,
            "grid_auto_flow": null,
            "grid_auto_rows": null,
            "grid_column": null,
            "grid_gap": null,
            "grid_row": null,
            "grid_template_areas": null,
            "grid_template_columns": null,
            "grid_template_rows": null,
            "height": null,
            "justify_content": null,
            "justify_items": null,
            "left": null,
            "margin": null,
            "max_height": null,
            "max_width": null,
            "min_height": null,
            "min_width": null,
            "object_fit": null,
            "object_position": null,
            "order": null,
            "overflow": null,
            "overflow_x": null,
            "overflow_y": null,
            "padding": null,
            "right": null,
            "top": null,
            "visibility": null,
            "width": null
          }
        },
        "f08a82901e8b4b24810d4ad408bf4cf7": {
          "model_module": "@jupyter-widgets/controls",
          "model_name": "ProgressStyleModel",
          "model_module_version": "1.5.0",
          "state": {
            "_model_module": "@jupyter-widgets/controls",
            "_model_module_version": "1.5.0",
            "_model_name": "ProgressStyleModel",
            "_view_count": null,
            "_view_module": "@jupyter-widgets/base",
            "_view_module_version": "1.2.0",
            "_view_name": "StyleView",
            "bar_color": null,
            "description_width": ""
          }
        },
        "ef535ae3563a4648aac3e369f5b047b4": {
          "model_module": "@jupyter-widgets/base",
          "model_name": "LayoutModel",
          "model_module_version": "1.2.0",
          "state": {
            "_model_module": "@jupyter-widgets/base",
            "_model_module_version": "1.2.0",
            "_model_name": "LayoutModel",
            "_view_count": null,
            "_view_module": "@jupyter-widgets/base",
            "_view_module_version": "1.2.0",
            "_view_name": "LayoutView",
            "align_content": null,
            "align_items": null,
            "align_self": null,
            "border": null,
            "bottom": null,
            "display": null,
            "flex": null,
            "flex_flow": null,
            "grid_area": null,
            "grid_auto_columns": null,
            "grid_auto_flow": null,
            "grid_auto_rows": null,
            "grid_column": null,
            "grid_gap": null,
            "grid_row": null,
            "grid_template_areas": null,
            "grid_template_columns": null,
            "grid_template_rows": null,
            "height": null,
            "justify_content": null,
            "justify_items": null,
            "left": null,
            "margin": null,
            "max_height": null,
            "max_width": null,
            "min_height": null,
            "min_width": null,
            "object_fit": null,
            "object_position": null,
            "order": null,
            "overflow": null,
            "overflow_x": null,
            "overflow_y": null,
            "padding": null,
            "right": null,
            "top": null,
            "visibility": null,
            "width": null
          }
        },
        "391937d4287b442f95ec6fe54797afee": {
          "model_module": "@jupyter-widgets/controls",
          "model_name": "DescriptionStyleModel",
          "model_module_version": "1.5.0",
          "state": {
            "_model_module": "@jupyter-widgets/controls",
            "_model_module_version": "1.5.0",
            "_model_name": "DescriptionStyleModel",
            "_view_count": null,
            "_view_module": "@jupyter-widgets/base",
            "_view_module_version": "1.2.0",
            "_view_name": "StyleView",
            "description_width": ""
          }
        }
      }
    }
  },
  "nbformat": 4,
  "nbformat_minor": 0
}