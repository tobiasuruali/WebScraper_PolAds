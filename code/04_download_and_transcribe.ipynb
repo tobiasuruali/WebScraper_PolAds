{
  "nbformat": 4,
  "nbformat_minor": 0,
  "metadata": {
    "colab": {
      "provenance": [],
      "authorship_tag": "ABX9TyOf3Y6cjsDFcpmPM0Bqr47n",
      "include_colab_link": true
    },
    "kernelspec": {
      "name": "python3",
      "display_name": "Python 3"
    },
    "language_info": {
      "name": "python"
    },
    "accelerator": "GPU",
    "gpuClass": "standard"
  },
  "cells": [
    {
      "cell_type": "markdown",
      "metadata": {
        "id": "view-in-github",
        "colab_type": "text"
      },
      "source": [
        "<a href=\"https://colab.research.google.com/github/tobiasuruali/WebScraper_PolAds/blob/main/code/04_download_and_transcribe.ipynb\" target=\"_parent\"><img src=\"https://colab.research.google.com/assets/colab-badge.svg\" alt=\"Open In Colab\"/></a>"
      ]
    },
    {
      "cell_type": "code",
      "execution_count": 22,
      "metadata": {
        "colab": {
          "base_uri": "https://localhost:8080/"
        },
        "id": "t1zy_PwyVbyX",
        "outputId": "90bcb33a-bd62-4558-f215-eed5cbc5c735"
      },
      "outputs": [
        {
          "output_type": "stream",
          "name": "stdout",
          "text": [
            "Drive already mounted at /content/drive/; to attempt to forcibly remount, call drive.mount(\"/content/drive/\", force_remount=True).\n",
            "time: 2.47 s (started: 2023-04-28 11:49:06 +00:00)\n"
          ]
        }
      ],
      "source": [
        "#Mount your Google Drive Folders\n",
        "from google.colab import drive\n",
        "drive.mount('/content/drive/')"
      ]
    },
    {
      "cell_type": "code",
      "source": [
        "!pip -qqq install ipython-autotime\n",
        "%load_ext autotime"
      ],
      "metadata": {
        "colab": {
          "base_uri": "https://localhost:8080/"
        },
        "id": "uMxv2NxiWXWT",
        "outputId": "b6c00e66-3a68-4ace-ee21-6d284266a504"
      },
      "execution_count": 23,
      "outputs": [
        {
          "output_type": "stream",
          "name": "stdout",
          "text": [
            "The autotime extension is already loaded. To reload it, use:\n",
            "  %reload_ext autotime\n",
            "time: 4.72 s (started: 2023-04-28 11:49:08 +00:00)\n"
          ]
        }
      ]
    },
    {
      "cell_type": "code",
      "source": [
        "import os\n",
        "os.chdir('/content/drive/MyDrive/Google_Pol_Ads')\n",
        "print(os.listdir())\n",
        "print(os.getcwd())"
      ],
      "metadata": {
        "colab": {
          "base_uri": "https://localhost:8080/"
        },
        "id": "CHZVfM4MWXTt",
        "outputId": "fb0ad1e4-f25a-4de5-fdcf-2299888df510"
      },
      "execution_count": 24,
      "outputs": [
        {
          "output_type": "stream",
          "name": "stdout",
          "text": [
            "['data']\n",
            "/content/drive/MyDrive/Google_Pol_Ads\n",
            "time: 1.57 ms (started: 2023-04-28 11:49:13 +00:00)\n"
          ]
        }
      ]
    },
    {
      "cell_type": "markdown",
      "source": [
        "# Download Video Audio\n",
        "\n",
        "Download all Video audio of the Trump/Biden Dataset. In preparation for transcription"
      ],
      "metadata": {
        "id": "g8fe9xLGanXY"
      }
    },
    {
      "cell_type": "code",
      "source": [
        "#Reading Rds files\n",
        "!pip -qqq install pyreadr"
      ],
      "metadata": {
        "colab": {
          "base_uri": "https://localhost:8080/"
        },
        "id": "0kTCGGJXdVF_",
        "outputId": "6af2903e-8bba-49ee-d7d8-a1c577a3eef3"
      },
      "execution_count": 25,
      "outputs": [
        {
          "output_type": "stream",
          "name": "stdout",
          "text": [
            "time: 3.92 s (started: 2023-04-28 11:49:13 +00:00)\n"
          ]
        }
      ]
    },
    {
      "cell_type": "code",
      "source": [
        "# Install the library\n",
        "#!pip -qqq install pytube\n",
        "!pip -qqq install yt-dlp\n",
        "\n",
        "# import the module\n",
        "#from pytube import YouTube"
      ],
      "metadata": {
        "colab": {
          "base_uri": "https://localhost:8080/"
        },
        "id": "0_mlV2XjeGHR",
        "outputId": "1a0680e6-4fab-421e-ddb5-6f594f4ced97"
      },
      "execution_count": 26,
      "outputs": [
        {
          "output_type": "stream",
          "name": "stdout",
          "text": [
            "time: 3.72 s (started: 2023-04-28 11:49:17 +00:00)\n"
          ]
        }
      ]
    },
    {
      "cell_type": "code",
      "source": [
        "import pandas as pd\n",
        "import pyreadr\n",
        "\n",
        "result = pyreadr.read_r('data/data_processed/data_filtered/us_trump_biden_video.Rds')\n",
        "df = result[None]\n",
        "df.head()\n"
      ],
      "metadata": {
        "colab": {
          "base_uri": "https://localhost:8080/",
          "height": 409
        },
        "id": "yyPSTcaWWXRG",
        "outputId": "6d505807-020a-406a-c89a-89e61eceb366"
      },
      "execution_count": 28,
      "outputs": [
        {
          "output_type": "execute_result",
          "data": {
            "text/plain": [
              "                    ad_id date_range_start  \\\n",
              "0  CR11090283956946337793       2020-02-12   \n",
              "1  CR07166670665913729025       2020-10-13   \n",
              "2  CR11261325635030614017       2020-10-11   \n",
              "3  CR05385577827393339393       2020-01-18   \n",
              "4  CR05725947732128956417       2020-09-18   \n",
              "\n",
              "                                              ad_url           advertiser_id  \\\n",
              "0  https://adstransparency.google.com/advertiser/...  AR12365610929977556993   \n",
              "1  https://adstransparency.google.com/advertiser/...  AR11825178974693097473   \n",
              "2  https://adstransparency.google.com/advertiser/...  AR11825178974693097473   \n",
              "3  https://adstransparency.google.com/advertiser/...  AR12365610929977556993   \n",
              "4  https://adstransparency.google.com/advertiser/...  AR12365610929977556993   \n",
              "\n",
              "                       advertiser_name  \\\n",
              "0                  BIDEN FOR PRESIDENT   \n",
              "1  DONALD J. TRUMP FOR PRESIDENT, INC.   \n",
              "2  DONALD J. TRUMP FOR PRESIDENT, INC.   \n",
              "3                  BIDEN FOR PRESIDENT   \n",
              "4                  BIDEN FOR PRESIDENT   \n",
              "\n",
              "                                         youtube_url  \n",
              "0  https://www.youtube.com/watch?v=Ai2dsijZtZw&em...  \n",
              "1  https://www.youtube.com/watch?v=Lgr1RYNBDyc&em...  \n",
              "2  https://www.youtube.com/watch?v=JJNTZ2GlXTE&em...  \n",
              "3  https://www.youtube.com/watch?v=n_Rp5ddDe34&em...  \n",
              "4  https://www.youtube.com/watch?v=q35fMk6uFdU&em...  "
            ],
            "text/html": [
              "\n",
              "  <div id=\"df-bb9408f6-8e84-4ca0-bf5a-53c498b743ac\">\n",
              "    <div class=\"colab-df-container\">\n",
              "      <div>\n",
              "<style scoped>\n",
              "    .dataframe tbody tr th:only-of-type {\n",
              "        vertical-align: middle;\n",
              "    }\n",
              "\n",
              "    .dataframe tbody tr th {\n",
              "        vertical-align: top;\n",
              "    }\n",
              "\n",
              "    .dataframe thead th {\n",
              "        text-align: right;\n",
              "    }\n",
              "</style>\n",
              "<table border=\"1\" class=\"dataframe\">\n",
              "  <thead>\n",
              "    <tr style=\"text-align: right;\">\n",
              "      <th></th>\n",
              "      <th>ad_id</th>\n",
              "      <th>date_range_start</th>\n",
              "      <th>ad_url</th>\n",
              "      <th>advertiser_id</th>\n",
              "      <th>advertiser_name</th>\n",
              "      <th>youtube_url</th>\n",
              "    </tr>\n",
              "  </thead>\n",
              "  <tbody>\n",
              "    <tr>\n",
              "      <th>0</th>\n",
              "      <td>CR11090283956946337793</td>\n",
              "      <td>2020-02-12</td>\n",
              "      <td>https://adstransparency.google.com/advertiser/...</td>\n",
              "      <td>AR12365610929977556993</td>\n",
              "      <td>BIDEN FOR PRESIDENT</td>\n",
              "      <td>https://www.youtube.com/watch?v=Ai2dsijZtZw&amp;em...</td>\n",
              "    </tr>\n",
              "    <tr>\n",
              "      <th>1</th>\n",
              "      <td>CR07166670665913729025</td>\n",
              "      <td>2020-10-13</td>\n",
              "      <td>https://adstransparency.google.com/advertiser/...</td>\n",
              "      <td>AR11825178974693097473</td>\n",
              "      <td>DONALD J. TRUMP FOR PRESIDENT, INC.</td>\n",
              "      <td>https://www.youtube.com/watch?v=Lgr1RYNBDyc&amp;em...</td>\n",
              "    </tr>\n",
              "    <tr>\n",
              "      <th>2</th>\n",
              "      <td>CR11261325635030614017</td>\n",
              "      <td>2020-10-11</td>\n",
              "      <td>https://adstransparency.google.com/advertiser/...</td>\n",
              "      <td>AR11825178974693097473</td>\n",
              "      <td>DONALD J. TRUMP FOR PRESIDENT, INC.</td>\n",
              "      <td>https://www.youtube.com/watch?v=JJNTZ2GlXTE&amp;em...</td>\n",
              "    </tr>\n",
              "    <tr>\n",
              "      <th>3</th>\n",
              "      <td>CR05385577827393339393</td>\n",
              "      <td>2020-01-18</td>\n",
              "      <td>https://adstransparency.google.com/advertiser/...</td>\n",
              "      <td>AR12365610929977556993</td>\n",
              "      <td>BIDEN FOR PRESIDENT</td>\n",
              "      <td>https://www.youtube.com/watch?v=n_Rp5ddDe34&amp;em...</td>\n",
              "    </tr>\n",
              "    <tr>\n",
              "      <th>4</th>\n",
              "      <td>CR05725947732128956417</td>\n",
              "      <td>2020-09-18</td>\n",
              "      <td>https://adstransparency.google.com/advertiser/...</td>\n",
              "      <td>AR12365610929977556993</td>\n",
              "      <td>BIDEN FOR PRESIDENT</td>\n",
              "      <td>https://www.youtube.com/watch?v=q35fMk6uFdU&amp;em...</td>\n",
              "    </tr>\n",
              "  </tbody>\n",
              "</table>\n",
              "</div>\n",
              "      <button class=\"colab-df-convert\" onclick=\"convertToInteractive('df-bb9408f6-8e84-4ca0-bf5a-53c498b743ac')\"\n",
              "              title=\"Convert this dataframe to an interactive table.\"\n",
              "              style=\"display:none;\">\n",
              "        \n",
              "  <svg xmlns=\"http://www.w3.org/2000/svg\" height=\"24px\"viewBox=\"0 0 24 24\"\n",
              "       width=\"24px\">\n",
              "    <path d=\"M0 0h24v24H0V0z\" fill=\"none\"/>\n",
              "    <path d=\"M18.56 5.44l.94 2.06.94-2.06 2.06-.94-2.06-.94-.94-2.06-.94 2.06-2.06.94zm-11 1L8.5 8.5l.94-2.06 2.06-.94-2.06-.94L8.5 2.5l-.94 2.06-2.06.94zm10 10l.94 2.06.94-2.06 2.06-.94-2.06-.94-.94-2.06-.94 2.06-2.06.94z\"/><path d=\"M17.41 7.96l-1.37-1.37c-.4-.4-.92-.59-1.43-.59-.52 0-1.04.2-1.43.59L10.3 9.45l-7.72 7.72c-.78.78-.78 2.05 0 2.83L4 21.41c.39.39.9.59 1.41.59.51 0 1.02-.2 1.41-.59l7.78-7.78 2.81-2.81c.8-.78.8-2.07 0-2.86zM5.41 20L4 18.59l7.72-7.72 1.47 1.35L5.41 20z\"/>\n",
              "  </svg>\n",
              "      </button>\n",
              "      \n",
              "  <style>\n",
              "    .colab-df-container {\n",
              "      display:flex;\n",
              "      flex-wrap:wrap;\n",
              "      gap: 12px;\n",
              "    }\n",
              "\n",
              "    .colab-df-convert {\n",
              "      background-color: #E8F0FE;\n",
              "      border: none;\n",
              "      border-radius: 50%;\n",
              "      cursor: pointer;\n",
              "      display: none;\n",
              "      fill: #1967D2;\n",
              "      height: 32px;\n",
              "      padding: 0 0 0 0;\n",
              "      width: 32px;\n",
              "    }\n",
              "\n",
              "    .colab-df-convert:hover {\n",
              "      background-color: #E2EBFA;\n",
              "      box-shadow: 0px 1px 2px rgba(60, 64, 67, 0.3), 0px 1px 3px 1px rgba(60, 64, 67, 0.15);\n",
              "      fill: #174EA6;\n",
              "    }\n",
              "\n",
              "    [theme=dark] .colab-df-convert {\n",
              "      background-color: #3B4455;\n",
              "      fill: #D2E3FC;\n",
              "    }\n",
              "\n",
              "    [theme=dark] .colab-df-convert:hover {\n",
              "      background-color: #434B5C;\n",
              "      box-shadow: 0px 1px 3px 1px rgba(0, 0, 0, 0.15);\n",
              "      filter: drop-shadow(0px 1px 2px rgba(0, 0, 0, 0.3));\n",
              "      fill: #FFFFFF;\n",
              "    }\n",
              "  </style>\n",
              "\n",
              "      <script>\n",
              "        const buttonEl =\n",
              "          document.querySelector('#df-bb9408f6-8e84-4ca0-bf5a-53c498b743ac button.colab-df-convert');\n",
              "        buttonEl.style.display =\n",
              "          google.colab.kernel.accessAllowed ? 'block' : 'none';\n",
              "\n",
              "        async function convertToInteractive(key) {\n",
              "          const element = document.querySelector('#df-bb9408f6-8e84-4ca0-bf5a-53c498b743ac');\n",
              "          const dataTable =\n",
              "            await google.colab.kernel.invokeFunction('convertToInteractive',\n",
              "                                                     [key], {});\n",
              "          if (!dataTable) return;\n",
              "\n",
              "          const docLinkHtml = 'Like what you see? Visit the ' +\n",
              "            '<a target=\"_blank\" href=https://colab.research.google.com/notebooks/data_table.ipynb>data table notebook</a>'\n",
              "            + ' to learn more about interactive tables.';\n",
              "          element.innerHTML = '';\n",
              "          dataTable['output_type'] = 'display_data';\n",
              "          await google.colab.output.renderOutput(dataTable, element);\n",
              "          const docLink = document.createElement('div');\n",
              "          docLink.innerHTML = docLinkHtml;\n",
              "          element.appendChild(docLink);\n",
              "        }\n",
              "      </script>\n",
              "    </div>\n",
              "  </div>\n",
              "  "
            ]
          },
          "metadata": {},
          "execution_count": 28
        },
        {
          "output_type": "stream",
          "name": "stdout",
          "text": [
            "time: 49.5 ms (started: 2023-04-28 11:49:35 +00:00)\n"
          ]
        }
      ]
    },
    {
      "cell_type": "markdown",
      "source": [
        "We have split up the trump and biden dataset and created a sample of 25 videos each. See here: [R Script Subset](https://github.com/tobiasuruali/WebScraper_PolAds/blob/main/code/03_trump_biden_subset.R). \n",
        "Let's save them in specific dataframes."
      ],
      "metadata": {
        "id": "NDYjw0Ctrhph"
      }
    },
    {
      "cell_type": "code",
      "source": [
        "result_trump = pyreadr.read_r('data/data_processed/data_filtered/us_trump_video_25.Rds')\n",
        "df_trump = result_trump[None]\n",
        "df_trump.head()"
      ],
      "metadata": {
        "colab": {
          "base_uri": "https://localhost:8080/",
          "height": 548
        },
        "id": "6QfLF69irhD_",
        "outputId": "67ed5930-7135-40b6-8621-5bf6746b6ad1"
      },
      "execution_count": 29,
      "outputs": [
        {
          "output_type": "execute_result",
          "data": {
            "text/plain": [
              "                    ad_id date_range_start  \\\n",
              "0  CR04400274671417688065       2020-08-27   \n",
              "1  CR15841802428220440577       2019-05-31   \n",
              "2  CR09820772300914425857       2019-08-20   \n",
              "3  CR13821657619879690241       2019-06-27   \n",
              "4  CR17847875686748913665       2019-06-25   \n",
              "\n",
              "                                              ad_url           advertiser_id  \\\n",
              "0  https://adstransparency.google.com/advertiser/...  AR07331491169769095169   \n",
              "1  https://adstransparency.google.com/advertiser/...  AR07331491169769095169   \n",
              "2  https://adstransparency.google.com/advertiser/...  AR07331491169769095169   \n",
              "3  https://adstransparency.google.com/advertiser/...  AR07331491169769095169   \n",
              "4  https://adstransparency.google.com/advertiser/...  AR07331491169769095169   \n",
              "\n",
              "                            advertiser_name  \\\n",
              "0  TRUMP MAKE AMERICA GREAT AGAIN COMMITTEE   \n",
              "1  TRUMP MAKE AMERICA GREAT AGAIN COMMITTEE   \n",
              "2  TRUMP MAKE AMERICA GREAT AGAIN COMMITTEE   \n",
              "3  TRUMP MAKE AMERICA GREAT AGAIN COMMITTEE   \n",
              "4  TRUMP MAKE AMERICA GREAT AGAIN COMMITTEE   \n",
              "\n",
              "                                         youtube_url  \n",
              "0  https://www.youtube.com/watch?v=am0K1Vs1oS4&em...  \n",
              "1  https://www.youtube.com/watch?v=m0vuun_0xfA&em...  \n",
              "2  https://www.youtube.com/watch?v=Bv8CGyPYx0s&em...  \n",
              "3  https://www.youtube.com/watch?v=atnnionjOaE&em...  \n",
              "4               14057b43-8b8c-4d4d-af44-af0c66bbfb55  "
            ],
            "text/html": [
              "\n",
              "  <div id=\"df-7fd440ab-0853-45f5-a709-2dfd6d7b8b84\">\n",
              "    <div class=\"colab-df-container\">\n",
              "      <div>\n",
              "<style scoped>\n",
              "    .dataframe tbody tr th:only-of-type {\n",
              "        vertical-align: middle;\n",
              "    }\n",
              "\n",
              "    .dataframe tbody tr th {\n",
              "        vertical-align: top;\n",
              "    }\n",
              "\n",
              "    .dataframe thead th {\n",
              "        text-align: right;\n",
              "    }\n",
              "</style>\n",
              "<table border=\"1\" class=\"dataframe\">\n",
              "  <thead>\n",
              "    <tr style=\"text-align: right;\">\n",
              "      <th></th>\n",
              "      <th>ad_id</th>\n",
              "      <th>date_range_start</th>\n",
              "      <th>ad_url</th>\n",
              "      <th>advertiser_id</th>\n",
              "      <th>advertiser_name</th>\n",
              "      <th>youtube_url</th>\n",
              "    </tr>\n",
              "  </thead>\n",
              "  <tbody>\n",
              "    <tr>\n",
              "      <th>0</th>\n",
              "      <td>CR04400274671417688065</td>\n",
              "      <td>2020-08-27</td>\n",
              "      <td>https://adstransparency.google.com/advertiser/...</td>\n",
              "      <td>AR07331491169769095169</td>\n",
              "      <td>TRUMP MAKE AMERICA GREAT AGAIN COMMITTEE</td>\n",
              "      <td>https://www.youtube.com/watch?v=am0K1Vs1oS4&amp;em...</td>\n",
              "    </tr>\n",
              "    <tr>\n",
              "      <th>1</th>\n",
              "      <td>CR15841802428220440577</td>\n",
              "      <td>2019-05-31</td>\n",
              "      <td>https://adstransparency.google.com/advertiser/...</td>\n",
              "      <td>AR07331491169769095169</td>\n",
              "      <td>TRUMP MAKE AMERICA GREAT AGAIN COMMITTEE</td>\n",
              "      <td>https://www.youtube.com/watch?v=m0vuun_0xfA&amp;em...</td>\n",
              "    </tr>\n",
              "    <tr>\n",
              "      <th>2</th>\n",
              "      <td>CR09820772300914425857</td>\n",
              "      <td>2019-08-20</td>\n",
              "      <td>https://adstransparency.google.com/advertiser/...</td>\n",
              "      <td>AR07331491169769095169</td>\n",
              "      <td>TRUMP MAKE AMERICA GREAT AGAIN COMMITTEE</td>\n",
              "      <td>https://www.youtube.com/watch?v=Bv8CGyPYx0s&amp;em...</td>\n",
              "    </tr>\n",
              "    <tr>\n",
              "      <th>3</th>\n",
              "      <td>CR13821657619879690241</td>\n",
              "      <td>2019-06-27</td>\n",
              "      <td>https://adstransparency.google.com/advertiser/...</td>\n",
              "      <td>AR07331491169769095169</td>\n",
              "      <td>TRUMP MAKE AMERICA GREAT AGAIN COMMITTEE</td>\n",
              "      <td>https://www.youtube.com/watch?v=atnnionjOaE&amp;em...</td>\n",
              "    </tr>\n",
              "    <tr>\n",
              "      <th>4</th>\n",
              "      <td>CR17847875686748913665</td>\n",
              "      <td>2019-06-25</td>\n",
              "      <td>https://adstransparency.google.com/advertiser/...</td>\n",
              "      <td>AR07331491169769095169</td>\n",
              "      <td>TRUMP MAKE AMERICA GREAT AGAIN COMMITTEE</td>\n",
              "      <td>14057b43-8b8c-4d4d-af44-af0c66bbfb55</td>\n",
              "    </tr>\n",
              "  </tbody>\n",
              "</table>\n",
              "</div>\n",
              "      <button class=\"colab-df-convert\" onclick=\"convertToInteractive('df-7fd440ab-0853-45f5-a709-2dfd6d7b8b84')\"\n",
              "              title=\"Convert this dataframe to an interactive table.\"\n",
              "              style=\"display:none;\">\n",
              "        \n",
              "  <svg xmlns=\"http://www.w3.org/2000/svg\" height=\"24px\"viewBox=\"0 0 24 24\"\n",
              "       width=\"24px\">\n",
              "    <path d=\"M0 0h24v24H0V0z\" fill=\"none\"/>\n",
              "    <path d=\"M18.56 5.44l.94 2.06.94-2.06 2.06-.94-2.06-.94-.94-2.06-.94 2.06-2.06.94zm-11 1L8.5 8.5l.94-2.06 2.06-.94-2.06-.94L8.5 2.5l-.94 2.06-2.06.94zm10 10l.94 2.06.94-2.06 2.06-.94-2.06-.94-.94-2.06-.94 2.06-2.06.94z\"/><path d=\"M17.41 7.96l-1.37-1.37c-.4-.4-.92-.59-1.43-.59-.52 0-1.04.2-1.43.59L10.3 9.45l-7.72 7.72c-.78.78-.78 2.05 0 2.83L4 21.41c.39.39.9.59 1.41.59.51 0 1.02-.2 1.41-.59l7.78-7.78 2.81-2.81c.8-.78.8-2.07 0-2.86zM5.41 20L4 18.59l7.72-7.72 1.47 1.35L5.41 20z\"/>\n",
              "  </svg>\n",
              "      </button>\n",
              "      \n",
              "  <style>\n",
              "    .colab-df-container {\n",
              "      display:flex;\n",
              "      flex-wrap:wrap;\n",
              "      gap: 12px;\n",
              "    }\n",
              "\n",
              "    .colab-df-convert {\n",
              "      background-color: #E8F0FE;\n",
              "      border: none;\n",
              "      border-radius: 50%;\n",
              "      cursor: pointer;\n",
              "      display: none;\n",
              "      fill: #1967D2;\n",
              "      height: 32px;\n",
              "      padding: 0 0 0 0;\n",
              "      width: 32px;\n",
              "    }\n",
              "\n",
              "    .colab-df-convert:hover {\n",
              "      background-color: #E2EBFA;\n",
              "      box-shadow: 0px 1px 2px rgba(60, 64, 67, 0.3), 0px 1px 3px 1px rgba(60, 64, 67, 0.15);\n",
              "      fill: #174EA6;\n",
              "    }\n",
              "\n",
              "    [theme=dark] .colab-df-convert {\n",
              "      background-color: #3B4455;\n",
              "      fill: #D2E3FC;\n",
              "    }\n",
              "\n",
              "    [theme=dark] .colab-df-convert:hover {\n",
              "      background-color: #434B5C;\n",
              "      box-shadow: 0px 1px 3px 1px rgba(0, 0, 0, 0.15);\n",
              "      filter: drop-shadow(0px 1px 2px rgba(0, 0, 0, 0.3));\n",
              "      fill: #FFFFFF;\n",
              "    }\n",
              "  </style>\n",
              "\n",
              "      <script>\n",
              "        const buttonEl =\n",
              "          document.querySelector('#df-7fd440ab-0853-45f5-a709-2dfd6d7b8b84 button.colab-df-convert');\n",
              "        buttonEl.style.display =\n",
              "          google.colab.kernel.accessAllowed ? 'block' : 'none';\n",
              "\n",
              "        async function convertToInteractive(key) {\n",
              "          const element = document.querySelector('#df-7fd440ab-0853-45f5-a709-2dfd6d7b8b84');\n",
              "          const dataTable =\n",
              "            await google.colab.kernel.invokeFunction('convertToInteractive',\n",
              "                                                     [key], {});\n",
              "          if (!dataTable) return;\n",
              "\n",
              "          const docLinkHtml = 'Like what you see? Visit the ' +\n",
              "            '<a target=\"_blank\" href=https://colab.research.google.com/notebooks/data_table.ipynb>data table notebook</a>'\n",
              "            + ' to learn more about interactive tables.';\n",
              "          element.innerHTML = '';\n",
              "          dataTable['output_type'] = 'display_data';\n",
              "          await google.colab.output.renderOutput(dataTable, element);\n",
              "          const docLink = document.createElement('div');\n",
              "          docLink.innerHTML = docLinkHtml;\n",
              "          element.appendChild(docLink);\n",
              "        }\n",
              "      </script>\n",
              "    </div>\n",
              "  </div>\n",
              "  "
            ]
          },
          "metadata": {},
          "execution_count": 29
        },
        {
          "output_type": "stream",
          "name": "stdout",
          "text": [
            "time: 281 ms (started: 2023-04-28 11:49:42 +00:00)\n"
          ]
        }
      ]
    },
    {
      "cell_type": "code",
      "source": [
        "result_biden = pyreadr.read_r('data/data_processed/data_filtered/us_biden_video_25.Rds')\n",
        "df_biden = result_biden[None]\n",
        "df_biden.head()"
      ],
      "metadata": {
        "colab": {
          "base_uri": "https://localhost:8080/",
          "height": 374
        },
        "id": "Yo9QqlL-rhBh",
        "outputId": "87948f14-29d1-4c65-dfaf-9c9809b658e4"
      },
      "execution_count": 30,
      "outputs": [
        {
          "output_type": "execute_result",
          "data": {
            "text/plain": [
              "                    ad_id date_range_start  \\\n",
              "0  CR15918438113798520833       2020-09-26   \n",
              "1  CR17518932181727051777       2020-10-14   \n",
              "2  CR00594095956740276225       2020-07-21   \n",
              "3  CR08347521415133528065       2020-03-10   \n",
              "4  CR00057309294818754561       2019-11-30   \n",
              "\n",
              "                                              ad_url           advertiser_id  \\\n",
              "0  https://adstransparency.google.com/advertiser/...  AR05941226061533544449   \n",
              "1  https://adstransparency.google.com/advertiser/...  AR12365610929977556993   \n",
              "2  https://adstransparency.google.com/advertiser/...  AR12365610929977556993   \n",
              "3  https://adstransparency.google.com/advertiser/...  AR12365610929977556993   \n",
              "4  https://adstransparency.google.com/advertiser/...  AR12365610929977556993   \n",
              "\n",
              "       advertiser_name                                        youtube_url  \n",
              "0   BIDEN VICTORY FUND  https://www.youtube.com/watch?v=EVK7U7-0lY0&em...  \n",
              "1  BIDEN FOR PRESIDENT  https://www.youtube.com/watch?v=_C-WvLV5UII&em...  \n",
              "2  BIDEN FOR PRESIDENT  https://www.youtube.com/watch?v=PqL4PiMR-_0&em...  \n",
              "3  BIDEN FOR PRESIDENT  https://www.youtube.com/watch?v=fUNdWQ9iThc&em...  \n",
              "4  BIDEN FOR PRESIDENT  https://www.youtube.com/watch?v=esBoSfni9yE&em...  "
            ],
            "text/html": [
              "\n",
              "  <div id=\"df-dd2c04ca-2e58-4b75-bdd9-94c7bad7b4b3\">\n",
              "    <div class=\"colab-df-container\">\n",
              "      <div>\n",
              "<style scoped>\n",
              "    .dataframe tbody tr th:only-of-type {\n",
              "        vertical-align: middle;\n",
              "    }\n",
              "\n",
              "    .dataframe tbody tr th {\n",
              "        vertical-align: top;\n",
              "    }\n",
              "\n",
              "    .dataframe thead th {\n",
              "        text-align: right;\n",
              "    }\n",
              "</style>\n",
              "<table border=\"1\" class=\"dataframe\">\n",
              "  <thead>\n",
              "    <tr style=\"text-align: right;\">\n",
              "      <th></th>\n",
              "      <th>ad_id</th>\n",
              "      <th>date_range_start</th>\n",
              "      <th>ad_url</th>\n",
              "      <th>advertiser_id</th>\n",
              "      <th>advertiser_name</th>\n",
              "      <th>youtube_url</th>\n",
              "    </tr>\n",
              "  </thead>\n",
              "  <tbody>\n",
              "    <tr>\n",
              "      <th>0</th>\n",
              "      <td>CR15918438113798520833</td>\n",
              "      <td>2020-09-26</td>\n",
              "      <td>https://adstransparency.google.com/advertiser/...</td>\n",
              "      <td>AR05941226061533544449</td>\n",
              "      <td>BIDEN VICTORY FUND</td>\n",
              "      <td>https://www.youtube.com/watch?v=EVK7U7-0lY0&amp;em...</td>\n",
              "    </tr>\n",
              "    <tr>\n",
              "      <th>1</th>\n",
              "      <td>CR17518932181727051777</td>\n",
              "      <td>2020-10-14</td>\n",
              "      <td>https://adstransparency.google.com/advertiser/...</td>\n",
              "      <td>AR12365610929977556993</td>\n",
              "      <td>BIDEN FOR PRESIDENT</td>\n",
              "      <td>https://www.youtube.com/watch?v=_C-WvLV5UII&amp;em...</td>\n",
              "    </tr>\n",
              "    <tr>\n",
              "      <th>2</th>\n",
              "      <td>CR00594095956740276225</td>\n",
              "      <td>2020-07-21</td>\n",
              "      <td>https://adstransparency.google.com/advertiser/...</td>\n",
              "      <td>AR12365610929977556993</td>\n",
              "      <td>BIDEN FOR PRESIDENT</td>\n",
              "      <td>https://www.youtube.com/watch?v=PqL4PiMR-_0&amp;em...</td>\n",
              "    </tr>\n",
              "    <tr>\n",
              "      <th>3</th>\n",
              "      <td>CR08347521415133528065</td>\n",
              "      <td>2020-03-10</td>\n",
              "      <td>https://adstransparency.google.com/advertiser/...</td>\n",
              "      <td>AR12365610929977556993</td>\n",
              "      <td>BIDEN FOR PRESIDENT</td>\n",
              "      <td>https://www.youtube.com/watch?v=fUNdWQ9iThc&amp;em...</td>\n",
              "    </tr>\n",
              "    <tr>\n",
              "      <th>4</th>\n",
              "      <td>CR00057309294818754561</td>\n",
              "      <td>2019-11-30</td>\n",
              "      <td>https://adstransparency.google.com/advertiser/...</td>\n",
              "      <td>AR12365610929977556993</td>\n",
              "      <td>BIDEN FOR PRESIDENT</td>\n",
              "      <td>https://www.youtube.com/watch?v=esBoSfni9yE&amp;em...</td>\n",
              "    </tr>\n",
              "  </tbody>\n",
              "</table>\n",
              "</div>\n",
              "      <button class=\"colab-df-convert\" onclick=\"convertToInteractive('df-dd2c04ca-2e58-4b75-bdd9-94c7bad7b4b3')\"\n",
              "              title=\"Convert this dataframe to an interactive table.\"\n",
              "              style=\"display:none;\">\n",
              "        \n",
              "  <svg xmlns=\"http://www.w3.org/2000/svg\" height=\"24px\"viewBox=\"0 0 24 24\"\n",
              "       width=\"24px\">\n",
              "    <path d=\"M0 0h24v24H0V0z\" fill=\"none\"/>\n",
              "    <path d=\"M18.56 5.44l.94 2.06.94-2.06 2.06-.94-2.06-.94-.94-2.06-.94 2.06-2.06.94zm-11 1L8.5 8.5l.94-2.06 2.06-.94-2.06-.94L8.5 2.5l-.94 2.06-2.06.94zm10 10l.94 2.06.94-2.06 2.06-.94-2.06-.94-.94-2.06-.94 2.06-2.06.94z\"/><path d=\"M17.41 7.96l-1.37-1.37c-.4-.4-.92-.59-1.43-.59-.52 0-1.04.2-1.43.59L10.3 9.45l-7.72 7.72c-.78.78-.78 2.05 0 2.83L4 21.41c.39.39.9.59 1.41.59.51 0 1.02-.2 1.41-.59l7.78-7.78 2.81-2.81c.8-.78.8-2.07 0-2.86zM5.41 20L4 18.59l7.72-7.72 1.47 1.35L5.41 20z\"/>\n",
              "  </svg>\n",
              "      </button>\n",
              "      \n",
              "  <style>\n",
              "    .colab-df-container {\n",
              "      display:flex;\n",
              "      flex-wrap:wrap;\n",
              "      gap: 12px;\n",
              "    }\n",
              "\n",
              "    .colab-df-convert {\n",
              "      background-color: #E8F0FE;\n",
              "      border: none;\n",
              "      border-radius: 50%;\n",
              "      cursor: pointer;\n",
              "      display: none;\n",
              "      fill: #1967D2;\n",
              "      height: 32px;\n",
              "      padding: 0 0 0 0;\n",
              "      width: 32px;\n",
              "    }\n",
              "\n",
              "    .colab-df-convert:hover {\n",
              "      background-color: #E2EBFA;\n",
              "      box-shadow: 0px 1px 2px rgba(60, 64, 67, 0.3), 0px 1px 3px 1px rgba(60, 64, 67, 0.15);\n",
              "      fill: #174EA6;\n",
              "    }\n",
              "\n",
              "    [theme=dark] .colab-df-convert {\n",
              "      background-color: #3B4455;\n",
              "      fill: #D2E3FC;\n",
              "    }\n",
              "\n",
              "    [theme=dark] .colab-df-convert:hover {\n",
              "      background-color: #434B5C;\n",
              "      box-shadow: 0px 1px 3px 1px rgba(0, 0, 0, 0.15);\n",
              "      filter: drop-shadow(0px 1px 2px rgba(0, 0, 0, 0.3));\n",
              "      fill: #FFFFFF;\n",
              "    }\n",
              "  </style>\n",
              "\n",
              "      <script>\n",
              "        const buttonEl =\n",
              "          document.querySelector('#df-dd2c04ca-2e58-4b75-bdd9-94c7bad7b4b3 button.colab-df-convert');\n",
              "        buttonEl.style.display =\n",
              "          google.colab.kernel.accessAllowed ? 'block' : 'none';\n",
              "\n",
              "        async function convertToInteractive(key) {\n",
              "          const element = document.querySelector('#df-dd2c04ca-2e58-4b75-bdd9-94c7bad7b4b3');\n",
              "          const dataTable =\n",
              "            await google.colab.kernel.invokeFunction('convertToInteractive',\n",
              "                                                     [key], {});\n",
              "          if (!dataTable) return;\n",
              "\n",
              "          const docLinkHtml = 'Like what you see? Visit the ' +\n",
              "            '<a target=\"_blank\" href=https://colab.research.google.com/notebooks/data_table.ipynb>data table notebook</a>'\n",
              "            + ' to learn more about interactive tables.';\n",
              "          element.innerHTML = '';\n",
              "          dataTable['output_type'] = 'display_data';\n",
              "          await google.colab.output.renderOutput(dataTable, element);\n",
              "          const docLink = document.createElement('div');\n",
              "          docLink.innerHTML = docLinkHtml;\n",
              "          element.appendChild(docLink);\n",
              "        }\n",
              "      </script>\n",
              "    </div>\n",
              "  </div>\n",
              "  "
            ]
          },
          "metadata": {},
          "execution_count": 30
        },
        {
          "output_type": "stream",
          "name": "stdout",
          "text": [
            "time: 294 ms (started: 2023-04-28 11:49:53 +00:00)\n"
          ]
        }
      ]
    },
    {
      "cell_type": "code",
      "execution_count": 20,
      "metadata": {
        "id": "tAXlb_xm0nb5",
        "colab": {
          "base_uri": "https://localhost:8080/"
        },
        "outputId": "19811301-4080-46bf-bcb7-da5944b5d0aa"
      },
      "outputs": [
        {
          "output_type": "stream",
          "name": "stdout",
          "text": [
            "https://www.youtube.com/watch?v=Ai2dsijZtZw&embeds_euri=https%3A%2F%2Fadstransparency.google.com%2F&feature=emb_imp_woyt\n",
            "CR11090283956946337793\n",
            "[youtube] Extracting URL: https://www.youtube.com/watch?v=Ai2dsijZtZw&embeds_euri=https%3A%2F%2Fadstransparency.google.com%2F&feature=emb_imp_woyt\n",
            "[youtube] Ai2dsijZtZw: Downloading webpage\n",
            "[youtube] Ai2dsijZtZw: Downloading android player API JSON\n",
            "[youtube] Ai2dsijZtZw: Downloading MPD manifest\n",
            "[info] Ai2dsijZtZw: Downloading 1 format(s): 251\n",
            "[dashsegments] Total fragments: 1\n",
            "[download] Destination: data/data_raw/video_audio/CR11090283956946337793.webm\n",
            "[download] 100% of  257.39KiB in 00:00:00 at 321.09KiB/s             \n",
            "[ExtractAudio] Destination: data/data_raw/video_audio/CR11090283956946337793.mp3\n",
            "Deleting original file data/data_raw/video_audio/CR11090283956946337793.webm (pass -k to keep)\n",
            "data/data_raw/video_audio/CR11090283956946337793\n",
            "time: 2.38 s (started: 2023-04-28 11:09:25 +00:00)\n"
          ]
        }
      ],
      "source": [
        "import yt_dlp\n",
        "\n",
        "def video_to_audio(df, destination):\n",
        "    # Get the video URL and ad_id from the first row of the DataFrame\n",
        "    video_URL = df.loc[0, 'youtube_url']\n",
        "    print(video_URL)\n",
        "    final_filename = df.loc[0, 'ad_id']\n",
        "    print(final_filename)\n",
        "    # Set up options for yt-dlp\n",
        "    options = {\n",
        "        'format': 'bestaudio/best',\n",
        "        'outtmpl': os.path.join(destination, final_filename + '.%(ext)s'),\n",
        "        'postprocessors': [{\n",
        "            'key': 'FFmpegExtractAudio',\n",
        "            'preferredcodec': 'mp3',\n",
        "            'preferredquality': '192',\n",
        "        }]\n",
        "    }\n",
        "\n",
        "    # Download the audio\n",
        "    with yt_dlp.YoutubeDL(options) as ydl:\n",
        "        ydl.download([video_URL])\n",
        "\n",
        "    #Debug\n",
        "    print(os.path.join(destination, final_filename))  \n",
        "\n",
        "\n",
        "# Video to audio\n",
        "destination = \"data/data_raw/video_audio/\"\n",
        "new_filename = video_to_audio(df, destination)"
      ]
    },
    {
      "cell_type": "code",
      "source": [],
      "metadata": {
        "id": "A8cASkveWXL8"
      },
      "execution_count": null,
      "outputs": []
    },
    {
      "cell_type": "code",
      "source": [],
      "metadata": {
        "id": "tvwJ-2FfWXJR"
      },
      "execution_count": null,
      "outputs": []
    },
    {
      "cell_type": "code",
      "source": [],
      "metadata": {
        "id": "cCLYntUdWXGX"
      },
      "execution_count": null,
      "outputs": []
    },
    {
      "cell_type": "code",
      "source": [],
      "metadata": {
        "id": "oxPRSac1WXD2"
      },
      "execution_count": null,
      "outputs": []
    },
    {
      "cell_type": "code",
      "source": [],
      "metadata": {
        "id": "k91IbRf0WXBU"
      },
      "execution_count": null,
      "outputs": []
    }
  ]
}