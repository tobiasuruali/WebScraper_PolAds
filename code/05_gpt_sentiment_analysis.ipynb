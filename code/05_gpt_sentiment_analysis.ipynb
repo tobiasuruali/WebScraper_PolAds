{
  "nbformat": 4,
  "nbformat_minor": 0,
  "metadata": {
    "colab": {
      "provenance": [],
      "authorship_tag": "ABX9TyMu3adR+z6BdeeahaGq1tQC",
      "include_colab_link": true
    },
    "kernelspec": {
      "name": "python3",
      "display_name": "Python 3"
    },
    "language_info": {
      "name": "python"
    }
  },
  "cells": [
    {
      "cell_type": "markdown",
      "metadata": {
        "id": "view-in-github",
        "colab_type": "text"
      },
      "source": [
        "<a href=\"https://colab.research.google.com/github/tobiasuruali/WebScraper_PolAds/blob/main/code/05_gpt_sentiment_analysis.ipynb\" target=\"_parent\"><img src=\"https://colab.research.google.com/assets/colab-badge.svg\" alt=\"Open In Colab\"/></a>"
      ]
    },
    {
      "cell_type": "code",
      "source": [
        "#Mount your Google Drive Folders\n",
        "from google.colab import drive\n",
        "drive.mount('/content/drive/')"
      ],
      "metadata": {
        "colab": {
          "base_uri": "https://localhost:8080/"
        },
        "id": "mWm2tXoqKHLc",
        "outputId": "252d3554-7c8d-455b-ea2d-0cd1045dcdb0"
      },
      "execution_count": 1,
      "outputs": [
        {
          "output_type": "stream",
          "name": "stdout",
          "text": [
            "Mounted at /content/drive/\n"
          ]
        }
      ]
    },
    {
      "cell_type": "code",
      "source": [
        "!pip -qqq install ipython-autotime\n",
        "%load_ext autotime"
      ],
      "metadata": {
        "colab": {
          "base_uri": "https://localhost:8080/"
        },
        "id": "srexdn8vKoqU",
        "outputId": "f49bb74e-530e-4b8a-9f7b-618361defa41"
      },
      "execution_count": 2,
      "outputs": [
        {
          "output_type": "stream",
          "name": "stdout",
          "text": [
            "\u001b[?25l     \u001b[90m━━━━━━━━━━━━━━━━━━━━━━━━━━━━━━━━━━━━━━━━\u001b[0m \u001b[32m0.0/1.6 MB\u001b[0m \u001b[31m?\u001b[0m eta \u001b[36m-:--:--\u001b[0m\r\u001b[2K     \u001b[91m━━━━━━━━━━━━━━━━━━━━━━━━━━\u001b[0m\u001b[90m╺\u001b[0m\u001b[90m━━━━━━━━━━━━━\u001b[0m \u001b[32m1.0/1.6 MB\u001b[0m \u001b[31m31.4 MB/s\u001b[0m eta \u001b[36m0:00:01\u001b[0m\r\u001b[2K     \u001b[90m━━━━━━━━━━━━━━━━━━━━━━━━━━━━━━━━━━━━━━━━\u001b[0m \u001b[32m1.6/1.6 MB\u001b[0m \u001b[31m28.0 MB/s\u001b[0m eta \u001b[36m0:00:00\u001b[0m\n",
            "\u001b[?25htime: 454 µs (started: 2023-04-28 14:02:20 +00:00)\n"
          ]
        }
      ]
    },
    {
      "cell_type": "code",
      "source": [
        "import os\n",
        "os.chdir('/content/drive/MyDrive/Google_Pol_Ads')\n",
        "print(os.listdir())\n",
        "print(os.getcwd())"
      ],
      "metadata": {
        "colab": {
          "base_uri": "https://localhost:8080/"
        },
        "id": "09DWfCDiKvAC",
        "outputId": "6c675e56-4dec-413f-e9ea-cceee530675b"
      },
      "execution_count": 3,
      "outputs": [
        {
          "output_type": "stream",
          "name": "stdout",
          "text": [
            "['data', 'env']\n",
            "/content/drive/MyDrive/Google_Pol_Ads\n",
            "time: 5.84 ms (started: 2023-04-28 14:02:20 +00:00)\n"
          ]
        }
      ]
    },
    {
      "cell_type": "code",
      "source": [],
      "metadata": {
        "id": "kflBnlWjKu8y"
      },
      "execution_count": null,
      "outputs": []
    },
    {
      "cell_type": "code",
      "source": [
        "import pandas as pd\n",
        "\n",
        "# Load the CSV file from Google Drive\n",
        "df_trump = pd.read_csv('data/data_processed/df_trump_text.csv')\n",
        "\n",
        "# Load the CSV file from Google Drive\n",
        "df_biden = pd.read_csv('data/data_processed/df_biden_text.csv')\n",
        "\n",
        "# Display the first 5 rows of the DataFrame\n",
        "df_trump.head()\n"
      ],
      "metadata": {
        "colab": {
          "base_uri": "https://localhost:8080/",
          "height": 354
        },
        "id": "m8Hbsk18KHH1",
        "outputId": "bc013356-985c-4532-dea7-375803e9b8d7"
      },
      "execution_count": 7,
      "outputs": [
        {
          "output_type": "execute_result",
          "data": {
            "text/plain": [
              "                    ad_id date_range_start  \\\n",
              "0  CR06816033659036893185       2020-03-12   \n",
              "1  CR17518932181727051777       2020-10-14   \n",
              "2  CR17406877790644469761       2020-09-08   \n",
              "3  CR17616576648293908481       2020-07-16   \n",
              "4  CR14354267786883104769       2020-08-11   \n",
              "\n",
              "                                              ad_url           advertiser_id  \\\n",
              "0  https://adstransparency.google.com/advertiser/...  AR12365610929977556993   \n",
              "1  https://adstransparency.google.com/advertiser/...  AR12365610929977556993   \n",
              "2  https://adstransparency.google.com/advertiser/...  AR12365610929977556993   \n",
              "3  https://adstransparency.google.com/advertiser/...  AR12365610929977556993   \n",
              "4  https://adstransparency.google.com/advertiser/...  AR12365610929977556993   \n",
              "\n",
              "       advertiser_name                                        youtube_url  \\\n",
              "0  BIDEN FOR PRESIDENT  https://www.youtube.com/watch?v=1tPFGsOivHM&em...   \n",
              "1  BIDEN FOR PRESIDENT  https://www.youtube.com/watch?v=_C-WvLV5UII&em...   \n",
              "2  BIDEN FOR PRESIDENT  https://www.youtube.com/watch?v=MSZO8zPUYL0&em...   \n",
              "3  BIDEN FOR PRESIDENT  https://www.youtube.com/watch?v=uLwYRdUxNcY&em...   \n",
              "4  BIDEN FOR PRESIDENT  https://www.youtube.com/watch?v=7ShIz1wlcSw&em...   \n",
              "\n",
              "                                             ad_text  \n",
              "0   Cuando Joe Biden se enfrentó al NRA, logró qu...  \n",
              "1   People have been denied the right to vote. Fi...  \n",
              "2   My future and the future of everyone my age d...  \n",
              "3   After a car crash changed his life forever, J...  \n",
              "4   Leadership is built on trust. Joe Biden led t...  "
            ],
            "text/html": [
              "\n",
              "  <div id=\"df-89afdae3-70a5-46b4-9ef4-217409cdbeff\">\n",
              "    <div class=\"colab-df-container\">\n",
              "      <div>\n",
              "<style scoped>\n",
              "    .dataframe tbody tr th:only-of-type {\n",
              "        vertical-align: middle;\n",
              "    }\n",
              "\n",
              "    .dataframe tbody tr th {\n",
              "        vertical-align: top;\n",
              "    }\n",
              "\n",
              "    .dataframe thead th {\n",
              "        text-align: right;\n",
              "    }\n",
              "</style>\n",
              "<table border=\"1\" class=\"dataframe\">\n",
              "  <thead>\n",
              "    <tr style=\"text-align: right;\">\n",
              "      <th></th>\n",
              "      <th>ad_id</th>\n",
              "      <th>date_range_start</th>\n",
              "      <th>ad_url</th>\n",
              "      <th>advertiser_id</th>\n",
              "      <th>advertiser_name</th>\n",
              "      <th>youtube_url</th>\n",
              "      <th>ad_text</th>\n",
              "    </tr>\n",
              "  </thead>\n",
              "  <tbody>\n",
              "    <tr>\n",
              "      <th>0</th>\n",
              "      <td>CR06816033659036893185</td>\n",
              "      <td>2020-03-12</td>\n",
              "      <td>https://adstransparency.google.com/advertiser/...</td>\n",
              "      <td>AR12365610929977556993</td>\n",
              "      <td>BIDEN FOR PRESIDENT</td>\n",
              "      <td>https://www.youtube.com/watch?v=1tPFGsOivHM&amp;em...</td>\n",
              "      <td>Cuando Joe Biden se enfrentó al NRA, logró qu...</td>\n",
              "    </tr>\n",
              "    <tr>\n",
              "      <th>1</th>\n",
              "      <td>CR17518932181727051777</td>\n",
              "      <td>2020-10-14</td>\n",
              "      <td>https://adstransparency.google.com/advertiser/...</td>\n",
              "      <td>AR12365610929977556993</td>\n",
              "      <td>BIDEN FOR PRESIDENT</td>\n",
              "      <td>https://www.youtube.com/watch?v=_C-WvLV5UII&amp;em...</td>\n",
              "      <td>People have been denied the right to vote. Fi...</td>\n",
              "    </tr>\n",
              "    <tr>\n",
              "      <th>2</th>\n",
              "      <td>CR17406877790644469761</td>\n",
              "      <td>2020-09-08</td>\n",
              "      <td>https://adstransparency.google.com/advertiser/...</td>\n",
              "      <td>AR12365610929977556993</td>\n",
              "      <td>BIDEN FOR PRESIDENT</td>\n",
              "      <td>https://www.youtube.com/watch?v=MSZO8zPUYL0&amp;em...</td>\n",
              "      <td>My future and the future of everyone my age d...</td>\n",
              "    </tr>\n",
              "    <tr>\n",
              "      <th>3</th>\n",
              "      <td>CR17616576648293908481</td>\n",
              "      <td>2020-07-16</td>\n",
              "      <td>https://adstransparency.google.com/advertiser/...</td>\n",
              "      <td>AR12365610929977556993</td>\n",
              "      <td>BIDEN FOR PRESIDENT</td>\n",
              "      <td>https://www.youtube.com/watch?v=uLwYRdUxNcY&amp;em...</td>\n",
              "      <td>After a car crash changed his life forever, J...</td>\n",
              "    </tr>\n",
              "    <tr>\n",
              "      <th>4</th>\n",
              "      <td>CR14354267786883104769</td>\n",
              "      <td>2020-08-11</td>\n",
              "      <td>https://adstransparency.google.com/advertiser/...</td>\n",
              "      <td>AR12365610929977556993</td>\n",
              "      <td>BIDEN FOR PRESIDENT</td>\n",
              "      <td>https://www.youtube.com/watch?v=7ShIz1wlcSw&amp;em...</td>\n",
              "      <td>Leadership is built on trust. Joe Biden led t...</td>\n",
              "    </tr>\n",
              "  </tbody>\n",
              "</table>\n",
              "</div>\n",
              "      <button class=\"colab-df-convert\" onclick=\"convertToInteractive('df-89afdae3-70a5-46b4-9ef4-217409cdbeff')\"\n",
              "              title=\"Convert this dataframe to an interactive table.\"\n",
              "              style=\"display:none;\">\n",
              "        \n",
              "  <svg xmlns=\"http://www.w3.org/2000/svg\" height=\"24px\"viewBox=\"0 0 24 24\"\n",
              "       width=\"24px\">\n",
              "    <path d=\"M0 0h24v24H0V0z\" fill=\"none\"/>\n",
              "    <path d=\"M18.56 5.44l.94 2.06.94-2.06 2.06-.94-2.06-.94-.94-2.06-.94 2.06-2.06.94zm-11 1L8.5 8.5l.94-2.06 2.06-.94-2.06-.94L8.5 2.5l-.94 2.06-2.06.94zm10 10l.94 2.06.94-2.06 2.06-.94-2.06-.94-.94-2.06-.94 2.06-2.06.94z\"/><path d=\"M17.41 7.96l-1.37-1.37c-.4-.4-.92-.59-1.43-.59-.52 0-1.04.2-1.43.59L10.3 9.45l-7.72 7.72c-.78.78-.78 2.05 0 2.83L4 21.41c.39.39.9.59 1.41.59.51 0 1.02-.2 1.41-.59l7.78-7.78 2.81-2.81c.8-.78.8-2.07 0-2.86zM5.41 20L4 18.59l7.72-7.72 1.47 1.35L5.41 20z\"/>\n",
              "  </svg>\n",
              "      </button>\n",
              "      \n",
              "  <style>\n",
              "    .colab-df-container {\n",
              "      display:flex;\n",
              "      flex-wrap:wrap;\n",
              "      gap: 12px;\n",
              "    }\n",
              "\n",
              "    .colab-df-convert {\n",
              "      background-color: #E8F0FE;\n",
              "      border: none;\n",
              "      border-radius: 50%;\n",
              "      cursor: pointer;\n",
              "      display: none;\n",
              "      fill: #1967D2;\n",
              "      height: 32px;\n",
              "      padding: 0 0 0 0;\n",
              "      width: 32px;\n",
              "    }\n",
              "\n",
              "    .colab-df-convert:hover {\n",
              "      background-color: #E2EBFA;\n",
              "      box-shadow: 0px 1px 2px rgba(60, 64, 67, 0.3), 0px 1px 3px 1px rgba(60, 64, 67, 0.15);\n",
              "      fill: #174EA6;\n",
              "    }\n",
              "\n",
              "    [theme=dark] .colab-df-convert {\n",
              "      background-color: #3B4455;\n",
              "      fill: #D2E3FC;\n",
              "    }\n",
              "\n",
              "    [theme=dark] .colab-df-convert:hover {\n",
              "      background-color: #434B5C;\n",
              "      box-shadow: 0px 1px 3px 1px rgba(0, 0, 0, 0.15);\n",
              "      filter: drop-shadow(0px 1px 2px rgba(0, 0, 0, 0.3));\n",
              "      fill: #FFFFFF;\n",
              "    }\n",
              "  </style>\n",
              "\n",
              "      <script>\n",
              "        const buttonEl =\n",
              "          document.querySelector('#df-89afdae3-70a5-46b4-9ef4-217409cdbeff button.colab-df-convert');\n",
              "        buttonEl.style.display =\n",
              "          google.colab.kernel.accessAllowed ? 'block' : 'none';\n",
              "\n",
              "        async function convertToInteractive(key) {\n",
              "          const element = document.querySelector('#df-89afdae3-70a5-46b4-9ef4-217409cdbeff');\n",
              "          const dataTable =\n",
              "            await google.colab.kernel.invokeFunction('convertToInteractive',\n",
              "                                                     [key], {});\n",
              "          if (!dataTable) return;\n",
              "\n",
              "          const docLinkHtml = 'Like what you see? Visit the ' +\n",
              "            '<a target=\"_blank\" href=https://colab.research.google.com/notebooks/data_table.ipynb>data table notebook</a>'\n",
              "            + ' to learn more about interactive tables.';\n",
              "          element.innerHTML = '';\n",
              "          dataTable['output_type'] = 'display_data';\n",
              "          await google.colab.output.renderOutput(dataTable, element);\n",
              "          const docLink = document.createElement('div');\n",
              "          docLink.innerHTML = docLinkHtml;\n",
              "          element.appendChild(docLink);\n",
              "        }\n",
              "      </script>\n",
              "    </div>\n",
              "  </div>\n",
              "  "
            ]
          },
          "metadata": {},
          "execution_count": 7
        },
        {
          "output_type": "stream",
          "name": "stdout",
          "text": [
            "time: 97.7 ms (started: 2023-04-28 14:03:52 +00:00)\n"
          ]
        }
      ]
    },
    {
      "cell_type": "code",
      "source": [
        "df_biden.head()"
      ],
      "metadata": {
        "id": "NWC3oY_hKHEQ"
      },
      "execution_count": null,
      "outputs": []
    },
    {
      "cell_type": "code",
      "source": [],
      "metadata": {
        "id": "XWlaTRS1KHAR"
      },
      "execution_count": null,
      "outputs": []
    },
    {
      "cell_type": "markdown",
      "source": [
        "# Sentiment Analysis\n",
        "\n",
        "As Sentiment Analysis we will use a novice approach. \n",
        "We will use OpenAi's GPT-3 Model to do the Sentiment Analysis for us. \n",
        "\n",
        "Giving it a prompt as displayed in [Andrew NG's New Class on Prompt Engineering](https://learn.deeplearning.ai/chatgpt-prompt-eng/lesson/5/inferring) we will make the model output us a Sentiment Score between -1 and 1. "
      ],
      "metadata": {
        "id": "vnypa93CJ1En"
      }
    },
    {
      "cell_type": "code",
      "execution_count": 8,
      "metadata": {
        "colab": {
          "base_uri": "https://localhost:8080/"
        },
        "id": "9fj-OAj7JtDh",
        "outputId": "5f60c4a8-d6df-423b-8b2d-767d177f5c6a"
      },
      "outputs": [
        {
          "output_type": "stream",
          "name": "stdout",
          "text": [
            "\u001b[2K     \u001b[90m━━━━━━━━━━━━━━━━━━━━━━━━━━━━━━━━━━━━━━━━\u001b[0m \u001b[32m71.6/71.6 kB\u001b[0m \u001b[31m3.2 MB/s\u001b[0m eta \u001b[36m0:00:00\u001b[0m\n",
            "\u001b[2K     \u001b[90m━━━━━━━━━━━━━━━━━━━━━━━━━━━━━━━━━━━━━━━━\u001b[0m \u001b[32m1.0/1.0 MB\u001b[0m \u001b[31m19.5 MB/s\u001b[0m eta \u001b[36m0:00:00\u001b[0m\n",
            "\u001b[2K     \u001b[90m━━━━━━━━━━━━━━━━━━━━━━━━━━━━━━━━━━━━━━\u001b[0m \u001b[32m114.5/114.5 kB\u001b[0m \u001b[31m10.7 MB/s\u001b[0m eta \u001b[36m0:00:00\u001b[0m\n",
            "\u001b[2K     \u001b[90m━━━━━━━━━━━━━━━━━━━━━━━━━━━━━━━━━━━━━━━\u001b[0m \u001b[32m149.6/149.6 kB\u001b[0m \u001b[31m9.6 MB/s\u001b[0m eta \u001b[36m0:00:00\u001b[0m\n",
            "\u001b[2K     \u001b[90m━━━━━━━━━━━━━━━━━━━━━━━━━━━━━━━━━━━━━━\u001b[0m \u001b[32m268.8/268.8 kB\u001b[0m \u001b[31m24.1 MB/s\u001b[0m eta \u001b[36m0:00:00\u001b[0m\n",
            "\u001b[?25htime: 16.3 s (started: 2023-04-28 14:05:20 +00:00)\n"
          ]
        }
      ],
      "source": [
        "!pip -qqq install openai\n",
        "!pip -qqq install python-dotenv"
      ]
    },
    {
      "cell_type": "code",
      "source": [
        "import openai\n",
        "import os\n",
        "\n",
        "from dotenv import load_dotenv, find_dotenv\n",
        "_ = load_dotenv(find_dotenv(\"env/.env\")) # read local .env file\n",
        "\n",
        "openai.api_key  = os.getenv('OPENAI_API_KEY')"
      ],
      "metadata": {
        "colab": {
          "base_uri": "https://localhost:8080/"
        },
        "id": "nuLZ9UBwJ6GL",
        "outputId": "ceaeed22-643f-4b10-8cf4-083985c4ff03"
      },
      "execution_count": 16,
      "outputs": [
        {
          "output_type": "stream",
          "name": "stdout",
          "text": [
            "time: 428 ms (started: 2023-04-28 14:15:46 +00:00)\n"
          ]
        }
      ]
    },
    {
      "cell_type": "code",
      "source": [
        "def get_completion(prompt, model=\"gpt-3.5-turbo\"):\n",
        "    messages = [{\"role\": \"user\", \"content\": prompt}]\n",
        "    response = openai.ChatCompletion.create(\n",
        "        model=model,\n",
        "        messages=messages,\n",
        "        temperature=0, # this is the degree of randomness of the model's output\n",
        "    )\n",
        "    return response.choices[0].message[\"content\"]"
      ],
      "metadata": {
        "colab": {
          "base_uri": "https://localhost:8080/"
        },
        "id": "H-5q-lhMJ6D9",
        "outputId": "1ac67ad4-b8f0-4911-dc57-8550e9b1d594"
      },
      "execution_count": 18,
      "outputs": [
        {
          "output_type": "stream",
          "name": "stdout",
          "text": [
            "time: 1.35 ms (started: 2023-04-28 14:16:13 +00:00)\n"
          ]
        }
      ]
    },
    {
      "cell_type": "markdown",
      "source": [
        "Now we'll create a prompt to let GPT3.5 create our sentiment analysis"
      ],
      "metadata": {
        "id": "SBKBlV-bMS5q"
      }
    },
    {
      "cell_type": "code",
      "source": [
        "trump_text_test = print(df_trump.loc[2,'ad_text'])"
      ],
      "metadata": {
        "colab": {
          "base_uri": "https://localhost:8080/"
        },
        "id": "lQpJYgUeMepo",
        "outputId": "5611b9c6-cdce-48c9-c7c3-e743a18375cb"
      },
      "execution_count": 27,
      "outputs": [
        {
          "output_type": "stream",
          "name": "stdout",
          "text": [
            " Biden's plan is not a solution. It is a virtual surrender. Biden's plan for the China virus is to shut down the entire U.S. economy. I would shut it down. No miracle is coming. If I were president today, I would roll back the reopenings in a number of places. Biden wants to surrender our country to the virus. He wants to surrender our families to the pilot left-wing mob. And he wants to surrender our jobs to China. I would shut it down. I'm Donald Trump and I approve this message. I'm Donald Trump and I approve this message.\n",
            "time: 1.64 ms (started: 2023-04-28 14:19:03 +00:00)\n"
          ]
        }
      ]
    },
    {
      "cell_type": "code",
      "source": [
        "prompt = f\"\"\"\n",
        "You are a Sentiment Analysis Expert in Political Advertising.\n",
        "What is the sentiment of the following Political Campaing Text?\n",
        "​\n",
        "On a scale of -1 to 1, -1 being negative and 1 positive. The number can include all 0.1 decimal numbers. Reply without explanation, ONLY a single number!\n",
        "Your output shall never be 0.\n",
        "\n",
        "Advertisment Text: '''{trump_text_test}'''\n",
        "\"\"\"\n",
        "\n",
        "response = get_completion(prompt)\n",
        "print(response)"
      ],
      "metadata": {
        "colab": {
          "base_uri": "https://localhost:8080/"
        },
        "id": "IMcUNiyyJ6BP",
        "outputId": "64356493-dad6-44c3-91fd-e2b550cc80cd"
      },
      "execution_count": 32,
      "outputs": [
        {
          "output_type": "stream",
          "name": "stdout",
          "text": [
            "0.1\n",
            "time: 1.03 s (started: 2023-04-28 14:21:54 +00:00)\n"
          ]
        }
      ]
    },
    {
      "cell_type": "code",
      "source": [
        "def get_completion(prompt, model=\"gpt-3.5-turbo\"):\n",
        "    messages = [{\"role\": \"user\", \"content\": prompt}]\n",
        "    response = openai.ChatCompletion.create(\n",
        "        model=model,\n",
        "        messages=messages,\n",
        "        temperature=0, # this is the degree of randomness of the model's output\n",
        "    )\n",
        "    return response.choices[0].message[\"content\"]\n",
        "\n",
        "trump_text_test = print(df_trump.loc[2,'ad_text'])\n",
        "\n",
        "prompt = f\"\"\"\n",
        "You are a Sentiment Analysis Expert in Political Advertising.\n",
        "What is the sentiment of the following Political Campaing Text?\n",
        "​\n",
        "On a scale of -1 to 1, -1 being negative and 1 positive. The number can include all 0.1 decimal numbers. Reply without explanation, ONLY a single number!\n",
        "Your output shall never be 0.\n",
        "\n",
        "Advertisment Text: '''{trump_text_test}'''\n",
        "\"\"\"\n",
        "\n",
        "response = get_completion(prompt)\n",
        "print(response)"
      ],
      "metadata": {
        "colab": {
          "base_uri": "https://localhost:8080/"
        },
        "id": "8biJgcVhJ5-3",
        "outputId": "7dd5c05a-3aff-4035-c41b-a337151d5577"
      },
      "execution_count": 33,
      "outputs": [
        {
          "output_type": "stream",
          "name": "stdout",
          "text": [
            "time: 752 µs (started: 2023-04-28 14:22:39 +00:00)\n"
          ]
        }
      ]
    },
    {
      "cell_type": "code",
      "source": [],
      "metadata": {
        "colab": {
          "base_uri": "https://localhost:8080/"
        },
        "id": "8oW1bmXNJ5xt",
        "outputId": "6d56d38d-51f5-43da-c56a-a54a9ff542b0"
      },
      "execution_count": 33,
      "outputs": [
        {
          "output_type": "stream",
          "name": "stdout",
          "text": [
            "time: 486 ms (started: 2023-04-28 14:22:39 +00:00)\n"
          ]
        }
      ]
    }
  ]
}