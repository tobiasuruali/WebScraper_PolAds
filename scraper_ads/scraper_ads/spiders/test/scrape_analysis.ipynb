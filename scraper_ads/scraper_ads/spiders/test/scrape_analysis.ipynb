{
 "cells": [
  {
   "cell_type": "code",
   "execution_count": 102,
   "metadata": {},
   "outputs": [
    {
     "name": "stdout",
     "output_type": "stream",
     "text": [
      "                    ad_id date_range_start   \n",
      "0  CR17327428454810910721       2018-05-31  \\\n",
      "1  CR18391121292288851969       2018-05-31   \n",
      "2  CR17941042804528513025       2018-05-31   \n",
      "3  CR16806135698431148033       2018-05-31   \n",
      "4  CR06904690442680401921       2018-05-31   \n",
      "\n",
      "                                              ad_url           advertiser_id   \n",
      "0  https://adstransparency.google.com/advertiser/...  AR02433910412765298689  \\\n",
      "1  https://adstransparency.google.com/advertiser/...  AR02838733826560098305   \n",
      "2  https://adstransparency.google.com/advertiser/...  AR07102652013703331841   \n",
      "3  https://adstransparency.google.com/advertiser/...  AR07102652013703331841   \n",
      "4  https://adstransparency.google.com/advertiser/...  AR07102652013703331841   \n",
      "\n",
      "               advertiser_name  \n",
      "0  CLEARPATH ACTION FUND, INC.  \n",
      "1     DIANE BLACK FOR GOVERNOR  \n",
      "2       JOSH HAWLEY FOR SENATE  \n",
      "3       JOSH HAWLEY FOR SENATE  \n",
      "4       JOSH HAWLEY FOR SENATE  \n",
      "(315012, 5)\n",
      "315012\n"
     ]
    }
   ],
   "source": [
    "import pandas as pd\n",
    "\n",
    "df = pd.read_feather('../../../../data/data_processed/us_videos_ads.feather')\n",
    "start_urls = df['ad_url'].tolist()\n",
    "\n",
    "print(df.head())\n",
    "print(df.shape)\n",
    "print(df['ad_id'].nunique())\n"
   ]
  },
  {
   "cell_type": "code",
   "execution_count": null,
   "metadata": {},
   "outputs": [],
   "source": []
  },
  {
   "cell_type": "code",
   "execution_count": 103,
   "metadata": {},
   "outputs": [
    {
     "name": "stdout",
     "output_type": "stream",
     "text": [
      "{'us_video_ads_sample_81.parquet', 'us_video_ads_sample_22.parquet', 'us_video_ads_sample_17.parquet', 'us_video_ads_sample_60.parquet', 'us_video_ads_sample_130.parquet', 'us_video_ads_sample_68.parquet', 'us_video_ads_sample_19.parquet', 'us_video_ads_sample_67.parquet', 'us_video_ads_sample_41.parquet', 'us_video_ads_sample_75.parquet', 'us_video_ads_sample_78.parquet', 'us_video_ads_sample_115.parquet', 'us_video_ads_sample_7.parquet', 'us_video_ads_sample_52.parquet', 'us_video_ads_sample_30.parquet', 'us_video_ads_sample_53.parquet', 'us_video_ads_sample_59.parquet', 'us_video_ads_sample_105.parquet', 'us_video_ads_sample_123.parquet', 'us_video_ads_sample_42.parquet', 'us_video_ads_sample_24.parquet', 'us_video_ads_sample_47.parquet', 'us_video_ads_sample_20.parquet', 'us_video_ads_sample_51.parquet', 'us_video_ads_sample_139.parquet', 'us_video_ads_sample_76.parquet', 'us_video_ads_sample_94.parquet', 'us_video_ads_sample_58.parquet', 'us_video_ads_sample_39.parquet', 'us_video_ads_sample_89.parquet', 'us_video_ads_sample_110.parquet', 'us_video_ads_sample_102.parquet', 'us_video_ads_sample_95.parquet', 'us_video_ads_sample_104.parquet', 'us_video_ads_sample_63.parquet', 'us_video_ads_sample_71.parquet', 'us_video_ads_sample_38.parquet', 'us_video_ads_sample_80.parquet', 'us_video_ads_sample_117.parquet', 'us_video_ads_sample_55.parquet', 'us_video_ads_sample_43.parquet', 'us_video_ads_sample_132.parquet', 'us_video_ads_sample_69.parquet', 'us_video_ads_sample_151.parquet', 'us_video_ads_sample_126.parquet', 'us_video_ads_sample_113.parquet', 'us_video_ads_sample_152.parquet'}\n",
      "47\n"
     ]
    }
   ],
   "source": [
    "import pickle\n",
    "\n",
    "# Replace 'processed_files.pkl' with the path to your pickle file\n",
    "with open('../../../processed_files.pkl', 'rb') as f:\n",
    "    processed_files = pickle.load(f)\n",
    "\n",
    "# Print the data\n",
    "print(processed_files)\n",
    "# Count the number of processed files\n",
    "print(len(processed_files))"
   ]
  },
  {
   "cell_type": "code",
   "execution_count": 104,
   "metadata": {},
   "outputs": [
    {
     "data": {
      "text/plain": [
       "[{'us_video_ads_sample_102.parquet',\n",
       "  'us_video_ads_sample_104.parquet',\n",
       "  'us_video_ads_sample_105.parquet',\n",
       "  'us_video_ads_sample_110.parquet',\n",
       "  'us_video_ads_sample_113.parquet',\n",
       "  'us_video_ads_sample_115.parquet',\n",
       "  'us_video_ads_sample_117.parquet',\n",
       "  'us_video_ads_sample_123.parquet',\n",
       "  'us_video_ads_sample_126.parquet',\n",
       "  'us_video_ads_sample_130.parquet',\n",
       "  'us_video_ads_sample_132.parquet',\n",
       "  'us_video_ads_sample_139.parquet',\n",
       "  'us_video_ads_sample_151.parquet',\n",
       "  'us_video_ads_sample_152.parquet',\n",
       "  'us_video_ads_sample_17.parquet',\n",
       "  'us_video_ads_sample_19.parquet',\n",
       "  'us_video_ads_sample_20.parquet',\n",
       "  'us_video_ads_sample_22.parquet',\n",
       "  'us_video_ads_sample_24.parquet',\n",
       "  'us_video_ads_sample_30.parquet',\n",
       "  'us_video_ads_sample_38.parquet',\n",
       "  'us_video_ads_sample_39.parquet',\n",
       "  'us_video_ads_sample_41.parquet',\n",
       "  'us_video_ads_sample_42.parquet',\n",
       "  'us_video_ads_sample_43.parquet',\n",
       "  'us_video_ads_sample_47.parquet',\n",
       "  'us_video_ads_sample_51.parquet',\n",
       "  'us_video_ads_sample_52.parquet',\n",
       "  'us_video_ads_sample_53.parquet',\n",
       "  'us_video_ads_sample_55.parquet',\n",
       "  'us_video_ads_sample_58.parquet',\n",
       "  'us_video_ads_sample_59.parquet',\n",
       "  'us_video_ads_sample_60.parquet',\n",
       "  'us_video_ads_sample_63.parquet',\n",
       "  'us_video_ads_sample_67.parquet',\n",
       "  'us_video_ads_sample_68.parquet',\n",
       "  'us_video_ads_sample_69.parquet',\n",
       "  'us_video_ads_sample_7.parquet',\n",
       "  'us_video_ads_sample_71.parquet',\n",
       "  'us_video_ads_sample_75.parquet',\n",
       "  'us_video_ads_sample_76.parquet',\n",
       "  'us_video_ads_sample_78.parquet',\n",
       "  'us_video_ads_sample_80.parquet',\n",
       "  'us_video_ads_sample_81.parquet',\n",
       "  'us_video_ads_sample_89.parquet',\n",
       "  'us_video_ads_sample_94.parquet',\n",
       "  'us_video_ads_sample_95.parquet'}]"
      ]
     },
     "execution_count": 104,
     "metadata": {},
     "output_type": "execute_result"
    }
   ],
   "source": [
    "data = []\n",
    "with open(\"../../../processed_files.pkl\", 'rb') as fr:\n",
    "    try:\n",
    "        while True:\n",
    "            data.append(pickle.load(fr))\n",
    "    except EOFError:\n",
    "        pass\n",
    "data"
   ]
  },
  {
   "cell_type": "code",
   "execution_count": 105,
   "metadata": {},
   "outputs": [],
   "source": [
    "# Create smaller samples of the 315,000+ ads, make sure to not sample the same ad twice\n",
    "\n",
    "# i = 1\n",
    "# remaining_rows = df.shape[0]\n",
    "# sampled_ad_ids = set()\n",
    "# while remaining_rows > 0:\n",
    "#     n = min(remaining_rows, 2048)\n",
    "#     sample = df[~df['ad_id'].isin(sampled_ad_ids)].sample(n=n)\n",
    "#     sampled_ad_ids.update(sample['ad_id'].unique())\n",
    "#     sample.index.name = 'index'\n",
    "#     filename = f'../../../../data/data_processed/us_video_ads_batch/us_video_ads_sample_{i}.parquet'\n",
    "#     sample.to_parquet(filename, index=True)\n",
    "#     i += 1\n",
    "#     remaining_rows -= n\n",
    "\n",
    "\n"
   ]
  },
  {
   "cell_type": "code",
   "execution_count": 106,
   "metadata": {},
   "outputs": [
    {
     "data": {
      "text/html": [
       "<div>\n",
       "<style scoped>\n",
       "    .dataframe tbody tr th:only-of-type {\n",
       "        vertical-align: middle;\n",
       "    }\n",
       "\n",
       "    .dataframe tbody tr th {\n",
       "        vertical-align: top;\n",
       "    }\n",
       "\n",
       "    .dataframe thead th {\n",
       "        text-align: right;\n",
       "    }\n",
       "</style>\n",
       "<table border=\"1\" class=\"dataframe\">\n",
       "  <thead>\n",
       "    <tr style=\"text-align: right;\">\n",
       "      <th></th>\n",
       "      <th>ad_id</th>\n",
       "      <th>date_range_start</th>\n",
       "      <th>ad_url</th>\n",
       "      <th>advertiser_id</th>\n",
       "      <th>advertiser_name</th>\n",
       "    </tr>\n",
       "    <tr>\n",
       "      <th>index</th>\n",
       "      <th></th>\n",
       "      <th></th>\n",
       "      <th></th>\n",
       "      <th></th>\n",
       "      <th></th>\n",
       "    </tr>\n",
       "  </thead>\n",
       "  <tbody>\n",
       "    <tr>\n",
       "      <th>111594</th>\n",
       "      <td>CR01853964071162871809</td>\n",
       "      <td>2020-02-22</td>\n",
       "      <td>https://adstransparency.google.com/advertiser/...</td>\n",
       "      <td>AR09516581413973917697</td>\n",
       "      <td>MIKE BLOOMBERG 2020 INC</td>\n",
       "    </tr>\n",
       "    <tr>\n",
       "      <th>49761</th>\n",
       "      <td>CR16275187030936256513</td>\n",
       "      <td>2019-10-22</td>\n",
       "      <td>https://adstransparency.google.com/advertiser/...</td>\n",
       "      <td>AR17897780320510410753</td>\n",
       "      <td>GIFFORDS PAC</td>\n",
       "    </tr>\n",
       "    <tr>\n",
       "      <th>75226</th>\n",
       "      <td>CR18387469951611961345</td>\n",
       "      <td>2020-01-26</td>\n",
       "      <td>https://adstransparency.google.com/advertiser/...</td>\n",
       "      <td>AR09516581413973917697</td>\n",
       "      <td>MIKE BLOOMBERG 2020 INC</td>\n",
       "    </tr>\n",
       "    <tr>\n",
       "      <th>160174</th>\n",
       "      <td>CR05428844159702138881</td>\n",
       "      <td>2020-09-04</td>\n",
       "      <td>https://adstransparency.google.com/advertiser/...</td>\n",
       "      <td>AR00696784295460601857</td>\n",
       "      <td>CAL FOR NC</td>\n",
       "    </tr>\n",
       "    <tr>\n",
       "      <th>135459</th>\n",
       "      <td>CR00562222626479538177</td>\n",
       "      <td>2020-06-19</td>\n",
       "      <td>https://adstransparency.google.com/advertiser/...</td>\n",
       "      <td>AR12365610929977556993</td>\n",
       "      <td>BIDEN FOR PRESIDENT</td>\n",
       "    </tr>\n",
       "  </tbody>\n",
       "</table>\n",
       "</div>"
      ],
      "text/plain": [
       "                         ad_id date_range_start   \n",
       "index                                             \n",
       "111594  CR01853964071162871809       2020-02-22  \\\n",
       "49761   CR16275187030936256513       2019-10-22   \n",
       "75226   CR18387469951611961345       2020-01-26   \n",
       "160174  CR05428844159702138881       2020-09-04   \n",
       "135459  CR00562222626479538177       2020-06-19   \n",
       "\n",
       "                                                   ad_url   \n",
       "index                                                       \n",
       "111594  https://adstransparency.google.com/advertiser/...  \\\n",
       "49761   https://adstransparency.google.com/advertiser/...   \n",
       "75226   https://adstransparency.google.com/advertiser/...   \n",
       "160174  https://adstransparency.google.com/advertiser/...   \n",
       "135459  https://adstransparency.google.com/advertiser/...   \n",
       "\n",
       "                 advertiser_id          advertiser_name  \n",
       "index                                                    \n",
       "111594  AR09516581413973917697  MIKE BLOOMBERG 2020 INC  \n",
       "49761   AR17897780320510410753             GIFFORDS PAC  \n",
       "75226   AR09516581413973917697  MIKE BLOOMBERG 2020 INC  \n",
       "160174  AR00696784295460601857               CAL FOR NC  \n",
       "135459  AR12365610929977556993      BIDEN FOR PRESIDENT  "
      ]
     },
     "execution_count": 106,
     "metadata": {},
     "output_type": "execute_result"
    }
   ],
   "source": [
    "test_df = pd.read_parquet('../../../../data/data_processed/us_video_ads_batch/us_video_ads_sample_1.parquet')\n",
    "test_df.head()\n"
   ]
  },
  {
   "cell_type": "code",
   "execution_count": 107,
   "metadata": {},
   "outputs": [
    {
     "name": "stdout",
     "output_type": "stream",
     "text": [
      "(315012, 5)\n",
      "315012\n"
     ]
    }
   ],
   "source": [
    "import glob\n",
    "import pandas as pd\n",
    "\n",
    "folder_path = '../../../../data/data_processed/us_video_ads_batch/*.parquet'\n",
    "all_us_video = pd.concat([pd.read_parquet(f) for f in glob.glob(folder_path)])\n",
    "\n",
    "print(all_us_video.shape)\n",
    "print(all_us_video['ad_id'].nunique())"
   ]
  },
  {
   "cell_type": "code",
   "execution_count": 108,
   "metadata": {},
   "outputs": [
    {
     "name": "stdout",
     "output_type": "stream",
     "text": [
      "Skipping empty file: ../../../../data/adspider/scrapy_us_video_batch_20230521T015421_9.csv\n",
      "Skipping empty file: ../../../../data/adspider/scrapy_us_video_batch_20230520T020357_9.csv\n",
      "Skipping empty file: ../../../../data/adspider/scrapy_us_video_batch_20230520T162424_9.csv\n",
      "Skipping empty file: ../../../../data/adspider/scrapy_us_video_batch_20230521T140036_9.csv\n",
      "Skipping empty file: ../../../../data/adspider/scrapy_us_video_batch_20230520T173259_9.csv\n",
      "Skipping empty file: ../../../../data/adspider/scrapy_us_video_batch_20230521T002532_9.csv\n",
      "Skipping empty file: ../../../../data/adspider/scrapy_us_video_batch_20230520T184241_9.csv\n",
      "Skipping empty file: ../../../../data/adspider/scrapy_us_video_batch_20230520T025232_9.csv\n",
      "Skipping empty file: ../../../../data/adspider/scrapy_us_video_batch_20230520T211045_9.csv\n",
      "Skipping empty file: ../../../../data/adspider/scrapy_us_video_batch_20230520T192017_9.csv\n",
      "Skipping empty file: ../../../../data/adspider/scrapy_us_video_batch_20230520T122758_9.csv\n",
      "Skipping empty file: ../../../../data/adspider/scrapy_us_video_batch_20230520T151032_9.csv\n",
      "Skipping empty file: ../../../../data/adspider/scrapy_us_video_batch_20230520T102315_9.csv\n",
      "Skipping empty file: ../../../../data/adspider/scrapy_us_video_batch_20230521T125154_9.csv\n",
      "Skipping empty file: ../../../../data/adspider/scrapy_us_video_batch_20230521T185034_9.csv\n",
      "Skipping empty file: ../../../../data/adspider/scrapy_us_video_batch_20230521T175646_9.csv\n",
      "Skipping empty file: ../../../../data/adspider/scrapy_us_video_batch_20230521T010405_9.csv\n",
      "Skipping empty file: ../../../../data/adspider/scrapy_us_video_batch_20230520T110355_9.csv\n",
      "Skipping empty file: ../../../../data/adspider/scrapy_us_video_batch_20230519T214355_9.csv\n",
      "Skipping empty file: ../../../../data/adspider/scrapy_us_video_batch_20230520T003646_9.csv\n",
      "Skipping empty file: ../../../../data/adspider/scrapy_us_video_batch_20230520T195446_9.csv\n",
      "Skipping empty file: ../../../../data/adspider/scrapy_us_video_batch_20230521T030256_9.csv\n",
      "Skipping empty file: ../../../../data/adspider/scrapy_us_video_batch_20230521T171948_9.csv\n",
      "Skipping empty file: ../../../../data/adspider/scrapy_us_video_batch_20230520T114147_9.csv\n",
      "Skipping empty file: ../../../../data/adspider/scrapy_us_video_batch_20230520T142940_9.csv\n",
      "Skipping empty file: ../../../../data/adspider/scrapy_us_video_batch_20230521T132654_9.csv\n",
      "Skipping empty file: ../../../../data/adspider/scrapy_us_video_batch_20230521T041531_9.csv\n",
      "Skipping empty file: ../../../../data/adspider/scrapy_us_video_batch_20230519T231013_9.csv\n",
      "Skipping empty file: ../../../../data/adspider/scrapy_us_video_batch_20230521T211902_9.csv\n",
      "Skipping empty file: ../../../../data/adspider/scrapy_us_video_batch_20230521T033657_9.csv\n",
      "Skipping empty file: ../../../../data/adspider/scrapy_us_video_batch_20230521T150652_9.csv\n",
      "Skipping empty file: ../../../../data/adspider/scrapy_us_video_batch_20230520T165849_9.csv\n",
      "Skipping empty file: ../../../../data/adspider/scrapy_us_video_batch_20230521T022832_9.csv\n",
      "Skipping empty file: ../../../../data/adspider/scrapy_us_video_batch_20230521T194244_9.csv\n",
      "Skipping empty file: ../../../../data/adspider/scrapy_us_video_batch_20230521T203534_9.csv\n",
      "Skipping empty file: ../../../../data/adspider/scrapy_us_video_batch_20230521T143354_9.csv\n",
      "(95841, 3)\n",
      "95841\n"
     ]
    }
   ],
   "source": [
    "import glob\n",
    "import pandas as pd\n",
    "\n",
    "folder_path = '../../../../data/adspider/*.csv'\n",
    "dfs = []\n",
    "for f in glob.glob(folder_path):\n",
    "    try:\n",
    "        df = pd.read_csv(f)\n",
    "        dfs.append(df)\n",
    "    except pd.errors.EmptyDataError:\n",
    "        print(f\"Skipping empty file: {f}\")\n",
    "\n",
    "scraped_videos = pd.concat(dfs)\n",
    "print(scraped_videos.shape)\n",
    "print(scraped_videos['ad_id'].nunique())\n"
   ]
  },
  {
   "cell_type": "code",
   "execution_count": 109,
   "metadata": {},
   "outputs": [
    {
     "name": "stdout",
     "output_type": "stream",
     "text": [
      "DataFrame 1 has 219171 more unique ad_id values than Scraped Dataframe 2\n"
     ]
    }
   ],
   "source": [
    "# Assuming df1 and df2 are your two DataFrames\n",
    "ad_id_count_df1 = all_us_video['ad_id'].nunique()\n",
    "ad_id_count_df2 = scraped_videos['ad_id'].nunique()\n",
    "\n",
    "difference = ad_id_count_df1 - ad_id_count_df2\n",
    "print(f\"DataFrame 1 has {difference} more unique ad_id values than Scraped Dataframe 2\")\n"
   ]
  },
  {
   "cell_type": "code",
   "execution_count": 110,
   "metadata": {},
   "outputs": [
    {
     "name": "stdout",
     "output_type": "stream",
     "text": [
      "95841\n",
      "23153\n",
      "youtube_url\n",
      "NoVideo                                      15186\n",
      "https://www.youtube.com/embed/0FVbjUgdgsU      463\n",
      "https://www.youtube.com/embed/XFNL3BGK4mI      431\n",
      "https://www.youtube.com/embed/DwozzIQRtyw      392\n",
      "https://www.youtube.com/embed/evdwSX7lt98      380\n",
      "                                             ...  \n",
      "https://www.youtube.com/embed/CGU3XaYaTOg        1\n",
      "https://www.youtube.com/embed/h5fGSOk75Mk        1\n",
      "https://www.youtube.com/embed/IhEkHVcKCcc        1\n",
      "https://www.youtube.com/embed/M-nw22UoJAw        1\n",
      "https://www.youtube.com/embed/HIaltPdDLLY        1\n",
      "Name: count, Length: 23153, dtype: int64\n"
     ]
    }
   ],
   "source": [
    "# Number of unique ad_id values\n",
    "print(scraped_videos['ad_id'].nunique())\n",
    "# How many unique values\n",
    "print(scraped_videos['youtube_url'].nunique())\n",
    "# Check how many 'NoVideo' values there are in youtube_url\n",
    "print(scraped_videos['youtube_url'].value_counts())\n",
    "\n"
   ]
  },
  {
   "cell_type": "code",
   "execution_count": 111,
   "metadata": {},
   "outputs": [
    {
     "name": "stdout",
     "output_type": "stream",
     "text": [
      "Saved scraped_videos as a parquet file with 95841 rows, at 20230522-150931\n"
     ]
    }
   ],
   "source": [
    "# Save scraped_videos as a parquet file with compression add current time to filename\n",
    "import time\n",
    "current_time = time.strftime(\"%Y%m%d-%H%M%S\")\n",
    "rows = (scraped_videos['ad_id'].nunique())\n",
    "scraped_videos.to_parquet(f'../../../../data/data_processed/scraper/scraped_youtube_urls.parquet', compression='gzip')\n",
    "print(f\"Saved scraped_videos as a parquet file with {rows} rows, at {current_time}\")"
   ]
  },
  {
   "cell_type": "code",
   "execution_count": 64,
   "metadata": {},
   "outputs": [
    {
     "name": "stdout",
     "output_type": "stream",
     "text": [
      "\u001b[1m\u001b[45m\u001b[97mHello World\u001b[0m\n",
      "\u001b[4m\u001b[1m\u001b[42m\u001b[30mHello World here is my test\u001b[0m\n"
     ]
    }
   ],
   "source": [
    "\n",
    "from termcolor import colored\n",
    "print(colored('Hello World', 'white', \"on_magenta\",attrs=['bold']))\n",
    "print(colored('Hello World here is my test', 'black', \"on_green\", attrs=['bold', 'underline']))\n"
   ]
  }
 ],
 "metadata": {
  "kernelspec": {
   "display_name": "env_scrapy",
   "language": "python",
   "name": "python3"
  },
  "language_info": {
   "codemirror_mode": {
    "name": "ipython",
    "version": 3
   },
   "file_extension": ".py",
   "mimetype": "text/x-python",
   "name": "python",
   "nbconvert_exporter": "python",
   "pygments_lexer": "ipython3",
   "version": "3.8.10"
  },
  "orig_nbformat": 4
 },
 "nbformat": 4,
 "nbformat_minor": 2
}
