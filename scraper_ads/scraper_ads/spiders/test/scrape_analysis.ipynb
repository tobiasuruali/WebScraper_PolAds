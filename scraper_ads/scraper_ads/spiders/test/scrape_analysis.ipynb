{
 "cells": [
  {
   "cell_type": "code",
   "execution_count": 81,
   "metadata": {},
   "outputs": [
    {
     "name": "stdout",
     "output_type": "stream",
     "text": [
      "                    ad_id date_range_start   \n",
      "0  CR17327428454810910721       2018-05-31  \\\n",
      "1  CR18391121292288851969       2018-05-31   \n",
      "2  CR17941042804528513025       2018-05-31   \n",
      "3  CR16806135698431148033       2018-05-31   \n",
      "4  CR06904690442680401921       2018-05-31   \n",
      "\n",
      "                                              ad_url           advertiser_id   \n",
      "0  https://adstransparency.google.com/advertiser/...  AR02433910412765298689  \\\n",
      "1  https://adstransparency.google.com/advertiser/...  AR02838733826560098305   \n",
      "2  https://adstransparency.google.com/advertiser/...  AR07102652013703331841   \n",
      "3  https://adstransparency.google.com/advertiser/...  AR07102652013703331841   \n",
      "4  https://adstransparency.google.com/advertiser/...  AR07102652013703331841   \n",
      "\n",
      "               advertiser_name  \n",
      "0  CLEARPATH ACTION FUND, INC.  \n",
      "1     DIANE BLACK FOR GOVERNOR  \n",
      "2       JOSH HAWLEY FOR SENATE  \n",
      "3       JOSH HAWLEY FOR SENATE  \n",
      "4       JOSH HAWLEY FOR SENATE  \n",
      "(315012, 5)\n",
      "315012\n"
     ]
    }
   ],
   "source": [
    "import pandas as pd\n",
    "\n",
    "df = pd.read_feather('../../../../data/data_processed/us_videos_ads.feather')\n",
    "start_urls = df['ad_url'].tolist()\n",
    "\n",
    "print(df.head())\n",
    "print(df.shape)\n",
    "print(df['ad_id'].nunique())\n"
   ]
  },
  {
   "cell_type": "code",
   "execution_count": null,
   "metadata": {},
   "outputs": [],
   "source": []
  },
  {
   "cell_type": "code",
   "execution_count": 82,
   "metadata": {},
   "outputs": [
    {
     "name": "stdout",
     "output_type": "stream",
     "text": [
      "{'us_video_ads_sample_92.parquet', 'us_video_ads_sample_139.parquet', 'us_video_ads_sample_60.parquet', 'us_video_ads_sample_33.parquet', 'us_video_ads_sample_114.parquet', 'us_video_ads_sample_106.parquet', 'us_video_ads_sample_105.parquet', 'us_video_ads_sample_108.parquet', 'us_video_ads_sample_64.parquet', 'us_video_ads_sample_124.parquet', 'us_video_ads_sample_47.parquet', 'us_video_ads_sample_42.parquet', 'us_video_ads_sample_5.parquet', 'us_video_ads_sample_55.parquet', 'us_video_ads_sample_32.parquet', 'us_video_ads_sample_144.parquet', 'us_video_ads_sample_23.parquet', 'us_video_ads_sample_76.parquet', 'us_video_ads_sample_19.parquet', 'us_video_ads_sample_102.parquet', 'us_video_ads_sample_73.parquet', 'us_video_ads_sample_48.parquet', 'us_video_ads_sample_26.parquet', 'us_video_ads_sample_78.parquet', 'us_video_ads_sample_27.parquet', 'us_video_ads_sample_16.parquet', 'us_video_ads_sample_113.parquet', 'us_video_ads_sample_132.parquet', 'us_video_ads_sample_22.parquet', 'us_video_ads_sample_119.parquet', 'us_video_ads_sample_101.parquet', 'us_video_ads_sample_45.parquet', 'us_video_ads_sample_59.parquet', 'us_video_ads_sample_21.parquet', 'us_video_ads_sample_67.parquet', 'us_video_ads_sample_30.parquet', 'us_video_ads_sample_100.parquet', 'us_video_ads_sample_104.parquet', 'us_video_ads_sample_133.parquet', 'us_video_ads_sample_126.parquet', 'us_video_ads_sample_80.parquet', 'us_video_ads_sample_3.parquet', 'us_video_ads_sample_20.parquet', 'us_video_ads_sample_141.parquet', 'us_video_ads_sample_75.parquet', 'us_video_ads_sample_151.parquet', 'us_video_ads_sample_14.parquet', 'us_video_ads_sample_116.parquet', 'us_video_ads_sample_120.parquet', 'us_video_ads_sample_107.parquet', 'us_video_ads_sample_109.parquet', 'us_video_ads_sample_94.parquet', 'us_video_ads_sample_56.parquet', 'us_video_ads_sample_89.parquet', 'us_video_ads_sample_87.parquet', 'us_video_ads_sample_18.parquet', 'us_video_ads_sample_53.parquet', 'us_video_ads_sample_24.parquet', 'us_video_ads_sample_138.parquet', 'us_video_ads_sample_58.parquet', 'us_video_ads_sample_31.parquet', 'us_video_ads_sample_38.parquet', 'us_video_ads_sample_85.parquet', 'us_video_ads_sample_11.parquet', 'us_video_ads_sample_41.parquet', 'us_video_ads_sample_152.parquet', 'us_video_ads_sample_134.parquet', 'us_video_ads_sample_71.parquet', 'us_video_ads_sample_115.parquet', 'us_video_ads_sample_49.parquet', 'us_video_ads_sample_125.parquet', 'us_video_ads_sample_79.parquet', 'us_video_ads_sample_17.parquet', 'us_video_ads_sample_7.parquet', 'us_video_ads_sample_95.parquet', 'us_video_ads_sample_140.parquet', 'us_video_ads_sample_82.parquet', 'us_video_ads_sample_142.parquet', 'us_video_ads_sample_28.parquet', 'us_video_ads_sample_51.parquet', 'us_video_ads_sample_35.parquet', 'us_video_ads_sample_69.parquet', 'us_video_ads_sample_90.parquet', 'us_video_ads_sample_61.parquet', 'us_video_ads_sample_146.parquet', 'us_video_ads_sample_150.parquet', 'us_video_ads_sample_70.parquet', 'us_video_ads_sample_74.parquet', 'us_video_ads_sample_43.parquet', 'us_video_ads_sample_123.parquet', 'us_video_ads_sample_68.parquet', 'us_video_ads_sample_39.parquet', 'us_video_ads_sample_36.parquet', 'us_video_ads_sample_9.parquet', 'us_video_ads_sample_117.parquet', 'us_video_ads_sample_81.parquet', 'us_video_ads_sample_4.parquet', 'us_video_ads_sample_6.parquet', 'us_video_ads_sample_50.parquet', 'us_video_ads_sample_147.parquet', 'us_video_ads_sample_97.parquet', 'us_video_ads_sample_91.parquet', 'us_video_ads_sample_131.parquet', 'us_video_ads_sample_110.parquet', 'us_video_ads_sample_63.parquet', 'us_video_ads_sample_130.parquet', 'us_video_ads_sample_52.parquet'}\n",
      "107\n"
     ]
    }
   ],
   "source": [
    "import pickle\n",
    "\n",
    "# Replace 'processed_files.pkl' with the path to your pickle file\n",
    "with open('../../../processed_files.pkl', 'rb') as f:\n",
    "    processed_files = pickle.load(f)\n",
    "\n",
    "# Print the data\n",
    "print(processed_files)\n",
    "# Count the number of processed files\n",
    "print(len(processed_files))"
   ]
  },
  {
   "cell_type": "code",
   "execution_count": 83,
   "metadata": {},
   "outputs": [
    {
     "data": {
      "text/plain": [
       "[{'us_video_ads_sample_100.parquet',\n",
       "  'us_video_ads_sample_101.parquet',\n",
       "  'us_video_ads_sample_102.parquet',\n",
       "  'us_video_ads_sample_104.parquet',\n",
       "  'us_video_ads_sample_105.parquet',\n",
       "  'us_video_ads_sample_106.parquet',\n",
       "  'us_video_ads_sample_107.parquet',\n",
       "  'us_video_ads_sample_108.parquet',\n",
       "  'us_video_ads_sample_109.parquet',\n",
       "  'us_video_ads_sample_11.parquet',\n",
       "  'us_video_ads_sample_110.parquet',\n",
       "  'us_video_ads_sample_113.parquet',\n",
       "  'us_video_ads_sample_114.parquet',\n",
       "  'us_video_ads_sample_115.parquet',\n",
       "  'us_video_ads_sample_116.parquet',\n",
       "  'us_video_ads_sample_117.parquet',\n",
       "  'us_video_ads_sample_119.parquet',\n",
       "  'us_video_ads_sample_120.parquet',\n",
       "  'us_video_ads_sample_123.parquet',\n",
       "  'us_video_ads_sample_124.parquet',\n",
       "  'us_video_ads_sample_125.parquet',\n",
       "  'us_video_ads_sample_126.parquet',\n",
       "  'us_video_ads_sample_130.parquet',\n",
       "  'us_video_ads_sample_131.parquet',\n",
       "  'us_video_ads_sample_132.parquet',\n",
       "  'us_video_ads_sample_133.parquet',\n",
       "  'us_video_ads_sample_134.parquet',\n",
       "  'us_video_ads_sample_138.parquet',\n",
       "  'us_video_ads_sample_139.parquet',\n",
       "  'us_video_ads_sample_14.parquet',\n",
       "  'us_video_ads_sample_140.parquet',\n",
       "  'us_video_ads_sample_141.parquet',\n",
       "  'us_video_ads_sample_142.parquet',\n",
       "  'us_video_ads_sample_144.parquet',\n",
       "  'us_video_ads_sample_146.parquet',\n",
       "  'us_video_ads_sample_147.parquet',\n",
       "  'us_video_ads_sample_150.parquet',\n",
       "  'us_video_ads_sample_151.parquet',\n",
       "  'us_video_ads_sample_152.parquet',\n",
       "  'us_video_ads_sample_16.parquet',\n",
       "  'us_video_ads_sample_17.parquet',\n",
       "  'us_video_ads_sample_18.parquet',\n",
       "  'us_video_ads_sample_19.parquet',\n",
       "  'us_video_ads_sample_20.parquet',\n",
       "  'us_video_ads_sample_21.parquet',\n",
       "  'us_video_ads_sample_22.parquet',\n",
       "  'us_video_ads_sample_23.parquet',\n",
       "  'us_video_ads_sample_24.parquet',\n",
       "  'us_video_ads_sample_26.parquet',\n",
       "  'us_video_ads_sample_27.parquet',\n",
       "  'us_video_ads_sample_28.parquet',\n",
       "  'us_video_ads_sample_3.parquet',\n",
       "  'us_video_ads_sample_30.parquet',\n",
       "  'us_video_ads_sample_31.parquet',\n",
       "  'us_video_ads_sample_32.parquet',\n",
       "  'us_video_ads_sample_33.parquet',\n",
       "  'us_video_ads_sample_35.parquet',\n",
       "  'us_video_ads_sample_36.parquet',\n",
       "  'us_video_ads_sample_38.parquet',\n",
       "  'us_video_ads_sample_39.parquet',\n",
       "  'us_video_ads_sample_4.parquet',\n",
       "  'us_video_ads_sample_41.parquet',\n",
       "  'us_video_ads_sample_42.parquet',\n",
       "  'us_video_ads_sample_43.parquet',\n",
       "  'us_video_ads_sample_45.parquet',\n",
       "  'us_video_ads_sample_47.parquet',\n",
       "  'us_video_ads_sample_48.parquet',\n",
       "  'us_video_ads_sample_49.parquet',\n",
       "  'us_video_ads_sample_5.parquet',\n",
       "  'us_video_ads_sample_50.parquet',\n",
       "  'us_video_ads_sample_51.parquet',\n",
       "  'us_video_ads_sample_52.parquet',\n",
       "  'us_video_ads_sample_53.parquet',\n",
       "  'us_video_ads_sample_55.parquet',\n",
       "  'us_video_ads_sample_56.parquet',\n",
       "  'us_video_ads_sample_58.parquet',\n",
       "  'us_video_ads_sample_59.parquet',\n",
       "  'us_video_ads_sample_6.parquet',\n",
       "  'us_video_ads_sample_60.parquet',\n",
       "  'us_video_ads_sample_61.parquet',\n",
       "  'us_video_ads_sample_63.parquet',\n",
       "  'us_video_ads_sample_64.parquet',\n",
       "  'us_video_ads_sample_67.parquet',\n",
       "  'us_video_ads_sample_68.parquet',\n",
       "  'us_video_ads_sample_69.parquet',\n",
       "  'us_video_ads_sample_7.parquet',\n",
       "  'us_video_ads_sample_70.parquet',\n",
       "  'us_video_ads_sample_71.parquet',\n",
       "  'us_video_ads_sample_73.parquet',\n",
       "  'us_video_ads_sample_74.parquet',\n",
       "  'us_video_ads_sample_75.parquet',\n",
       "  'us_video_ads_sample_76.parquet',\n",
       "  'us_video_ads_sample_78.parquet',\n",
       "  'us_video_ads_sample_79.parquet',\n",
       "  'us_video_ads_sample_80.parquet',\n",
       "  'us_video_ads_sample_81.parquet',\n",
       "  'us_video_ads_sample_82.parquet',\n",
       "  'us_video_ads_sample_85.parquet',\n",
       "  'us_video_ads_sample_87.parquet',\n",
       "  'us_video_ads_sample_89.parquet',\n",
       "  'us_video_ads_sample_9.parquet',\n",
       "  'us_video_ads_sample_90.parquet',\n",
       "  'us_video_ads_sample_91.parquet',\n",
       "  'us_video_ads_sample_92.parquet',\n",
       "  'us_video_ads_sample_94.parquet',\n",
       "  'us_video_ads_sample_95.parquet',\n",
       "  'us_video_ads_sample_97.parquet'}]"
      ]
     },
     "execution_count": 83,
     "metadata": {},
     "output_type": "execute_result"
    }
   ],
   "source": [
    "data = []\n",
    "with open(\"../../../processed_files.pkl\", 'rb') as fr:\n",
    "    try:\n",
    "        while True:\n",
    "            data.append(pickle.load(fr))\n",
    "    except EOFError:\n",
    "        pass\n",
    "data"
   ]
  },
  {
   "cell_type": "code",
   "execution_count": 84,
   "metadata": {},
   "outputs": [],
   "source": [
    "# Create smaller samples of the 315,000+ ads, make sure to not sample the same ad twice\n",
    "\n",
    "# i = 1\n",
    "# remaining_rows = df.shape[0]\n",
    "# sampled_ad_ids = set()\n",
    "# while remaining_rows > 0:\n",
    "#     n = min(remaining_rows, 2048)\n",
    "#     sample = df[~df['ad_id'].isin(sampled_ad_ids)].sample(n=n)\n",
    "#     sampled_ad_ids.update(sample['ad_id'].unique())\n",
    "#     sample.index.name = 'index'\n",
    "#     filename = f'../../../../data/data_processed/us_video_ads_batch/us_video_ads_sample_{i}.parquet'\n",
    "#     sample.to_parquet(filename, index=True)\n",
    "#     i += 1\n",
    "#     remaining_rows -= n\n",
    "\n",
    "\n"
   ]
  },
  {
   "cell_type": "code",
   "execution_count": 85,
   "metadata": {},
   "outputs": [
    {
     "data": {
      "text/html": [
       "<div>\n",
       "<style scoped>\n",
       "    .dataframe tbody tr th:only-of-type {\n",
       "        vertical-align: middle;\n",
       "    }\n",
       "\n",
       "    .dataframe tbody tr th {\n",
       "        vertical-align: top;\n",
       "    }\n",
       "\n",
       "    .dataframe thead th {\n",
       "        text-align: right;\n",
       "    }\n",
       "</style>\n",
       "<table border=\"1\" class=\"dataframe\">\n",
       "  <thead>\n",
       "    <tr style=\"text-align: right;\">\n",
       "      <th></th>\n",
       "      <th>ad_id</th>\n",
       "      <th>date_range_start</th>\n",
       "      <th>ad_url</th>\n",
       "      <th>advertiser_id</th>\n",
       "      <th>advertiser_name</th>\n",
       "    </tr>\n",
       "    <tr>\n",
       "      <th>index</th>\n",
       "      <th></th>\n",
       "      <th></th>\n",
       "      <th></th>\n",
       "      <th></th>\n",
       "      <th></th>\n",
       "    </tr>\n",
       "  </thead>\n",
       "  <tbody>\n",
       "    <tr>\n",
       "      <th>111594</th>\n",
       "      <td>CR01853964071162871809</td>\n",
       "      <td>2020-02-22</td>\n",
       "      <td>https://adstransparency.google.com/advertiser/...</td>\n",
       "      <td>AR09516581413973917697</td>\n",
       "      <td>MIKE BLOOMBERG 2020 INC</td>\n",
       "    </tr>\n",
       "    <tr>\n",
       "      <th>49761</th>\n",
       "      <td>CR16275187030936256513</td>\n",
       "      <td>2019-10-22</td>\n",
       "      <td>https://adstransparency.google.com/advertiser/...</td>\n",
       "      <td>AR17897780320510410753</td>\n",
       "      <td>GIFFORDS PAC</td>\n",
       "    </tr>\n",
       "    <tr>\n",
       "      <th>75226</th>\n",
       "      <td>CR18387469951611961345</td>\n",
       "      <td>2020-01-26</td>\n",
       "      <td>https://adstransparency.google.com/advertiser/...</td>\n",
       "      <td>AR09516581413973917697</td>\n",
       "      <td>MIKE BLOOMBERG 2020 INC</td>\n",
       "    </tr>\n",
       "    <tr>\n",
       "      <th>160174</th>\n",
       "      <td>CR05428844159702138881</td>\n",
       "      <td>2020-09-04</td>\n",
       "      <td>https://adstransparency.google.com/advertiser/...</td>\n",
       "      <td>AR00696784295460601857</td>\n",
       "      <td>CAL FOR NC</td>\n",
       "    </tr>\n",
       "    <tr>\n",
       "      <th>135459</th>\n",
       "      <td>CR00562222626479538177</td>\n",
       "      <td>2020-06-19</td>\n",
       "      <td>https://adstransparency.google.com/advertiser/...</td>\n",
       "      <td>AR12365610929977556993</td>\n",
       "      <td>BIDEN FOR PRESIDENT</td>\n",
       "    </tr>\n",
       "  </tbody>\n",
       "</table>\n",
       "</div>"
      ],
      "text/plain": [
       "                         ad_id date_range_start   \n",
       "index                                             \n",
       "111594  CR01853964071162871809       2020-02-22  \\\n",
       "49761   CR16275187030936256513       2019-10-22   \n",
       "75226   CR18387469951611961345       2020-01-26   \n",
       "160174  CR05428844159702138881       2020-09-04   \n",
       "135459  CR00562222626479538177       2020-06-19   \n",
       "\n",
       "                                                   ad_url   \n",
       "index                                                       \n",
       "111594  https://adstransparency.google.com/advertiser/...  \\\n",
       "49761   https://adstransparency.google.com/advertiser/...   \n",
       "75226   https://adstransparency.google.com/advertiser/...   \n",
       "160174  https://adstransparency.google.com/advertiser/...   \n",
       "135459  https://adstransparency.google.com/advertiser/...   \n",
       "\n",
       "                 advertiser_id          advertiser_name  \n",
       "index                                                    \n",
       "111594  AR09516581413973917697  MIKE BLOOMBERG 2020 INC  \n",
       "49761   AR17897780320510410753             GIFFORDS PAC  \n",
       "75226   AR09516581413973917697  MIKE BLOOMBERG 2020 INC  \n",
       "160174  AR00696784295460601857               CAL FOR NC  \n",
       "135459  AR12365610929977556993      BIDEN FOR PRESIDENT  "
      ]
     },
     "execution_count": 85,
     "metadata": {},
     "output_type": "execute_result"
    }
   ],
   "source": [
    "test_df = pd.read_parquet('../../../../data/data_processed/us_video_ads_batch/us_video_ads_sample_1.parquet')\n",
    "test_df.head()\n"
   ]
  },
  {
   "cell_type": "code",
   "execution_count": 86,
   "metadata": {},
   "outputs": [
    {
     "name": "stdout",
     "output_type": "stream",
     "text": [
      "(315012, 5)\n",
      "315012\n"
     ]
    }
   ],
   "source": [
    "import glob\n",
    "import pandas as pd\n",
    "\n",
    "folder_path = '../../../../data/data_processed/us_video_ads_batch/*.parquet'\n",
    "all_us_video = pd.concat([pd.read_parquet(f) for f in glob.glob(folder_path)])\n",
    "\n",
    "print(all_us_video.shape)\n",
    "print(all_us_video['ad_id'].nunique())"
   ]
  },
  {
   "cell_type": "code",
   "execution_count": 87,
   "metadata": {},
   "outputs": [
    {
     "name": "stdout",
     "output_type": "stream",
     "text": [
      "Skipping empty file: ../../../../data/adspider/scrapy_us_video_batch_20230525T162250_17.csv\n",
      "Skipping empty file: ../../../../data/adspider/scrapy_us_video_batch_20230521T015421_9.csv\n",
      "Skipping empty file: ../../../../data/adspider/scrapy_us_video_batch_20230520T020357_9.csv\n",
      "Skipping empty file: ../../../../data/adspider/scrapy_us_video_batch_20230520T162424_9.csv\n",
      "Skipping empty file: ../../../../data/adspider/scrapy_us_video_batch_20230521T140036_9.csv\n",
      "Skipping empty file: ../../../../data/adspider/scrapy_us_video_batch_20230520T173259_9.csv\n",
      "Skipping empty file: ../../../../data/adspider/scrapy_us_video_batch_20230521T002532_9.csv\n",
      "Skipping empty file: ../../../../data/adspider/scrapy_us_video_batch_20230523T143131_17.csv\n",
      "Skipping empty file: ../../../../data/adspider/scrapy_us_video_batch_20230523T131857_17.csv\n",
      "Skipping empty file: ../../../../data/adspider/scrapy_us_video_batch_20230520T184241_9.csv\n",
      "Skipping empty file: ../../../../data/adspider/scrapy_us_video_batch_20230520T025232_9.csv\n",
      "Skipping empty file: ../../../../data/adspider/scrapy_us_video_batch_20230525T224400_9.csv\n",
      "Skipping empty file: ../../../../data/adspider/scrapy_us_video_batch_20230520T211045_9.csv\n",
      "Skipping empty file: ../../../../data/adspider/scrapy_us_video_batch_20230520T192017_9.csv\n",
      "Skipping empty file: ../../../../data/adspider/scrapy_us_video_batch_20230520T122758_9.csv\n",
      "Skipping empty file: ../../../../data/adspider/scrapy_us_video_batch_20230520T151032_9.csv\n",
      "Skipping empty file: ../../../../data/adspider/scrapy_us_video_batch_20230520T102315_9.csv\n",
      "Skipping empty file: ../../../../data/adspider/scrapy_us_video_batch_20230521T125154_9.csv\n",
      "Skipping empty file: ../../../../data/adspider/scrapy_us_video_batch_20230521T185034_9.csv\n",
      "Skipping empty file: ../../../../data/adspider/scrapy_us_video_batch_20230522T233821_9.csv\n",
      "Skipping empty file: ../../../../data/adspider/scrapy_us_video_batch_20230524T233843_9.csv\n",
      "Skipping empty file: ../../../../data/adspider/scrapy_us_video_batch_20230521T175646_9.csv\n",
      "Skipping empty file: ../../../../data/adspider/scrapy_us_video_batch_20230521T010405_9.csv\n",
      "Skipping empty file: ../../../../data/adspider/scrapy_us_video_batch_20230525T104700_17.csv\n",
      "Skipping empty file: ../../../../data/adspider/scrapy_us_video_batch_20230523T231541_5.csv\n",
      "Skipping empty file: ../../../../data/adspider/scrapy_us_video_batch_20230520T110355_9.csv\n",
      "Skipping empty file: ../../../../data/adspider/scrapy_us_video_batch_20230519T214355_9.csv\n",
      "Skipping empty file: ../../../../data/adspider/scrapy_us_video_batch_20230520T003646_9.csv\n",
      "Skipping empty file: ../../../../data/adspider/scrapy_us_video_batch_20230525T200844_17.csv\n",
      "Skipping empty file: ../../../../data/adspider/scrapy_us_video_batch_20230520T195446_9.csv\n",
      "Skipping empty file: ../../../../data/adspider/scrapy_us_video_batch_20230523T131052_1.csv\n",
      "Skipping empty file: ../../../../data/adspider/scrapy_us_video_batch_20230521T030256_9.csv\n",
      "Skipping empty file: ../../../../data/adspider/scrapy_us_video_batch_20230521T171948_9.csv\n",
      "Skipping empty file: ../../../../data/adspider/scrapy_us_video_batch_20230523T223237_5.csv\n",
      "Skipping empty file: ../../../../data/adspider/scrapy_us_video_batch_20230520T114147_9.csv\n",
      "Skipping empty file: ../../../../data/adspider/scrapy_us_video_batch_20230520T142940_9.csv\n",
      "Skipping empty file: ../../../../data/adspider/scrapy_us_video_batch_20230521T132654_9.csv\n",
      "Skipping empty file: ../../../../data/adspider/scrapy_us_video_batch_20230521T041531_9.csv\n",
      "Skipping empty file: ../../../../data/adspider/scrapy_us_video_batch_20230519T231013_9.csv\n",
      "Skipping empty file: ../../../../data/adspider/scrapy_us_video_batch_20230521T211902_9.csv\n",
      "Skipping empty file: ../../../../data/adspider/scrapy_us_video_batch_20230521T033657_9.csv\n",
      "Skipping empty file: ../../../../data/adspider/scrapy_us_video_batch_20230521T150652_9.csv\n",
      "Skipping empty file: ../../../../data/adspider/scrapy_us_video_batch_20230520T165849_9.csv\n",
      "Skipping empty file: ../../../../data/adspider/scrapy_us_video_batch_20230521T022832_9.csv\n",
      "Skipping empty file: ../../../../data/adspider/scrapy_us_video_batch_20230521T194244_9.csv\n",
      "Skipping empty file: ../../../../data/adspider/scrapy_us_video_batch_20230521T203534_9.csv\n",
      "Skipping empty file: ../../../../data/adspider/scrapy_us_video_batch_20230523T131527_1.csv\n",
      "Skipping empty file: ../../../../data/adspider/scrapy_us_video_batch_20230521T143354_9.csv\n",
      "(218697, 3)\n",
      "218697\n"
     ]
    }
   ],
   "source": [
    "import glob\n",
    "import pandas as pd\n",
    "\n",
    "folder_path = '../../../../data/adspider/*.csv'\n",
    "dfs = []\n",
    "for f in glob.glob(folder_path):\n",
    "    try:\n",
    "        df = pd.read_csv(f)\n",
    "        dfs.append(df)\n",
    "    except pd.errors.EmptyDataError:\n",
    "        print(f\"Skipping empty file: {f}\")\n",
    "\n",
    "scraped_videos = pd.concat(dfs)\n",
    "print(scraped_videos.shape)\n",
    "print(scraped_videos['ad_id'].nunique())\n"
   ]
  },
  {
   "cell_type": "code",
   "execution_count": 88,
   "metadata": {},
   "outputs": [
    {
     "name": "stdout",
     "output_type": "stream",
     "text": [
      "DataFrame 1 has 96315 more unique ad_id values than Scraped Dataframe 2\n"
     ]
    }
   ],
   "source": [
    "# Assuming df1 and df2 are your two DataFrames\n",
    "ad_id_count_df1 = all_us_video['ad_id'].nunique()\n",
    "ad_id_count_df2 = scraped_videos['ad_id'].nunique()\n",
    "\n",
    "difference = ad_id_count_df1 - ad_id_count_df2\n",
    "print(f\"DataFrame 1 has {difference} more unique ad_id values than Scraped Dataframe 2\")\n"
   ]
  },
  {
   "cell_type": "code",
   "execution_count": 89,
   "metadata": {},
   "outputs": [
    {
     "name": "stdout",
     "output_type": "stream",
     "text": [
      "218697\n",
      "38210\n",
      "youtube_url\n",
      "NoVideo                                      34571\n",
      "https://www.youtube.com/embed/0FVbjUgdgsU     1050\n",
      "https://www.youtube.com/embed/XFNL3BGK4mI      979\n",
      "https://www.youtube.com/embed/DwozzIQRtyw      883\n",
      "https://www.youtube.com/embed/evdwSX7lt98      859\n",
      "                                             ...  \n",
      "https://www.youtube.com/embed/MINcAslIiVw        1\n",
      "https://www.youtube.com/embed/JAObqTGmicY        1\n",
      "https://www.youtube.com/embed/SW07MTXKXBE        1\n",
      "https://www.youtube.com/embed/SpjhiJYw48I        1\n",
      "https://www.youtube.com/embed/PK5d-5NBGEk        1\n",
      "Name: count, Length: 38210, dtype: int64\n"
     ]
    }
   ],
   "source": [
    "# Number of unique ad_id values\n",
    "print(scraped_videos['ad_id'].nunique())\n",
    "# How many unique values\n",
    "print(scraped_videos['youtube_url'].nunique())\n",
    "# Check how many 'NoVideo' values there are in youtube_url\n",
    "print(scraped_videos['youtube_url'].value_counts())\n",
    "\n"
   ]
  },
  {
   "cell_type": "code",
   "execution_count": 90,
   "metadata": {},
   "outputs": [
    {
     "name": "stdout",
     "output_type": "stream",
     "text": [
      "Saved scraped_videos as a parquet file with 218697 rows, at 20230526-000404\n"
     ]
    }
   ],
   "source": [
    "# Save scraped_videos as a parquet file with compression add current time to filename\n",
    "import time\n",
    "current_time = time.strftime(\"%Y%m%d-%H%M%S\")\n",
    "rows = (scraped_videos['ad_id'].nunique())\n",
    "scraped_videos.to_parquet(f'../../../../data/data_processed/scraper/scraped_youtube_urls.parquet', compression='gzip')\n",
    "print(f\"Saved scraped_videos as a parquet file with {rows} rows, at {current_time}\")"
   ]
  },
  {
   "cell_type": "code",
   "execution_count": 64,
   "metadata": {},
   "outputs": [
    {
     "name": "stdout",
     "output_type": "stream",
     "text": [
      "\u001b[1m\u001b[45m\u001b[97mHello World\u001b[0m\n",
      "\u001b[4m\u001b[1m\u001b[42m\u001b[30mHello World here is my test\u001b[0m\n"
     ]
    }
   ],
   "source": [
    "\n",
    "from termcolor import colored\n",
    "print(colored('Hello World', 'white', \"on_magenta\",attrs=['bold']))\n",
    "print(colored('Hello World here is my test', 'black', \"on_green\", attrs=['bold', 'underline']))\n"
   ]
  }
 ],
 "metadata": {
  "kernelspec": {
   "display_name": "env_scrapy",
   "language": "python",
   "name": "python3"
  },
  "language_info": {
   "codemirror_mode": {
    "name": "ipython",
    "version": 3
   },
   "file_extension": ".py",
   "mimetype": "text/x-python",
   "name": "python",
   "nbconvert_exporter": "python",
   "pygments_lexer": "ipython3",
   "version": "3.8.10"
  },
  "orig_nbformat": 4
 },
 "nbformat": 4,
 "nbformat_minor": 2
}
