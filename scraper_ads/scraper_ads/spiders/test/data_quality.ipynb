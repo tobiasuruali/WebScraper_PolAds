{
 "cells": [
  {
   "cell_type": "code",
   "execution_count": null,
   "metadata": {},
   "outputs": [],
   "source": [
    "# Create TEST DF for testing new functionalities\n",
    "\n",
    "# Read a parquet file and create a new sample (50) and save it as a parquet file\n",
    "\n",
    "# test_df = pd.read_parquet('../../../../data/data_processed/us_video_ads_batch/us_video_ads_sample_1.parquet')\n",
    "# # test_df.head()\n",
    "\n",
    "# test_scrape_df = test_df.sample(40)\n",
    "# test_scrape_df.to_parquet('../../../../data/data_processed/test/test_us_video_ads_sample.parquet', compression='gzip')\n",
    "# test_scrape_df.shape"
   ]
  },
  {
   "cell_type": "code",
   "execution_count": null,
   "metadata": {},
   "outputs": [],
   "source": [
    "num_iterations = 5\n",
    "range(num_iterations)"
   ]
  },
  {
   "cell_type": "code",
   "execution_count": 1,
   "metadata": {},
   "outputs": [
    {
     "name": "stdout",
     "output_type": "stream",
     "text": [
      "Matching files: ['../../../../data/adspider/scrapy_us_video_batch_20230527T005337_12.csv', '../../../../data/adspider/scrapy_us_video_batch_20230527T005337_13.csv', '../../../../data/adspider/scrapy_us_video_batch_20230527T005337_14.csv', '../../../../data/adspider/scrapy_us_video_batch_20230527T005337_15.csv', '../../../../data/adspider/scrapy_us_video_batch_20230527T005337_16.csv']\n",
      "Matching rows count: 2048\n"
     ]
    }
   ],
   "source": [
    "# Check for matching rows in parquet and csv files\n",
    "\n",
    "import glob\n",
    "import pandas as pd\n",
    "\n",
    "test_df = pd.read_parquet('../../../../data/data_processed/us_video_ads_batch/us_video_ads_sample_145.parquet')\n",
    "test_ad_ids = set(test_df['ad_id'])\n",
    "\n",
    "files = glob.glob('../../../../data/adspider/scrapy_us_video_batch_*.csv')\n",
    "matching_files = []\n",
    "matching_rows_count = 0\n",
    "for file in files:\n",
    "    try:\n",
    "        df = pd.read_csv(file)\n",
    "        matching_rows = set(df['ad_id']).intersection(test_ad_ids)\n",
    "        if matching_rows:\n",
    "            matching_files.append(file)\n",
    "            matching_rows_count += len(matching_rows)\n",
    "    except pd.errors.EmptyDataError:\n",
    "        # print(f\"Empty file: {file}\")\n",
    "        pass\n",
    "\n",
    "matching_files.sort()\n",
    "\n",
    "print(f\"Matching files: {matching_files}\")\n",
    "print(f\"Matching rows count: {matching_rows_count}\")\n",
    "# print(test_df.head())\n",
    "\n"
   ]
  },
  {
   "cell_type": "code",
   "execution_count": 3,
   "metadata": {},
   "outputs": [
    {
     "name": "stdout",
     "output_type": "stream",
     "text": [
      "['us_video_ads_sample_94.parquet', 'us_video_ads_sample_113.parquet', 'us_video_ads_sample_138.parquet', 'us_video_ads_sample_73.parquet', 'us_video_ads_sample_147.parquet', 'us_video_ads_sample_120.parquet', 'us_video_ads_sample_100.parquet', 'us_video_ads_sample_6.parquet', 'us_video_ads_sample_146.parquet', 'us_video_ads_sample_90.parquet', 'us_video_ads_sample_107.parquet', 'us_video_ads_sample_85.parquet', 'us_video_ads_sample_45.parquet', 'us_video_ads_sample_150.parquet', 'us_video_ads_sample_108.parquet', 'us_video_ads_sample_28.parquet', 'us_video_ads_sample_21.parquet', 'us_video_ads_sample_106.parquet', 'us_video_ads_sample_74.parquet', 'us_video_ads_sample_3.parquet', 'us_video_ads_sample_133.parquet', 'us_video_ads_sample_141.parquet', 'us_video_ads_sample_142.parquet', 'us_video_ads_sample_18.parquet', 'us_video_ads_sample_56.parquet', 'us_video_ads_sample_91.parquet', 'us_video_ads_sample_82.parquet', 'us_video_ads_sample_119.parquet', 'us_video_ads_sample_32.parquet', 'us_video_ads_sample_49.parquet', 'us_video_ads_sample_11.parquet', 'us_video_ads_sample_35.parquet', 'us_video_ads_sample_140.parquet', 'us_video_ads_sample_101.parquet', 'us_video_ads_sample_79.parquet', 'us_video_ads_sample_33.parquet', 'us_video_ads_sample_5.parquet', 'us_video_ads_sample_92.parquet', 'us_video_ads_sample_61.parquet', 'us_video_ads_sample_4.parquet', 'us_video_ads_sample_70.parquet', 'us_video_ads_sample_26.parquet', 'us_video_ads_sample_144.parquet', 'us_video_ads_sample_124.parquet', 'us_video_ads_sample_14.parquet', 'us_video_ads_sample_87.parquet', 'us_video_ads_sample_64.parquet', 'us_video_ads_sample_9.parquet', 'us_video_ads_sample_31.parquet', 'us_video_ads_sample_114.parquet', 'us_video_ads_sample_36.parquet', 'us_video_ads_sample_116.parquet', 'us_video_ads_sample_109.parquet', 'us_video_ads_sample_48.parquet', 'us_video_ads_sample_50.parquet', 'us_video_ads_sample_134.parquet', 'us_video_ads_sample_27.parquet', 'us_video_ads_sample_23.parquet', 'us_video_ads_sample_125.parquet', 'us_video_ads_sample_97.parquet', 'us_video_ads_sample_16.parquet', 'us_video_ads_sample_131.parquet', 'us_video_ads_sample_57.parquet', 'us_video_ads_sample_46.parquet', 'us_video_ads_sample_154.parquet', 'us_video_ads_sample_34.parquet', 'us_video_ads_sample_98.parquet', 'us_video_ads_sample_137.parquet', 'us_video_ads_sample_25.parquet', 'us_video_ads_sample_8.parquet', 'us_video_ads_sample_29.parquet', 'us_video_ads_sample_2.parquet', 'us_video_ads_sample_84.parquet', 'us_video_ads_sample_10.parquet', 'us_video_ads_sample_99.parquet', 'us_video_ads_sample_103.parquet', 'us_video_ads_sample_88.parquet', 'us_video_ads_sample_127.parquet', 'us_video_ads_sample_148.parquet', 'us_video_ads_sample_135.parquet', 'us_video_ads_sample_77.parquet', 'us_video_ads_sample_145.parquet', 'us_video_ads_sample_13.parquet', 'us_video_ads_sample_15.parquet', 'us_video_ads_sample_66.parquet', 'us_video_ads_sample_122.parquet', 'us_video_ads_sample_118.parquet', 'us_video_ads_sample_44.parquet', 'us_video_ads_sample_1.parquet', 'us_video_ads_sample_129.parquet', 'us_video_ads_sample_93.parquet', 'us_video_ads_sample_112.parquet', 'us_video_ads_sample_86.parquet', 'us_video_ads_sample_40.parquet', 'us_video_ads_sample_136.parquet', 'us_video_ads_sample_12.parquet', 'us_video_ads_sample_72.parquet', 'us_video_ads_sample_62.parquet', 'us_video_ads_sample_37.parquet', 'us_video_ads_sample_149.parquet', 'us_video_ads_sample_54.parquet', 'us_video_ads_sample_121.parquet', 'us_video_ads_sample_143.parquet', 'us_video_ads_sample_83.parquet', 'us_video_ads_sample_65.parquet', 'us_video_ads_sample_96.parquet', 'us_video_ads_sample_111.parquet', 'us_video_ads_sample_153.parquet', 'us_video_ads_sample_128.parquet']\n",
      "['us_video_ads_sample_32.parquet', 'us_video_ads_sample_153.parquet', 'us_video_ads_sample_147.parquet']\n",
      "['us_video_ads_sample_94.parquet', 'us_video_ads_sample_113.parquet', 'us_video_ads_sample_138.parquet']\n"
     ]
    }
   ],
   "source": [
    "# Test functions for scraping single file\n",
    "\n",
    "import os\n",
    "import random\n",
    "import pickle\n",
    "\n",
    "folder = \"../../../../data/data_processed/us_video_ads_batch\"\n",
    "with open(\"../../../processed_files.pkl\", \"rb\") as f:\n",
    "    processed_files = pickle.load(f)\n",
    "\n",
    "\n",
    "total_unprocessed_files = [\n",
    "    filename\n",
    "    for filename in os.listdir(folder)\n",
    "    if filename.endswith(\".parquet\")\n",
    "    and filename not in processed_files\n",
    "]\n",
    "print(total_unprocessed_files)\n",
    "\n",
    "max_unprocessed_files = 3\n",
    "unprocessed_files = random.sample(total_unprocessed_files, max_unprocessed_files)\n",
    "\n",
    "print(unprocessed_files)\n",
    "print(total_unprocessed_files[:max_unprocessed_files])\n",
    "\n",
    "\n"
   ]
  },
  {
   "cell_type": "code",
   "execution_count": 3,
   "metadata": {},
   "outputs": [
    {
     "name": "stdout",
     "output_type": "stream",
     "text": [
      "Deleting empty file: ../../../../data/adspider/scrapy_us_video_batch_20230525T162250_17.csv\n",
      "Deleting empty file: ../../../../data/adspider/scrapy_us_video_batch_20230521T015421_9.csv\n",
      "Deleting empty file: ../../../../data/adspider/scrapy_us_video_batch_20230520T020357_9.csv\n",
      "Deleting empty file: ../../../../data/adspider/scrapy_us_video_batch_20230520T162424_9.csv\n",
      "Deleting empty file: ../../../../data/adspider/scrapy_us_video_batch_20230521T140036_9.csv\n",
      "Deleting empty file: ../../../../data/adspider/scrapy_us_video_batch_20230520T173259_9.csv\n",
      "Deleting empty file: ../../../../data/adspider/scrapy_us_video_batch_20230521T002532_9.csv\n",
      "Deleting empty file: ../../../../data/adspider/scrapy_us_video_batch_20230523T143131_17.csv\n",
      "Deleting empty file: ../../../../data/adspider/scrapy_us_video_batch_20230523T131857_17.csv\n",
      "Deleting empty file: ../../../../data/adspider/scrapy_us_video_batch_20230520T184241_9.csv\n",
      "Deleting empty file: ../../../../data/adspider/scrapy_us_video_batch_20230520T025232_9.csv\n",
      "Deleting empty file: ../../../../data/adspider/scrapy_us_video_batch_20230525T224400_9.csv\n",
      "Deleting empty file: ../../../../data/adspider/scrapy_us_video_batch_20230520T211045_9.csv\n",
      "Deleting empty file: ../../../../data/adspider/scrapy_us_video_batch_20230520T192017_9.csv\n",
      "Deleting empty file: ../../../../data/adspider/scrapy_us_video_batch_20230527T212020_17.csv\n",
      "Deleting empty file: ../../../../data/adspider/scrapy_us_video_batch_20230520T122758_9.csv\n",
      "Deleting empty file: ../../../../data/adspider/scrapy_us_video_batch_20230520T151032_9.csv\n",
      "Deleting empty file: ../../../../data/adspider/scrapy_us_video_batch_20230520T102315_9.csv\n",
      "Deleting empty file: ../../../../data/adspider/scrapy_us_video_batch_20230521T125154_9.csv\n",
      "Deleting empty file: ../../../../data/adspider/scrapy_us_video_batch_20230521T185034_9.csv\n",
      "Deleting empty file: ../../../../data/adspider/scrapy_us_video_batch_20230522T233821_9.csv\n",
      "Deleting empty file: ../../../../data/adspider/scrapy_us_video_batch_20230527T005337_17.csv\n",
      "Deleting empty file: ../../../../data/adspider/scrapy_us_video_batch_20230524T233843_9.csv\n",
      "Deleting empty file: ../../../../data/adspider/scrapy_us_video_batch_20230526T152918_17.csv\n",
      "Deleting empty file: ../../../../data/adspider/scrapy_us_video_batch_20230527T133441_17.csv\n",
      "Deleting empty file: ../../../../data/adspider/scrapy_us_video_batch_20230521T175646_9.csv\n",
      "Deleting empty file: ../../../../data/adspider/scrapy_us_video_batch_20230521T010405_9.csv\n",
      "Deleting empty file: ../../../../data/adspider/scrapy_us_video_batch_20230525T104700_17.csv\n",
      "Deleting empty file: ../../../../data/adspider/scrapy_us_video_batch_20230523T231541_5.csv\n",
      "Deleting empty file: ../../../../data/adspider/scrapy_us_video_batch_20230520T110355_9.csv\n",
      "Deleting empty file: ../../../../data/adspider/scrapy_us_video_batch_20230519T214355_9.csv\n",
      "Deleting empty file: ../../../../data/adspider/scrapy_us_video_batch_20230520T003646_9.csv\n",
      "Deleting empty file: ../../../../data/adspider/scrapy_us_video_batch_20230525T200844_17.csv\n",
      "Deleting empty file: ../../../../data/adspider/scrapy_us_video_batch_20230527T161904_17.csv\n",
      "Deleting empty file: ../../../../data/adspider/scrapy_us_video_batch_20230520T195446_9.csv\n",
      "Deleting empty file: ../../../../data/adspider/scrapy_us_video_batch_20230523T131052_1.csv\n",
      "Deleting empty file: ../../../../data/adspider/scrapy_us_video_batch_20230521T030256_9.csv\n",
      "Deleting empty file: ../../../../data/adspider/scrapy_us_video_batch_20230521T171948_9.csv\n",
      "Deleting empty file: ../../../../data/adspider/scrapy_us_video_batch_20230523T223237_5.csv\n",
      "Deleting empty file: ../../../../data/adspider/scrapy_us_video_batch_20230520T114147_9.csv\n",
      "Deleting empty file: ../../../../data/adspider/scrapy_us_video_batch_20230520T142940_9.csv\n",
      "Deleting empty file: ../../../../data/adspider/scrapy_us_video_batch_20230521T132654_9.csv\n",
      "Deleting empty file: ../../../../data/adspider/scrapy_us_video_batch_20230521T041531_9.csv\n",
      "Deleting empty file: ../../../../data/adspider/scrapy_us_video_batch_20230519T231013_9.csv\n",
      "Deleting empty file: ../../../../data/adspider/scrapy_us_video_batch_20230527T183846_17.csv\n",
      "Deleting empty file: ../../../../data/adspider/scrapy_us_video_batch_20230521T211902_9.csv\n",
      "Deleting empty file: ../../../../data/adspider/scrapy_us_video_batch_20230521T033657_9.csv\n",
      "Deleting empty file: ../../../../data/adspider/scrapy_us_video_batch_20230529T165919_1.csv\n",
      "Deleting empty file: ../../../../data/adspider/scrapy_us_video_batch_20230521T150652_9.csv\n",
      "Deleting empty file: ../../../../data/adspider/scrapy_us_video_batch_20230520T165849_9.csv\n",
      "Deleting empty file: ../../../../data/adspider/scrapy_us_video_batch_20230521T022832_9.csv\n",
      "Deleting empty file: ../../../../data/adspider/scrapy_us_video_batch_20230521T194244_9.csv\n",
      "Deleting empty file: ../../../../data/adspider/scrapy_us_video_batch_20230521T203534_9.csv\n",
      "Deleting empty file: ../../../../data/adspider/scrapy_us_video_batch_20230523T131527_1.csv\n",
      "Deleting empty file: ../../../../data/adspider/scrapy_us_video_batch_20230521T143354_9.csv\n",
      "(315000, 3)\n",
      "315000\n"
     ]
    }
   ],
   "source": [
    "import glob\n",
    "import os\n",
    "import pandas as pd\n",
    "\n",
    "folder_path = '../../../../data/data_processed/us_video_ads_batch/*.parquet'\n",
    "all_us_video = pd.concat([pd.read_parquet(f) for f in glob.glob(folder_path)])\n",
    "\n",
    "folder_path = '../../../../data/adspider/*.csv'\n",
    "dfs = []\n",
    "for f in glob.glob(folder_path):\n",
    "    try:\n",
    "        df = pd.read_csv(f)\n",
    "        dfs.append(df)\n",
    "    except pd.errors.EmptyDataError:\n",
    "        # Delete empty file\n",
    "        print(f\"Deleting empty file: {f}\")\n",
    "        os.remove(f)\n",
    "\n",
    "scraped_videos = pd.concat(dfs)\n",
    "print(scraped_videos.shape)\n",
    "print(scraped_videos['ad_id'].nunique())\n",
    "\n",
    "\n"
   ]
  },
  {
   "cell_type": "code",
   "execution_count": 8,
   "metadata": {},
   "outputs": [
    {
     "name": "stdout",
     "output_type": "stream",
     "text": [
      "DataFrame 1 has 12 more unique ad_id values than Scraped Dataframe 2\n"
     ]
    }
   ],
   "source": [
    "# Save a list of rows that erronous didn't get scraped.\n",
    "\n",
    "# all_us_video and scraped_videos are your two DataFrames\n",
    "ad_id_count_df1 = all_us_video['ad_id'].nunique()\n",
    "ad_id_count_df2 = scraped_videos['ad_id'].nunique()\n",
    "\n",
    "difference = ad_id_count_df1 - ad_id_count_df2\n",
    "print(f\"DataFrame 1 has {difference} more unique ad_id values than Scraped Dataframe 2\")\n",
    "\n",
    "# Find the rows in all_us_video that don't coincide with scraped_videos\n",
    "all_us_video_unique_rows = all_us_video[~all_us_video['ad_id'].isin(scraped_videos['ad_id'])]\n",
    "\n",
    "# Save the unique rows to a parquet file\n",
    "all_us_video_unique_rows.to_parquet('../../../../data/data_processed/us_video_ads_batch/us_video_ads_sample_155_final.parquet')\n"
   ]
  },
  {
   "cell_type": "code",
   "execution_count": null,
   "metadata": {},
   "outputs": [],
   "source": []
  }
 ],
 "metadata": {
  "kernelspec": {
   "display_name": "env_scrapy",
   "language": "python",
   "name": "python3"
  },
  "language_info": {
   "codemirror_mode": {
    "name": "ipython",
    "version": 3
   },
   "file_extension": ".py",
   "mimetype": "text/x-python",
   "name": "python",
   "nbconvert_exporter": "python",
   "pygments_lexer": "ipython3",
   "version": "3.8.10"
  },
  "orig_nbformat": 4
 },
 "nbformat": 4,
 "nbformat_minor": 2
}
