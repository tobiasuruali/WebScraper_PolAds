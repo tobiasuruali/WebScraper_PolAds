{
 "cells": [
  {
   "cell_type": "code",
   "execution_count": null,
   "metadata": {},
   "outputs": [],
   "source": []
  },
  {
   "cell_type": "code",
   "execution_count": null,
   "metadata": {},
   "outputs": [],
   "source": []
  },
  {
   "cell_type": "code",
   "execution_count": 1,
   "metadata": {},
   "outputs": [
    {
     "name": "stdout",
     "output_type": "stream",
     "text": [
      "['../../../../data/adspider/scrapy_us_video_batch_20230521T235324_33.csv', '../../../../data/adspider/scrapy_us_video_batch_20230521T235324_32.csv']\n"
     ]
    }
   ],
   "source": [
    "# Check for matching rows in parquet and csv files\n",
    "\n",
    "import glob\n",
    "import pandas as pd\n",
    "\n",
    "test_df = pd.read_parquet('../../../../data/data_processed/us_video_ads_batch/us_video_ads_sample_94.parquet')\n",
    "test_ad_ids = set(test_df['ad_id'])\n",
    "\n",
    "files = glob.glob('../../../../data/adspider/scrapy_us_video_batch_20230521T235324_*.csv')\n",
    "matching_files = []\n",
    "for file in files:\n",
    "    df = pd.read_csv(file)\n",
    "    if set(df['ad_id']).intersection(test_ad_ids):\n",
    "        matching_files.append(file)\n",
    "\n",
    "print(matching_files)\n"
   ]
  },
  {
   "cell_type": "code",
   "execution_count": 3,
   "metadata": {},
   "outputs": [
    {
     "name": "stdout",
     "output_type": "stream",
     "text": [
      "['us_video_ads_sample_94.parquet', 'us_video_ads_sample_113.parquet', 'us_video_ads_sample_138.parquet', 'us_video_ads_sample_73.parquet', 'us_video_ads_sample_147.parquet', 'us_video_ads_sample_120.parquet', 'us_video_ads_sample_100.parquet', 'us_video_ads_sample_6.parquet', 'us_video_ads_sample_146.parquet', 'us_video_ads_sample_90.parquet', 'us_video_ads_sample_107.parquet', 'us_video_ads_sample_85.parquet', 'us_video_ads_sample_45.parquet', 'us_video_ads_sample_150.parquet', 'us_video_ads_sample_108.parquet', 'us_video_ads_sample_28.parquet', 'us_video_ads_sample_21.parquet', 'us_video_ads_sample_106.parquet', 'us_video_ads_sample_74.parquet', 'us_video_ads_sample_3.parquet', 'us_video_ads_sample_133.parquet', 'us_video_ads_sample_141.parquet', 'us_video_ads_sample_142.parquet', 'us_video_ads_sample_18.parquet', 'us_video_ads_sample_56.parquet', 'us_video_ads_sample_91.parquet', 'us_video_ads_sample_82.parquet', 'us_video_ads_sample_119.parquet', 'us_video_ads_sample_32.parquet', 'us_video_ads_sample_49.parquet', 'us_video_ads_sample_11.parquet', 'us_video_ads_sample_35.parquet', 'us_video_ads_sample_140.parquet', 'us_video_ads_sample_101.parquet', 'us_video_ads_sample_79.parquet', 'us_video_ads_sample_33.parquet', 'us_video_ads_sample_5.parquet', 'us_video_ads_sample_92.parquet', 'us_video_ads_sample_61.parquet', 'us_video_ads_sample_4.parquet', 'us_video_ads_sample_70.parquet', 'us_video_ads_sample_26.parquet', 'us_video_ads_sample_144.parquet', 'us_video_ads_sample_124.parquet', 'us_video_ads_sample_14.parquet', 'us_video_ads_sample_87.parquet', 'us_video_ads_sample_64.parquet', 'us_video_ads_sample_9.parquet', 'us_video_ads_sample_31.parquet', 'us_video_ads_sample_114.parquet', 'us_video_ads_sample_36.parquet', 'us_video_ads_sample_116.parquet', 'us_video_ads_sample_109.parquet', 'us_video_ads_sample_48.parquet', 'us_video_ads_sample_50.parquet', 'us_video_ads_sample_134.parquet', 'us_video_ads_sample_27.parquet', 'us_video_ads_sample_23.parquet', 'us_video_ads_sample_125.parquet', 'us_video_ads_sample_97.parquet', 'us_video_ads_sample_16.parquet', 'us_video_ads_sample_131.parquet', 'us_video_ads_sample_57.parquet', 'us_video_ads_sample_46.parquet', 'us_video_ads_sample_154.parquet', 'us_video_ads_sample_34.parquet', 'us_video_ads_sample_98.parquet', 'us_video_ads_sample_137.parquet', 'us_video_ads_sample_25.parquet', 'us_video_ads_sample_8.parquet', 'us_video_ads_sample_29.parquet', 'us_video_ads_sample_2.parquet', 'us_video_ads_sample_84.parquet', 'us_video_ads_sample_10.parquet', 'us_video_ads_sample_99.parquet', 'us_video_ads_sample_103.parquet', 'us_video_ads_sample_88.parquet', 'us_video_ads_sample_127.parquet', 'us_video_ads_sample_148.parquet', 'us_video_ads_sample_135.parquet', 'us_video_ads_sample_77.parquet', 'us_video_ads_sample_145.parquet', 'us_video_ads_sample_13.parquet', 'us_video_ads_sample_15.parquet', 'us_video_ads_sample_66.parquet', 'us_video_ads_sample_122.parquet', 'us_video_ads_sample_118.parquet', 'us_video_ads_sample_44.parquet', 'us_video_ads_sample_1.parquet', 'us_video_ads_sample_129.parquet', 'us_video_ads_sample_93.parquet', 'us_video_ads_sample_112.parquet', 'us_video_ads_sample_86.parquet', 'us_video_ads_sample_40.parquet', 'us_video_ads_sample_136.parquet', 'us_video_ads_sample_12.parquet', 'us_video_ads_sample_72.parquet', 'us_video_ads_sample_62.parquet', 'us_video_ads_sample_37.parquet', 'us_video_ads_sample_149.parquet', 'us_video_ads_sample_54.parquet', 'us_video_ads_sample_121.parquet', 'us_video_ads_sample_143.parquet', 'us_video_ads_sample_83.parquet', 'us_video_ads_sample_65.parquet', 'us_video_ads_sample_96.parquet', 'us_video_ads_sample_111.parquet', 'us_video_ads_sample_153.parquet', 'us_video_ads_sample_128.parquet']\n",
      "['us_video_ads_sample_32.parquet', 'us_video_ads_sample_153.parquet', 'us_video_ads_sample_147.parquet']\n",
      "['us_video_ads_sample_94.parquet', 'us_video_ads_sample_113.parquet', 'us_video_ads_sample_138.parquet']\n"
     ]
    }
   ],
   "source": [
    "# Test functions for scraping single file\n",
    "\n",
    "import os\n",
    "import random\n",
    "import pickle\n",
    "\n",
    "folder = \"../../../../data/data_processed/us_video_ads_batch\"\n",
    "with open(\"../../../processed_files.pkl\", \"rb\") as f:\n",
    "    processed_files = pickle.load(f)\n",
    "\n",
    "\n",
    "total_unprocessed_files = [\n",
    "    filename\n",
    "    for filename in os.listdir(folder)\n",
    "    if filename.endswith(\".parquet\")\n",
    "    and filename not in processed_files\n",
    "]\n",
    "print(total_unprocessed_files)\n",
    "\n",
    "max_unprocessed_files = 3\n",
    "unprocessed_files = random.sample(total_unprocessed_files, max_unprocessed_files)\n",
    "\n",
    "print(unprocessed_files)\n",
    "print(total_unprocessed_files[:max_unprocessed_files])\n",
    "\n",
    "\n"
   ]
  }
 ],
 "metadata": {
  "kernelspec": {
   "display_name": "env_scrapy",
   "language": "python",
   "name": "python3"
  },
  "language_info": {
   "codemirror_mode": {
    "name": "ipython",
    "version": 3
   },
   "file_extension": ".py",
   "mimetype": "text/x-python",
   "name": "python",
   "nbconvert_exporter": "python",
   "pygments_lexer": "ipython3",
   "version": "3.8.10"
  },
  "orig_nbformat": 4
 },
 "nbformat": 4,
 "nbformat_minor": 2
}
