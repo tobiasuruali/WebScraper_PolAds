{
 "cells": [
  {
   "cell_type": "code",
   "execution_count": 17,
   "metadata": {},
   "outputs": [
    {
     "name": "stdout",
     "output_type": "stream",
     "text": [
      "                    ad_id date_range_start   \n",
      "0  CR17327428454810910721       2018-05-31  \\\n",
      "1  CR18391121292288851969       2018-05-31   \n",
      "2  CR17941042804528513025       2018-05-31   \n",
      "3  CR16806135698431148033       2018-05-31   \n",
      "4  CR06904690442680401921       2018-05-31   \n",
      "\n",
      "                                              ad_url           advertiser_id   \n",
      "0  https://adstransparency.google.com/advertiser/...  AR02433910412765298689  \\\n",
      "1  https://adstransparency.google.com/advertiser/...  AR02838733826560098305   \n",
      "2  https://adstransparency.google.com/advertiser/...  AR07102652013703331841   \n",
      "3  https://adstransparency.google.com/advertiser/...  AR07102652013703331841   \n",
      "4  https://adstransparency.google.com/advertiser/...  AR07102652013703331841   \n",
      "\n",
      "               advertiser_name  \n",
      "0  CLEARPATH ACTION FUND, INC.  \n",
      "1     DIANE BLACK FOR GOVERNOR  \n",
      "2       JOSH HAWLEY FOR SENATE  \n",
      "3       JOSH HAWLEY FOR SENATE  \n",
      "4       JOSH HAWLEY FOR SENATE  \n",
      "(315012, 5)\n",
      "315012\n"
     ]
    }
   ],
   "source": [
    "import pandas as pd\n",
    "\n",
    "df = pd.read_feather('../../../../data/data_processed/us_videos_ads.feather')\n",
    "start_urls = df['ad_url'].tolist()\n",
    "\n",
    "print(df.head())\n",
    "print(df.shape)\n",
    "print(df['ad_id'].nunique())\n"
   ]
  },
  {
   "cell_type": "code",
   "execution_count": null,
   "metadata": {},
   "outputs": [],
   "source": []
  },
  {
   "cell_type": "code",
   "execution_count": 2,
   "metadata": {},
   "outputs": [
    {
     "name": "stdout",
     "output_type": "stream",
     "text": [
      "{'us_video_ads_sample_38.parquet'}\n"
     ]
    }
   ],
   "source": [
    "import pickle\n",
    "\n",
    "# Replace 'processed_files.pkl' with the path to your pickle file\n",
    "with open('../../../processed_files.pkl', 'rb') as f:\n",
    "    processed_files = pickle.load(f)\n",
    "\n",
    "# Print the data\n",
    "print(processed_files)\n"
   ]
  },
  {
   "cell_type": "code",
   "execution_count": 27,
   "metadata": {},
   "outputs": [
    {
     "data": {
      "text/plain": [
       "(256, 3)"
      ]
     },
     "execution_count": 27,
     "metadata": {},
     "output_type": "execute_result"
    }
   ],
   "source": [
    "df.shape"
   ]
  },
  {
   "cell_type": "code",
   "execution_count": 28,
   "metadata": {},
   "outputs": [],
   "source": [
    "# Create smaller samples of the 315,000+ ads, make sure to not sample the same ad twice\n",
    "\n",
    "# i = 1\n",
    "# remaining_rows = df.shape[0]\n",
    "# sampled_ad_ids = set()\n",
    "# while remaining_rows > 0:\n",
    "#     n = min(remaining_rows, 2048)\n",
    "#     sample = df[~df['ad_id'].isin(sampled_ad_ids)].sample(n=n)\n",
    "#     sampled_ad_ids.update(sample['ad_id'].unique())\n",
    "#     sample.index.name = 'index'\n",
    "#     filename = f'../../../../data/data_processed/us_video_ads_batch/us_video_ads_sample_{i}.parquet'\n",
    "#     sample.to_parquet(filename, index=True)\n",
    "#     i += 1\n",
    "#     remaining_rows -= n\n",
    "\n",
    "\n"
   ]
  },
  {
   "cell_type": "code",
   "execution_count": 29,
   "metadata": {},
   "outputs": [
    {
     "data": {
      "text/html": [
       "<div>\n",
       "<style scoped>\n",
       "    .dataframe tbody tr th:only-of-type {\n",
       "        vertical-align: middle;\n",
       "    }\n",
       "\n",
       "    .dataframe tbody tr th {\n",
       "        vertical-align: top;\n",
       "    }\n",
       "\n",
       "    .dataframe thead th {\n",
       "        text-align: right;\n",
       "    }\n",
       "</style>\n",
       "<table border=\"1\" class=\"dataframe\">\n",
       "  <thead>\n",
       "    <tr style=\"text-align: right;\">\n",
       "      <th></th>\n",
       "      <th>ad_id</th>\n",
       "      <th>date_range_start</th>\n",
       "      <th>ad_url</th>\n",
       "      <th>advertiser_id</th>\n",
       "      <th>advertiser_name</th>\n",
       "    </tr>\n",
       "    <tr>\n",
       "      <th>index</th>\n",
       "      <th></th>\n",
       "      <th></th>\n",
       "      <th></th>\n",
       "      <th></th>\n",
       "      <th></th>\n",
       "    </tr>\n",
       "  </thead>\n",
       "  <tbody>\n",
       "    <tr>\n",
       "      <th>111594</th>\n",
       "      <td>CR01853964071162871809</td>\n",
       "      <td>2020-02-22</td>\n",
       "      <td>https://adstransparency.google.com/advertiser/...</td>\n",
       "      <td>AR09516581413973917697</td>\n",
       "      <td>MIKE BLOOMBERG 2020 INC</td>\n",
       "    </tr>\n",
       "    <tr>\n",
       "      <th>49761</th>\n",
       "      <td>CR16275187030936256513</td>\n",
       "      <td>2019-10-22</td>\n",
       "      <td>https://adstransparency.google.com/advertiser/...</td>\n",
       "      <td>AR17897780320510410753</td>\n",
       "      <td>GIFFORDS PAC</td>\n",
       "    </tr>\n",
       "    <tr>\n",
       "      <th>75226</th>\n",
       "      <td>CR18387469951611961345</td>\n",
       "      <td>2020-01-26</td>\n",
       "      <td>https://adstransparency.google.com/advertiser/...</td>\n",
       "      <td>AR09516581413973917697</td>\n",
       "      <td>MIKE BLOOMBERG 2020 INC</td>\n",
       "    </tr>\n",
       "    <tr>\n",
       "      <th>160174</th>\n",
       "      <td>CR05428844159702138881</td>\n",
       "      <td>2020-09-04</td>\n",
       "      <td>https://adstransparency.google.com/advertiser/...</td>\n",
       "      <td>AR00696784295460601857</td>\n",
       "      <td>CAL FOR NC</td>\n",
       "    </tr>\n",
       "    <tr>\n",
       "      <th>135459</th>\n",
       "      <td>CR00562222626479538177</td>\n",
       "      <td>2020-06-19</td>\n",
       "      <td>https://adstransparency.google.com/advertiser/...</td>\n",
       "      <td>AR12365610929977556993</td>\n",
       "      <td>BIDEN FOR PRESIDENT</td>\n",
       "    </tr>\n",
       "  </tbody>\n",
       "</table>\n",
       "</div>"
      ],
      "text/plain": [
       "                         ad_id date_range_start   \n",
       "index                                             \n",
       "111594  CR01853964071162871809       2020-02-22  \\\n",
       "49761   CR16275187030936256513       2019-10-22   \n",
       "75226   CR18387469951611961345       2020-01-26   \n",
       "160174  CR05428844159702138881       2020-09-04   \n",
       "135459  CR00562222626479538177       2020-06-19   \n",
       "\n",
       "                                                   ad_url   \n",
       "index                                                       \n",
       "111594  https://adstransparency.google.com/advertiser/...  \\\n",
       "49761   https://adstransparency.google.com/advertiser/...   \n",
       "75226   https://adstransparency.google.com/advertiser/...   \n",
       "160174  https://adstransparency.google.com/advertiser/...   \n",
       "135459  https://adstransparency.google.com/advertiser/...   \n",
       "\n",
       "                 advertiser_id          advertiser_name  \n",
       "index                                                    \n",
       "111594  AR09516581413973917697  MIKE BLOOMBERG 2020 INC  \n",
       "49761   AR17897780320510410753             GIFFORDS PAC  \n",
       "75226   AR09516581413973917697  MIKE BLOOMBERG 2020 INC  \n",
       "160174  AR00696784295460601857               CAL FOR NC  \n",
       "135459  AR12365610929977556993      BIDEN FOR PRESIDENT  "
      ]
     },
     "execution_count": 29,
     "metadata": {},
     "output_type": "execute_result"
    }
   ],
   "source": [
    "test_df = pd.read_parquet('../../../../data/data_processed/us_video_ads_batch/us_video_ads_sample_1.parquet')\n",
    "test_df.head()\n"
   ]
  },
  {
   "cell_type": "code",
   "execution_count": 30,
   "metadata": {},
   "outputs": [
    {
     "data": {
      "text/plain": [
       "(2048, 5)"
      ]
     },
     "execution_count": 30,
     "metadata": {},
     "output_type": "execute_result"
    }
   ],
   "source": [
    "test_df.shape"
   ]
  },
  {
   "cell_type": "code",
   "execution_count": 31,
   "metadata": {},
   "outputs": [
    {
     "name": "stdout",
     "output_type": "stream",
     "text": [
      "(315012, 5)\n",
      "315012\n"
     ]
    }
   ],
   "source": [
    "import glob\n",
    "import pandas as pd\n",
    "\n",
    "folder_path = '../../../../data/data_processed/us_video_ads_batch/*.parquet'\n",
    "all_us_video = pd.concat([pd.read_parquet(f) for f in glob.glob(folder_path)])\n",
    "\n",
    "print(all_us_video.shape)\n",
    "print(all_us_video['ad_id'].nunique())"
   ]
  },
  {
   "cell_type": "code",
   "execution_count": 33,
   "metadata": {},
   "outputs": [
    {
     "name": "stdout",
     "output_type": "stream",
     "text": [
      "Skipping empty file: ../../../../data/adspider/scrapy_us_video_batch_9.csv\n"
     ]
    },
    {
     "data": {
      "text/plain": [
       "(2048, 3)"
      ]
     },
     "execution_count": 33,
     "metadata": {},
     "output_type": "execute_result"
    }
   ],
   "source": [
    "import glob\n",
    "import pandas as pd\n",
    "\n",
    "folder_path = '../../../../data/adspider/*.csv'\n",
    "dfs = []\n",
    "for f in glob.glob(folder_path):\n",
    "    try:\n",
    "        df = pd.read_csv(f)\n",
    "        dfs.append(df)\n",
    "    except pd.errors.EmptyDataError:\n",
    "        print(f\"Skipping empty file: {f}\")\n",
    "\n",
    "scraped_videos = pd.concat(dfs)\n",
    "print(scraped_videos.shape)\n",
    "print(scraped_videos['ad_id'].nunique())\n"
   ]
  },
  {
   "cell_type": "code",
   "execution_count": null,
   "metadata": {},
   "outputs": [
    {
     "name": "stdout",
     "output_type": "stream",
     "text": [
      "DataFrame 1 has 312964 more unique ad_id values than DataFrame 2\n"
     ]
    }
   ],
   "source": [
    "# Assuming df1 and df2 are your two DataFrames\n",
    "ad_id_count_df1 = all_us_video['ad_id'].nunique()\n",
    "ad_id_count_df2 = scraped_videos['ad_id'].nunique()\n",
    "\n",
    "difference = ad_id_count_df1 - ad_id_count_df2\n",
    "print(f\"DataFrame 1 has {difference} more unique ad_id values than DataFrame 2\")\n"
   ]
  }
 ],
 "metadata": {
  "kernelspec": {
   "display_name": "env_scrapy",
   "language": "python",
   "name": "python3"
  },
  "language_info": {
   "codemirror_mode": {
    "name": "ipython",
    "version": 3
   },
   "file_extension": ".py",
   "mimetype": "text/x-python",
   "name": "python",
   "nbconvert_exporter": "python",
   "pygments_lexer": "ipython3",
   "version": "3.8.10"
  },
  "orig_nbformat": 4
 },
 "nbformat": 4,
 "nbformat_minor": 2
}
