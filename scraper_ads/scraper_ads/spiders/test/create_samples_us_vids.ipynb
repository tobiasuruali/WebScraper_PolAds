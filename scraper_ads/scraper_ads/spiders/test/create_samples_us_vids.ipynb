{
 "cells": [
  {
   "cell_type": "code",
   "execution_count": 1,
   "metadata": {},
   "outputs": [
    {
     "data": {
      "text/html": [
       "<div>\n",
       "<style scoped>\n",
       "    .dataframe tbody tr th:only-of-type {\n",
       "        vertical-align: middle;\n",
       "    }\n",
       "\n",
       "    .dataframe tbody tr th {\n",
       "        vertical-align: top;\n",
       "    }\n",
       "\n",
       "    .dataframe thead th {\n",
       "        text-align: right;\n",
       "    }\n",
       "</style>\n",
       "<table border=\"1\" class=\"dataframe\">\n",
       "  <thead>\n",
       "    <tr style=\"text-align: right;\">\n",
       "      <th></th>\n",
       "      <th>ad_id</th>\n",
       "      <th>date_range_start</th>\n",
       "      <th>ad_url</th>\n",
       "      <th>advertiser_id</th>\n",
       "      <th>advertiser_name</th>\n",
       "    </tr>\n",
       "  </thead>\n",
       "  <tbody>\n",
       "    <tr>\n",
       "      <th>0</th>\n",
       "      <td>CR17327428454810910721</td>\n",
       "      <td>2018-05-31</td>\n",
       "      <td>https://adstransparency.google.com/advertiser/...</td>\n",
       "      <td>AR02433910412765298689</td>\n",
       "      <td>CLEARPATH ACTION FUND, INC.</td>\n",
       "    </tr>\n",
       "    <tr>\n",
       "      <th>1</th>\n",
       "      <td>CR18391121292288851969</td>\n",
       "      <td>2018-05-31</td>\n",
       "      <td>https://adstransparency.google.com/advertiser/...</td>\n",
       "      <td>AR02838733826560098305</td>\n",
       "      <td>DIANE BLACK FOR GOVERNOR</td>\n",
       "    </tr>\n",
       "    <tr>\n",
       "      <th>2</th>\n",
       "      <td>CR17941042804528513025</td>\n",
       "      <td>2018-05-31</td>\n",
       "      <td>https://adstransparency.google.com/advertiser/...</td>\n",
       "      <td>AR07102652013703331841</td>\n",
       "      <td>JOSH HAWLEY FOR SENATE</td>\n",
       "    </tr>\n",
       "    <tr>\n",
       "      <th>3</th>\n",
       "      <td>CR16806135698431148033</td>\n",
       "      <td>2018-05-31</td>\n",
       "      <td>https://adstransparency.google.com/advertiser/...</td>\n",
       "      <td>AR07102652013703331841</td>\n",
       "      <td>JOSH HAWLEY FOR SENATE</td>\n",
       "    </tr>\n",
       "    <tr>\n",
       "      <th>4</th>\n",
       "      <td>CR06904690442680401921</td>\n",
       "      <td>2018-05-31</td>\n",
       "      <td>https://adstransparency.google.com/advertiser/...</td>\n",
       "      <td>AR07102652013703331841</td>\n",
       "      <td>JOSH HAWLEY FOR SENATE</td>\n",
       "    </tr>\n",
       "  </tbody>\n",
       "</table>\n",
       "</div>"
      ],
      "text/plain": [
       "                    ad_id date_range_start   \n",
       "0  CR17327428454810910721       2018-05-31  \\\n",
       "1  CR18391121292288851969       2018-05-31   \n",
       "2  CR17941042804528513025       2018-05-31   \n",
       "3  CR16806135698431148033       2018-05-31   \n",
       "4  CR06904690442680401921       2018-05-31   \n",
       "\n",
       "                                              ad_url           advertiser_id   \n",
       "0  https://adstransparency.google.com/advertiser/...  AR02433910412765298689  \\\n",
       "1  https://adstransparency.google.com/advertiser/...  AR02838733826560098305   \n",
       "2  https://adstransparency.google.com/advertiser/...  AR07102652013703331841   \n",
       "3  https://adstransparency.google.com/advertiser/...  AR07102652013703331841   \n",
       "4  https://adstransparency.google.com/advertiser/...  AR07102652013703331841   \n",
       "\n",
       "               advertiser_name  \n",
       "0  CLEARPATH ACTION FUND, INC.  \n",
       "1     DIANE BLACK FOR GOVERNOR  \n",
       "2       JOSH HAWLEY FOR SENATE  \n",
       "3       JOSH HAWLEY FOR SENATE  \n",
       "4       JOSH HAWLEY FOR SENATE  "
      ]
     },
     "execution_count": 1,
     "metadata": {},
     "output_type": "execute_result"
    }
   ],
   "source": [
    "import pandas as pd\n",
    "\n",
    "df = pd.read_feather('../../../../data/data_processed/us_videos_ads.feather')\n",
    "start_urls = df['ad_url'].tolist()\n",
    "\n",
    "df.head()"
   ]
  },
  {
   "cell_type": "code",
   "execution_count": 2,
   "metadata": {},
   "outputs": [
    {
     "data": {
      "text/plain": [
       "(315012, 5)"
      ]
     },
     "execution_count": 2,
     "metadata": {},
     "output_type": "execute_result"
    }
   ],
   "source": [
    "df.shape"
   ]
  },
  {
   "cell_type": "code",
   "execution_count": null,
   "metadata": {},
   "outputs": [],
   "source": [
    "i = 1\n",
    "remaining_rows = df.shape[0]\n",
    "while remaining_rows >= 2048:\n",
    "    sample = df.sample(n=2048)\n",
    "    sample.index.name = 'index'\n",
    "    filename = f'../../../../data/data_processed/us_video_ads_sample_{i}.parquet'\n",
    "    sample.to_parquet(filename, index=True)\n",
    "    i += 1\n",
    "    remaining_rows -= 2048\n"
   ]
  }
 ],
 "metadata": {
  "kernelspec": {
   "display_name": "env_scrapy",
   "language": "python",
   "name": "python3"
  },
  "language_info": {
   "codemirror_mode": {
    "name": "ipython",
    "version": 3
   },
   "file_extension": ".py",
   "mimetype": "text/x-python",
   "name": "python",
   "nbconvert_exporter": "python",
   "pygments_lexer": "ipython3",
   "version": "3.8.10"
  },
  "orig_nbformat": 4
 },
 "nbformat": 4,
 "nbformat_minor": 2
}
