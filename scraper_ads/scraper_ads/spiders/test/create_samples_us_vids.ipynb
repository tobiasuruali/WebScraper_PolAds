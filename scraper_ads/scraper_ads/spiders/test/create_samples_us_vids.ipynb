{
 "cells": [
  {
   "cell_type": "code",
   "execution_count": 15,
   "metadata": {},
   "outputs": [
    {
     "data": {
      "text/html": [
       "<div>\n",
       "<style scoped>\n",
       "    .dataframe tbody tr th:only-of-type {\n",
       "        vertical-align: middle;\n",
       "    }\n",
       "\n",
       "    .dataframe tbody tr th {\n",
       "        vertical-align: top;\n",
       "    }\n",
       "\n",
       "    .dataframe thead th {\n",
       "        text-align: right;\n",
       "    }\n",
       "</style>\n",
       "<table border=\"1\" class=\"dataframe\">\n",
       "  <thead>\n",
       "    <tr style=\"text-align: right;\">\n",
       "      <th></th>\n",
       "      <th>ad_id</th>\n",
       "      <th>date_range_start</th>\n",
       "      <th>ad_url</th>\n",
       "      <th>advertiser_id</th>\n",
       "      <th>advertiser_name</th>\n",
       "    </tr>\n",
       "  </thead>\n",
       "  <tbody>\n",
       "    <tr>\n",
       "      <th>0</th>\n",
       "      <td>CR17327428454810910721</td>\n",
       "      <td>2018-05-31</td>\n",
       "      <td>https://adstransparency.google.com/advertiser/...</td>\n",
       "      <td>AR02433910412765298689</td>\n",
       "      <td>CLEARPATH ACTION FUND, INC.</td>\n",
       "    </tr>\n",
       "    <tr>\n",
       "      <th>1</th>\n",
       "      <td>CR18391121292288851969</td>\n",
       "      <td>2018-05-31</td>\n",
       "      <td>https://adstransparency.google.com/advertiser/...</td>\n",
       "      <td>AR02838733826560098305</td>\n",
       "      <td>DIANE BLACK FOR GOVERNOR</td>\n",
       "    </tr>\n",
       "    <tr>\n",
       "      <th>2</th>\n",
       "      <td>CR17941042804528513025</td>\n",
       "      <td>2018-05-31</td>\n",
       "      <td>https://adstransparency.google.com/advertiser/...</td>\n",
       "      <td>AR07102652013703331841</td>\n",
       "      <td>JOSH HAWLEY FOR SENATE</td>\n",
       "    </tr>\n",
       "    <tr>\n",
       "      <th>3</th>\n",
       "      <td>CR16806135698431148033</td>\n",
       "      <td>2018-05-31</td>\n",
       "      <td>https://adstransparency.google.com/advertiser/...</td>\n",
       "      <td>AR07102652013703331841</td>\n",
       "      <td>JOSH HAWLEY FOR SENATE</td>\n",
       "    </tr>\n",
       "    <tr>\n",
       "      <th>4</th>\n",
       "      <td>CR06904690442680401921</td>\n",
       "      <td>2018-05-31</td>\n",
       "      <td>https://adstransparency.google.com/advertiser/...</td>\n",
       "      <td>AR07102652013703331841</td>\n",
       "      <td>JOSH HAWLEY FOR SENATE</td>\n",
       "    </tr>\n",
       "  </tbody>\n",
       "</table>\n",
       "</div>"
      ],
      "text/plain": [
       "                    ad_id date_range_start   \n",
       "0  CR17327428454810910721       2018-05-31  \\\n",
       "1  CR18391121292288851969       2018-05-31   \n",
       "2  CR17941042804528513025       2018-05-31   \n",
       "3  CR16806135698431148033       2018-05-31   \n",
       "4  CR06904690442680401921       2018-05-31   \n",
       "\n",
       "                                              ad_url           advertiser_id   \n",
       "0  https://adstransparency.google.com/advertiser/...  AR02433910412765298689  \\\n",
       "1  https://adstransparency.google.com/advertiser/...  AR02838733826560098305   \n",
       "2  https://adstransparency.google.com/advertiser/...  AR07102652013703331841   \n",
       "3  https://adstransparency.google.com/advertiser/...  AR07102652013703331841   \n",
       "4  https://adstransparency.google.com/advertiser/...  AR07102652013703331841   \n",
       "\n",
       "               advertiser_name  \n",
       "0  CLEARPATH ACTION FUND, INC.  \n",
       "1     DIANE BLACK FOR GOVERNOR  \n",
       "2       JOSH HAWLEY FOR SENATE  \n",
       "3       JOSH HAWLEY FOR SENATE  \n",
       "4       JOSH HAWLEY FOR SENATE  "
      ]
     },
     "execution_count": 15,
     "metadata": {},
     "output_type": "execute_result"
    }
   ],
   "source": [
    "import pandas as pd\n",
    "\n",
    "df = pd.read_feather('../../../../data/data_processed/us_videos_ads.feather')\n",
    "start_urls = df['ad_url'].tolist()\n",
    "\n",
    "df.head()"
   ]
  },
  {
   "cell_type": "code",
   "execution_count": 16,
   "metadata": {},
   "outputs": [
    {
     "data": {
      "text/plain": [
       "(315012, 5)"
      ]
     },
     "execution_count": 16,
     "metadata": {},
     "output_type": "execute_result"
    }
   ],
   "source": [
    "df.shape"
   ]
  },
  {
   "cell_type": "code",
   "execution_count": 17,
   "metadata": {},
   "outputs": [],
   "source": [
    "# Create smaller samples of the 315,000+ ads\n",
    "\n",
    "i = 1\n",
    "remaining_rows = df.shape[0]\n",
    "while remaining_rows > 0:\n",
    "    n = min(remaining_rows, 2048)\n",
    "    sample = df.sample(n=n)\n",
    "    sample.index.name = 'index'\n",
    "    filename = f'../../../../data/data_processed/us_video_ads_batch/us_video_ads_sample_{i}.parquet'\n",
    "    sample.to_parquet(filename, index=True)\n",
    "    i += 1\n",
    "    remaining_rows -= n\n",
    "\n"
   ]
  },
  {
   "cell_type": "code",
   "execution_count": 10,
   "metadata": {},
   "outputs": [
    {
     "data": {
      "text/html": [
       "<div>\n",
       "<style scoped>\n",
       "    .dataframe tbody tr th:only-of-type {\n",
       "        vertical-align: middle;\n",
       "    }\n",
       "\n",
       "    .dataframe tbody tr th {\n",
       "        vertical-align: top;\n",
       "    }\n",
       "\n",
       "    .dataframe thead th {\n",
       "        text-align: right;\n",
       "    }\n",
       "</style>\n",
       "<table border=\"1\" class=\"dataframe\">\n",
       "  <thead>\n",
       "    <tr style=\"text-align: right;\">\n",
       "      <th></th>\n",
       "      <th>ad_id</th>\n",
       "      <th>date_range_start</th>\n",
       "      <th>ad_url</th>\n",
       "      <th>advertiser_id</th>\n",
       "      <th>advertiser_name</th>\n",
       "    </tr>\n",
       "    <tr>\n",
       "      <th>index</th>\n",
       "      <th></th>\n",
       "      <th></th>\n",
       "      <th></th>\n",
       "      <th></th>\n",
       "      <th></th>\n",
       "    </tr>\n",
       "  </thead>\n",
       "  <tbody>\n",
       "    <tr>\n",
       "      <th>92208</th>\n",
       "      <td>CR07501196528908763137</td>\n",
       "      <td>2020-02-07</td>\n",
       "      <td>https://adstransparency.google.com/advertiser/...</td>\n",
       "      <td>AR09516581413973917697</td>\n",
       "      <td>MIKE BLOOMBERG 2020 INC</td>\n",
       "    </tr>\n",
       "    <tr>\n",
       "      <th>101835</th>\n",
       "      <td>CR15351533629368958977</td>\n",
       "      <td>2020-02-20</td>\n",
       "      <td>https://adstransparency.google.com/advertiser/...</td>\n",
       "      <td>AR09516581413973917697</td>\n",
       "      <td>MIKE BLOOMBERG 2020 INC</td>\n",
       "    </tr>\n",
       "    <tr>\n",
       "      <th>166017</th>\n",
       "      <td>CR09820380462458077185</td>\n",
       "      <td>2020-09-11</td>\n",
       "      <td>https://adstransparency.google.com/advertiser/...</td>\n",
       "      <td>AR00887684527932047361</td>\n",
       "      <td>STEVE DAINES FOR MONTANA</td>\n",
       "    </tr>\n",
       "    <tr>\n",
       "      <th>161589</th>\n",
       "      <td>CR13679713005196017665</td>\n",
       "      <td>2020-09-08</td>\n",
       "      <td>https://adstransparency.google.com/advertiser/...</td>\n",
       "      <td>AR00887684527932047361</td>\n",
       "      <td>STEVE DAINES FOR MONTANA</td>\n",
       "    </tr>\n",
       "    <tr>\n",
       "      <th>83027</th>\n",
       "      <td>CR08915414772833320961</td>\n",
       "      <td>2020-01-29</td>\n",
       "      <td>https://adstransparency.google.com/advertiser/...</td>\n",
       "      <td>AR12365610929977556993</td>\n",
       "      <td>BIDEN FOR PRESIDENT</td>\n",
       "    </tr>\n",
       "  </tbody>\n",
       "</table>\n",
       "</div>"
      ],
      "text/plain": [
       "                         ad_id date_range_start   \n",
       "index                                             \n",
       "92208   CR07501196528908763137       2020-02-07  \\\n",
       "101835  CR15351533629368958977       2020-02-20   \n",
       "166017  CR09820380462458077185       2020-09-11   \n",
       "161589  CR13679713005196017665       2020-09-08   \n",
       "83027   CR08915414772833320961       2020-01-29   \n",
       "\n",
       "                                                   ad_url   \n",
       "index                                                       \n",
       "92208   https://adstransparency.google.com/advertiser/...  \\\n",
       "101835  https://adstransparency.google.com/advertiser/...   \n",
       "166017  https://adstransparency.google.com/advertiser/...   \n",
       "161589  https://adstransparency.google.com/advertiser/...   \n",
       "83027   https://adstransparency.google.com/advertiser/...   \n",
       "\n",
       "                 advertiser_id           advertiser_name  \n",
       "index                                                     \n",
       "92208   AR09516581413973917697   MIKE BLOOMBERG 2020 INC  \n",
       "101835  AR09516581413973917697   MIKE BLOOMBERG 2020 INC  \n",
       "166017  AR00887684527932047361  STEVE DAINES FOR MONTANA  \n",
       "161589  AR00887684527932047361  STEVE DAINES FOR MONTANA  \n",
       "83027   AR12365610929977556993       BIDEN FOR PRESIDENT  "
      ]
     },
     "execution_count": 10,
     "metadata": {},
     "output_type": "execute_result"
    }
   ],
   "source": [
    "test_df = pd.read_parquet('../../../../data/data_processed/us_video_ads_batch/us_video_ads_sample_1.parquet')\n",
    "test_df.head()\n"
   ]
  },
  {
   "cell_type": "code",
   "execution_count": 11,
   "metadata": {},
   "outputs": [
    {
     "data": {
      "text/plain": [
       "(2048, 5)"
      ]
     },
     "execution_count": 11,
     "metadata": {},
     "output_type": "execute_result"
    }
   ],
   "source": [
    "test_df.shape"
   ]
  },
  {
   "cell_type": "code",
   "execution_count": 18,
   "metadata": {},
   "outputs": [
    {
     "data": {
      "text/plain": [
       "(315012, 5)"
      ]
     },
     "execution_count": 18,
     "metadata": {},
     "output_type": "execute_result"
    }
   ],
   "source": [
    "import glob\n",
    "import pandas as pd\n",
    "\n",
    "folder_path = '../../../../data/data_processed/us_video_ads_batch/*.parquet'\n",
    "all_test = pd.concat([pd.read_parquet(f) for f in glob.glob(folder_path)])\n",
    "\n",
    "all_test.shape"
   ]
  },
  {
   "cell_type": "code",
   "execution_count": null,
   "metadata": {},
   "outputs": [],
   "source": []
  }
 ],
 "metadata": {
  "kernelspec": {
   "display_name": "env_scrapy",
   "language": "python",
   "name": "python3"
  },
  "language_info": {
   "codemirror_mode": {
    "name": "ipython",
    "version": 3
   },
   "file_extension": ".py",
   "mimetype": "text/x-python",
   "name": "python",
   "nbconvert_exporter": "python",
   "pygments_lexer": "ipython3",
   "version": "3.8.10"
  },
  "orig_nbformat": 4
 },
 "nbformat": 4,
 "nbformat_minor": 2
}
